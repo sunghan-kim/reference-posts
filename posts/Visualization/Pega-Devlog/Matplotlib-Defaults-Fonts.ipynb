{
 "cells": [
  {
   "cell_type": "markdown",
   "metadata": {},
   "source": [
    "# Matplotlib Defaults & Fonots\n",
    "\n",
    "[포스트 링크](https://jehyunlee.github.io/2020/02/13/Python-DS-2-matplotlib_defaults_and_fonts/)"
   ]
  },
  {
   "cell_type": "code",
   "execution_count": 1,
   "metadata": {},
   "outputs": [
    {
     "name": "stdout",
     "output_type": "stream",
     "text": [
      "3.1.1\n"
     ]
    }
   ],
   "source": [
    "import matplotlib.pyplot as plt\n",
    "import matplotlib as mpl\n",
    "%matplotlib inline\n",
    "print(mpl.__version__)"
   ]
  },
  {
   "cell_type": "markdown",
   "metadata": {},
   "source": [
    "<br>\n",
    "\n",
    "# 1. 기본값 설정"
   ]
  },
  {
   "cell_type": "markdown",
   "metadata": {},
   "source": [
    "## 1.1 rcParams\n",
    "\n",
    "- Matplotlib에서 그리는 그래프, 폰트 등의 기본값을 설정합니다.\n",
    "- `plt.rcParams`와 `mpl.rcParams` 모두 동일한 결과를 도출하므로 편한 것을 사용하면 됩니다.\n",
    "- 사용 가능한 `rcParams` 항목 : `plt.rcParams`\n",
    "- 초기값으로 되돌리기 : `mpl.rcParams.update(mpl.rcParamsDefault)`"
   ]
  },
  {
   "cell_type": "code",
   "execution_count": 5,
   "metadata": {},
   "outputs": [],
   "source": [
    "plt.rcParams['figure.figsize'] = (5, 5)\n",
    "plt.rcParams['figure.dpi'] = 72\n",
    "plt.rcParams['lines.linewidth'] = 4\n",
    "plt.rcParams['axes.grid'] = True\n",
    "\n",
    "plt.rcParams['savefig.dpi'] = 200\n",
    "plt.rcParams['savefig.transparent'] = True\n",
    "\n",
    "plt.rcParams['font.family'] = 'Dejavu Sans'\n",
    "plt.rcParams['font.size'] = 14\n",
    "\n",
    "#plt.rcParams"
   ]
  },
  {
   "cell_type": "markdown",
   "metadata": {},
   "source": [
    "<br>\n",
    "\n",
    "## 1.2 rc\n",
    "\n",
    "- 1.1에서 설명한 `plt.rcParams`는 warning message를 보일 때가 있습니다.\n",
    "- `matplotlib.rc()`를 사용하면 warning message없이 기본 설정을 변경할 수 있습니다.\n",
    "- `mpl.rc()`와 `plt.rc()`는 동일하게 작동하므로 편한 것을 사용하면 됩니다."
   ]
  },
  {
   "cell_type": "markdown",
   "metadata": {},
   "source": [
    "- 1.1의 예제 코드는 다음 코드와 정확히 일치합니다. "
   ]
  },
  {
   "cell_type": "code",
   "execution_count": 6,
   "metadata": {},
   "outputs": [],
   "source": [
    "from matplotlib import rc\n",
    "\n",
    "rc('figure', figsize=(5,5))\n",
    "rc('lines', linewidth=4)\n",
    "rc('axes', grid=True)\n",
    "\n",
    "rc('lines', linewidth=2, color='r')\n",
    "rc('savefig', dpi=200, transparent=True)\n",
    "rc('font', family='Denaju Sans', size=14)\n",
    "\n",
    "#plt.rcParams"
   ]
  },
  {
   "cell_type": "markdown",
   "metadata": {},
   "source": [
    "- 같은 항목(`lines` 등)은 한 줄로 여러 속성을 동시에 정의할 수 있습니다.\n",
    "- 이 특징을 확장하면 다음처럼 dictionary 형태로 깔끔한 관리가 가능합니다."
   ]
  },
  {
   "cell_type": "code",
   "execution_count": 7,
   "metadata": {},
   "outputs": [],
   "source": [
    "font = {'family': 'Denaju Sans',\n",
    "        'size': 14,\n",
    "        'weight': 'bold'}\n",
    "\n",
    "rc('font', **font)"
   ]
  },
  {
   "cell_type": "markdown",
   "metadata": {},
   "source": [
    "- 설정을 초기값으로 복원하려면 `mpl.rcdefaults()`를 실행하면 됩니다."
   ]
  },
  {
   "cell_type": "markdown",
   "metadata": {},
   "source": [
    "<br>\n",
    "\n",
    "## 1.3 style sheets"
   ]
  },
  {
   "cell_type": "markdown",
   "metadata": {},
   "source": [
    "- 그래프 배경색, 색상 표, 폰트, 선 굵기 등이 일괄적으로 정해진 세트입니다.\n",
    "- 본인 스타일에 맞는 것을 가져다 사용하면 된다.\n",
    "- 사용 가능한 `style` 항목 : `plt.style.available`\n",
    "- 기본 설정으로 되돌리기 : `plt.style.use('default')`"
   ]
  },
  {
   "cell_type": "code",
   "execution_count": 9,
   "metadata": {},
   "outputs": [
    {
     "data": {
      "image/png": "[encoded data removed]",
      "text/plain": [
       "<Figure size 360x216 with 1 Axes>"
      ]
     },
     "metadata": {},
     "output_type": "display_data"
    }
   ],
   "source": [
    "plt.style.use('ggplot')\n",
    "\n",
    "fig, ax = plt.subplots(figsize=(5,3))\n",
    "\n",
    "data = [10, 24, 30, 50, 40]\n",
    "ax.plot(data)\n",
    "plt.savefig('2_mpl_6.png', dip=72)\n",
    "plt.show()"
   ]
  },
  {
   "cell_type": "markdown",
   "metadata": {},
   "source": [
    "<br>\n",
    "\n",
    "## 1.4 rc_file : 기본값 custom 설정 파일\n",
    "\n",
    "- 1.1 ~ 1.3은 필요할 때 기본값 설정을 변경하는 일이다.\n",
    "  - 예를 들면 EDA Jupyter Notebook을 하나 만들 때, 처음에 초기값들을 잡아놓고 실행할 수 있다.\n",
    "- 자주 사용하는 설정을 어딘가 저장해두고 `ctrl + c/v`로 불러올 수도 있겠지만, 이것마저도 은근히 귀찮을 수 있다.\n",
    "- 상황에 따라 다른 초기값을 불러오고 싶다면 **여러 개의 다른 파일로 저장해놓고 불러오는 것이 가장 좋은 방법**일 수 있다."
   ]
  },
  {
   "cell_type": "markdown",
   "metadata": {},
   "source": [
    "- matplotlib는 파일 입력을 통한 기본값 일괄 설정을 지원한다."
   ]
  },
  {
   "cell_type": "markdown",
   "metadata": {},
   "source": [
    "<br>\n",
    "\n",
    "### 1.4.1 먼저, matplotlib이 불러오는 기본값 설정 파일을 확인"
   ]
  },
  {
   "cell_type": "markdown",
   "metadata": {},
   "source": [
    "- `mpl.matplotlib_fname()`"
   ]
  },
  {
   "cell_type": "code",
   "execution_count": 10,
   "metadata": {},
   "outputs": [
    {
     "name": "stdout",
     "output_type": "stream",
     "text": [
      "C:\\Users\\shkim\\AppData\\Local\\conda\\conda\\envs\\python36\\lib\\site-packages\\matplotlib\\mpl-data\\matplotlibrc\n"
     ]
    }
   ],
   "source": [
    "mplfile = mpl.matplotlib_fname()\n",
    "print(mplfile)"
   ]
  },
  {
   "cell_type": "markdown",
   "metadata": {},
   "source": [
    "<br>\n",
    "\n",
    "### 1.4.2 파일을 복사해서 연다.\n",
    "\n",
    "- 파이썬 기본 명령어(`shutil` 등)을 사용해서 가져온다."
   ]
  },
  {
   "cell_type": "code",
   "execution_count": 12,
   "metadata": {},
   "outputs": [
    {
     "data": {
      "text/plain": [
       "'C:\\\\shkim\\\\jupyter notebook\\\\reference-posts\\\\posts\\\\Visualization\\\\Pega-Devlog\\\\my_mplfile'"
      ]
     },
     "execution_count": 12,
     "metadata": {},
     "output_type": "execute_result"
    }
   ],
   "source": [
    "import shutil, os\n",
    "\n",
    "currpath = os.getcwd()\n",
    "currmplfile = os.path.join(currpath, 'my_mplfile')\n",
    "shutil.copy(mplfile, currmplfile)"
   ]
  },
  {
   "cell_type": "markdown",
   "metadata": {},
   "source": [
    "<br>\n",
    "\n",
    "### 1.4.3 부분적으로 수정\n",
    "\n",
    "- 수정 전후의 차이를 알 수 있도록 수정하기 전에 먼저 그림을 그려본다."
   ]
  },
  {
   "cell_type": "code",
   "execution_count": 13,
   "metadata": {},
   "outputs": [
    {
     "data": {
      "image/png": "[encoded data removed]",
      "text/plain": [
       "<Figure size 720x216 with 1 Axes>"
      ]
     },
     "metadata": {},
     "output_type": "display_data"
    }
   ],
   "source": [
    "fig, ax = plt.subplots(figsize=(10,3))\n",
    "\n",
    "data = [10, 24, 30, 50, 40]\n",
    "ax.plot(data)\n",
    "\n",
    "plt.show()"
   ]
  },
  {
   "cell_type": "markdown",
   "metadata": {},
   "source": [
    "<br>\n",
    "\n",
    "- 복사해 온 `my_mplfile`에서 원하는 부분을 수정한다.\n",
    "- 간단하게 `line.linewidth`를 두껍게(1.5 -> 3), `line.linestyle`를 실선에서 점선으로(`-` -> `:`) 수정해 준다.\n",
    "- 수정한 항목은 맨 앞의 `#`를 지워서 활성화하는 것을 주의해야 한다."
   ]
  },
  {
   "cell_type": "markdown",
   "metadata": {},
   "source": [
    "<br>\n",
    "\n",
    "- 이제 `mpl.rc_file()`을 실행해서 수정한 설정파일을 불러온다."
   ]
  },
  {
   "cell_type": "code",
   "execution_count": 15,
   "metadata": {},
   "outputs": [],
   "source": [
    "mpl.rc_file('my_mplfile', use_default_template=False)\n",
    "#mpl.rcParams"
   ]
  },
  {
   "cell_type": "markdown",
   "metadata": {},
   "source": [
    "<br>\n",
    "\n",
    "### 1.4.4 똑같은 그림을 그려본다.\n",
    "\n",
    "- 1.4.3의 코드를 다시 실행한다.\n",
    "- 선의 굴기와 모양이 변한 것을 확인할 수 있다."
   ]
  },
  {
   "cell_type": "code",
   "execution_count": 16,
   "metadata": {},
   "outputs": [
    {
     "data": {
      "image/png": "[encoded data removed]",
      "text/plain": [
       "<Figure size 720x216 with 1 Axes>"
      ]
     },
     "metadata": {},
     "output_type": "display_data"
    }
   ],
   "source": [
    "fig, ax = plt.subplots(figsize=(10,3))\n",
    "\n",
    "data = [10, 24, 30, 50, 40]\n",
    "ax.plot(data)\n",
    "\n",
    "plt.show()"
   ]
  },
  {
   "cell_type": "markdown",
   "metadata": {},
   "source": [
    "<br>\n",
    "\n",
    "- matplotlib 본연의 기본값으로 되돌릴 때는 `mpl.rc_file_defaults()`를 실행하면 된다."
   ]
  },
  {
   "cell_type": "code",
   "execution_count": 18,
   "metadata": {},
   "outputs": [],
   "source": [
    "mpl.rc_file_defaults()"
   ]
  },
  {
   "cell_type": "markdown",
   "metadata": {},
   "source": [
    "<br>\n",
    "\n",
    "# 2. Font\n",
    "\n",
    "- 그래프에 들어가는 글자들의 폰트를 설정한다.\n",
    "- `plt.suptitle`, `ax.title`, `ax.xlabel`, `axes.xticklabels`, `ax.annotate`, `ax.text` 등으로 곳곳의 폰트를 설정할 수 있다."
   ]
  },
  {
   "cell_type": "markdown",
   "metadata": {},
   "source": [
    "<br>\n",
    "\n",
    "## 2.1 `mpl.font_manager.FontProperties`\n",
    "\n",
    "- 일반적으로 `mpl.font_manager.FontProperties`를 사용해서 설정할 수 있다.\n",
    "- `FontProperties`를 이용해 폰트 종류, 크기, 스타일 등을 설정한 후 text 입력 시 `fontproperties=`로 입력한다."
   ]
  },
  {
   "cell_type": "code",
   "execution_count": 19,
   "metadata": {},
   "outputs": [
    {
     "data": {
      "image/png": "[encoded data removed]",
      "text/plain": [
       "<Figure size 500x300 with 1 Axes>"
      ]
     },
     "metadata": {},
     "output_type": "display_data"
    }
   ],
   "source": [
    "# font setting\n",
    "font_setting0 = mpl.font_manager.FontProperties()\n",
    "font_setting0.set_family('Dejavu Sans') # 'serif', 'sans-serif', 'cursive', 'fantasy', 'monospace'\n",
    "font_setting0.set_size(20)\n",
    "font_setting0.set_style('normal') # 'normal', 'oblique', 'italic'\n",
    "font_setting0.set_weight('bold')\n",
    "\n",
    "fig, ax = plt.subplots(figsize=(5,3))\n",
    "\n",
    "data = [10, 24, 30, 50, 40]\n",
    "ax.plot(data)\n",
    "ax.set_title(\"title\", fontproperties=font_setting0)\n",
    "\n",
    "plt.show()"
   ]
  },
  {
   "cell_type": "markdown",
   "metadata": {},
   "source": [
    "<br>\n",
    "\n",
    "## 2.2 `fontdict`\n",
    "\n",
    "- 폰트 설정을 dictionary type으로도 입력할 수 있다.\n",
    "- dictionary의 key와 value는 [matplotlib User's Guide](https://matplotlib.org/3.1.1/tutorials/text/text_props.html)에 정리되어 있다.\n",
    "- `plt.suptitle` [공식문서](https://matplotlib.org/api/_as_gen/matplotlib.pyplot.suptitle.html)에는 `fontdict` 항목이 없지만 사용 가능하다."
   ]
  },
  {
   "cell_type": "code",
   "execution_count": 23,
   "metadata": {},
   "outputs": [
    {
     "data": {
      "image/png": "[encoded data removed]",
      "text/plain": [
       "<Figure size 500x300 with 1 Axes>"
      ]
     },
     "metadata": {},
     "output_type": "display_data"
    }
   ],
   "source": [
    "# font setting\n",
    "fontdict = {\n",
    "    'family': 'serif',\n",
    "    'size': 15,\n",
    "    'backgroundcolor': 'yellow',\n",
    "    'color': 'blue',\n",
    "    'weight': 'normal',\n",
    "    'verticalalignment': 'baseline',\n",
    "    'horizontalalignment': 'left'\n",
    "}\n",
    "\n",
    "fig, ax = plt.subplots(figsize=(5, 3))\n",
    "\n",
    "data = [10, 24, 30, 50, 40]\n",
    "ax.plot(data)\n",
    "ax.set_title(\"title\", fontdict=fontdict)\n",
    "\n",
    "plt.suptitle(\"suptitle\", fontdict=fontdict)\n",
    "plt.subplots_adjust(top=0.7)\n",
    "plt.show()"
   ]
  },
  {
   "cell_type": "markdown",
   "metadata": {},
   "source": [
    "<br>\n",
    "\n",
    "## 2.3 글자가 깨질 때\n",
    "\n",
    "- matplotlib는 -(minus) 기호를 표시할 때 unicode minus(U+2212)를 ASCII hypen(U+002D) 보다 우선적으로 사용한다.\n",
    "- `plt.rcParams[\"axes.unicode_minus\"] = False`를 통해 ASCII hypen을 우선 사용하도록 변경할 수 있다.\n",
    "- 하지만 때로는 그럼에도 불구하고 깨져서 출력되는 경우들이 있다. (ex. -가 지수에 표시되는 경우)\n",
    "- 그 외에도 non-latin glyph가 제대로 표시되지 않는 경우에는 `font.family` 앞에 새 폰트를 넣어주는 방식으로 해결할 수 있다."
   ]
  },
  {
   "cell_type": "code",
   "execution_count": 24,
   "metadata": {},
   "outputs": [],
   "source": [
    "plt.rcParams['font.sans-serif'] = ['NanumGothic', 'sans-serif']"
   ]
  },
  {
   "cell_type": "markdown",
   "metadata": {},
   "source": [
    "- [공식적으로 알려진 matplotlib 한글 사용 방법](https://colab.research.google.com/github/nicewook/datascience_exercise/blob/master/korean_font_on_matplotlib.ipynb)은 다음과 같다."
   ]
  },
  {
   "cell_type": "code",
   "execution_count": 26,
   "metadata": {},
   "outputs": [],
   "source": [
    "import matplotlib.font_manager as fm # 폰트 관련 용도\n",
    "font_list = fm.findSystemFonts(fontpaths=None, fontext='ttf')\n",
    "#print(font_list)"
   ]
  },
  {
   "cell_type": "code",
   "execution_count": 29,
   "metadata": {},
   "outputs": [],
   "source": [
    "# font_list에서 설치된 폰트를 확인 후에 사용하고자 하는 폰트를 적어준다.\n",
    "fontpath = 'C:/Windows/Fonts/NanumGothicCoding.ttf'\n",
    "\n",
    "font_name = fm.FontProperties(fname=fontpath, size=10).get_name()\n",
    "plt.rc('font', family=font_name)\n",
    "\n",
    "fm._rebuild()\n",
    "mpl.rcParams['axes.unicode_minus'] = False"
   ]
  },
  {
   "cell_type": "markdown",
   "metadata": {},
   "source": [
    "- 간단하게는 이렇게만 넣어줘도 한글을 출력할 수 있다."
   ]
  },
  {
   "cell_type": "code",
   "execution_count": 30,
   "metadata": {},
   "outputs": [],
   "source": [
    "plt.rcParams['font.family'] = 'NanumGothicCoding'\n",
    "plt.rcParams['axes.unicode_minus'] = False"
   ]
  },
  {
   "cell_type": "markdown",
   "metadata": {},
   "source": [
    "- 운영체제와 관계없이 한 덩어리의 코들르 실행해서 한글을 구현하고자 한다면 다음 코드 뭉치를 복사하여 실행하면  편리하다.\n",
    "- Windows와 Linux에 적용되며, Linux에서 처음 실행 시는 `!apt-get` 앞에 있는 `#`를 제거하고 실행하여 폰트를 설치해야 한다."
   ]
  },
  {
   "cell_type": "code",
   "execution_count": 31,
   "metadata": {},
   "outputs": [
    {
     "data": {
      "text/plain": [
       "'Windows'"
      ]
     },
     "execution_count": 31,
     "metadata": {},
     "output_type": "execute_result"
    }
   ],
   "source": [
    "import os, copy, sys, platform\n",
    "system = platform.system()\n",
    "system"
   ]
  },
  {
   "cell_type": "code",
   "execution_count": 32,
   "metadata": {},
   "outputs": [
    {
     "name": "stdout",
     "output_type": "stream",
     "text": [
      "NanumGothicCoding\n",
      "# matplotlib 한글 사용 가능\n"
     ]
    }
   ],
   "source": [
    "if system == 'Windows':\n",
    "    datapath = os.getcwd() + '\\\\'\n",
    "    imagepath = datapath + 'images\\\\'\n",
    "    \n",
    "    # ttf 폰트 전체 개수\n",
    "    font_list[:10]\n",
    "    \n",
    "    f = [f.name for f in fm.fontManager.ttflist]\n",
    "    f[:10]\n",
    "    \n",
    "    [(f.name, f.fname) for f in fm.fontManager.ttflist if 'Nanum' in f.name]\n",
    "    \n",
    "    path = 'C:/Windows/Fonts/NanumGothicCoding.ttf'\n",
    "    font_name = fm.FontProperties(fname=path, size=50).get_name()\n",
    "\n",
    "    print(font_name)\n",
    "    plt.rc('font', family=font_name)\n",
    "    print(\"# matplotlib 한글 사용 가능\")\n",
    "\n",
    "elif system == 'Linux':\n",
    "    datapath = os.getcwd() + '//'\n",
    "    imagepath = datapath + 'images//'\n",
    "  \n",
    "#     !apt-get update -qq\n",
    "#     !apt-get install fonts-nanum* -qq\n",
    "\n",
    "    path = '/usr/share/fonts/truetype/nanum/NanumGothic.ttf'  # 설치된 나눔글꼴중 원하는 녀석의 전체 경로를 가져오자\n",
    "    font_name = fm.FontProperties(fname=path, size=10).get_name()\n",
    "\n",
    "    print(font_name)\n",
    "    plt.rc('font', family=font_name)\n",
    "\n",
    "    fm._rebuild()\n",
    "    mpl.rcParams['axes.unicode_minus'] = False\n",
    "    print(\"# matplotlib 한글 사용 가능\")\n",
    "\n",
    "else:\n",
    "    sys.exit('ERROR: Sorry, my code has compatibility with Windows and Linux only.')    "
   ]
  },
  {
   "cell_type": "markdown",
   "metadata": {},
   "source": [
    "- 위 설정 후 한글이 들어간 그래프를 그려보자."
   ]
  },
  {
   "cell_type": "code",
   "execution_count": 34,
   "metadata": {},
   "outputs": [
    {
     "name": "stderr",
     "output_type": "stream",
     "text": [
      "Font 'default' does not have a glyph for '-' [U+2212], substituting with a dummy symbol.\n",
      "Font 'default' does not have a glyph for '-' [U+2212], substituting with a dummy symbol.\n",
      "Font 'default' does not have a glyph for '-' [U+2212], substituting with a dummy symbol.\n",
      "Font 'default' does not have a glyph for '-' [U+2212], substituting with a dummy symbol.\n",
      "Font 'default' does not have a glyph for '-' [U+2212], substituting with a dummy symbol.\n",
      "Font 'default' does not have a glyph for '-' [U+2212], substituting with a dummy symbol.\n",
      "Font 'default' does not have a glyph for '-' [U+2212], substituting with a dummy symbol.\n",
      "Font 'default' does not have a glyph for '-' [U+2212], substituting with a dummy symbol.\n",
      "Font 'default' does not have a glyph for '-' [U+2212], substituting with a dummy symbol.\n",
      "Font 'default' does not have a glyph for '-' [U+2212], substituting with a dummy symbol.\n",
      "Font 'default' does not have a glyph for '-' [U+2212], substituting with a dummy symbol.\n",
      "Font 'default' does not have a glyph for '-' [U+2212], substituting with a dummy symbol.\n"
     ]
    },
    {
     "data": {
      "image/png": "[encoded data removed]",
      "text/plain": [
       "<Figure size 1000x300 with 1 Axes>"
      ]
     },
     "metadata": {},
     "output_type": "display_data"
    }
   ],
   "source": [
    "# log의 지수가 깨지는 문제를 잘 보여주기 위해 폰트 크기를 키운다.\n",
    "plt.rcParams['font.size'] = 20\n",
    "\n",
    "fig, ax = plt.subplots(figsize=(10,3))\n",
    "\n",
    "data_x = [0.001, 0.01, 0.1, 1, 10]\n",
    "data_y = [10, -24, 30, 50, 40]\n",
    "\n",
    "ax.plot(data_x, data_y)\n",
    "ax.set_title('한글 그래프')\n",
    "ax.set_xscale('log')\n",
    "\n",
    "plt.show()"
   ]
  },
  {
   "cell_type": "markdown",
   "metadata": {},
   "source": [
    "- 마이너스를 ASCII code에서 사용하게 했기 때문에 y축의 -25는 정상적으로 표시된다.\n",
    "- 그럼에도 불구하고 unicode 문제가 발생하여 지수의 -가 벌레처럼(¤: U+00A5)표시된다.\n",
    "- `superscript minus`(-)는 U+207B이라는 독자 코드를 가지고 있지만, matplotlib에서는 U+2212를 올려서 사용하고 있다."
   ]
  },
  {
   "cell_type": "markdown",
   "metadata": {},
   "source": [
    "- 가장 간편한 해결책은 U+2212를 가지고 있는 다른 폰트 중 하나를 불러오는 것입니다.\n",
    "- 여러가지를 시험한 결과 나눔고딕과 가장 유사한 대체폰트는 Liberation Sans였습니다.\n",
    "- 그 외에 ubuntu 16.04 기본 폰트 중에서는 Liberation Sans Narrow, Dejavu Sans, Ubuntu도 쓸만합니다.\n",
    "- 아래 한 줄을 위 코드에 추가해서 문제를 해결합니다."
   ]
  },
  {
   "cell_type": "code",
   "execution_count": 36,
   "metadata": {},
   "outputs": [
    {
     "data": {
      "image/png": "[encoded data removed]",
      "text/plain": [
       "<Figure size 1000x300 with 1 Axes>"
      ]
     },
     "metadata": {},
     "output_type": "display_data"
    }
   ],
   "source": [
    "plt.rcParams['font.size'] = 20\n",
    "\n",
    "fig, ax = plt.subplots(figsize=(10,3))\n",
    "\n",
    "data_x = [0.001, 0.01, 0.1, 1, 10]\n",
    "data_y = [10, -24, 30, 50, 40]\n",
    "\n",
    "ax.plot(data_x, data_y)\n",
    "ax.set_title('한글 그래프')\n",
    "ax.set_xscale('log')\n",
    "plt.xticks(fontname='Liberation Sans')\n",
    "\n",
    "plt.show()"
   ]
  }
 ],
 "metadata": {
  "kernelspec": {
   "display_name": "Python 3",
   "language": "python",
   "name": "python3"
  },
  "language_info": {
   "codemirror_mode": {
    "name": "ipython",
    "version": 3
   },
   "file_extension": ".py",
   "mimetype": "text/x-python",
   "name": "python",
   "nbconvert_exporter": "python",
   "pygments_lexer": "ipython3",
   "version": "3.6.9"
  }
 },
 "nbformat": 4,
 "nbformat_minor": 4
}
