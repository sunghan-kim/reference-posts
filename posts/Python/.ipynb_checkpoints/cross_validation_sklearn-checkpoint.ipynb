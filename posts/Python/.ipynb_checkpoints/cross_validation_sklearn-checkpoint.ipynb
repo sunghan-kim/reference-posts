{
 "cells": [
  {
   "cell_type": "markdown",
   "metadata": {},
   "source": [
    "# scikit-learn의 교차검증 기능"
   ]
  },
  {
   "cell_type": "markdown",
   "metadata": {},
   "source": [
    "[https://datascienceschool.net/view-notebook/266d699d748847b3a3aa7b9805b846ae/](https://datascienceschool.net/view-notebook/266d699d748847b3a3aa7b9805b846ae/)"
   ]
  },
  {
   "cell_type": "markdown",
   "metadata": {},
   "source": [
    "<br>"
   ]
  },
  {
   "cell_type": "markdown",
   "metadata": {},
   "source": [
    "# 0. 실습 데이터"
   ]
  },
  {
   "cell_type": "code",
   "execution_count": 1,
   "metadata": {},
   "outputs": [],
   "source": [
    "import pandas as pd\n",
    "import numpy as np\n",
    "from sklearn.datasets import load_boston\n",
    "\n",
    "boston = load_boston()\n",
    "\n",
    "dfX = pd.DataFrame(boston.data, columns=boston.feature_names)\n",
    "dfy = pd.DataFrame(boston.target, columns=['MEDV'])\n",
    "df = pd.concat([dfX, dfy], axis=1)"
   ]
  },
  {
   "cell_type": "markdown",
   "metadata": {},
   "source": [
    "<br>"
   ]
  },
  {
   "cell_type": "markdown",
   "metadata": {},
   "source": [
    "# 1. 단순 데이터 분리"
   ]
  },
  {
   "cell_type": "code",
   "execution_count": 2,
   "metadata": {},
   "outputs": [
    {
     "data": {
      "text/plain": [
       "((354, 14), (152, 14))"
      ]
     },
     "execution_count": 2,
     "metadata": {},
     "output_type": "execute_result"
    }
   ],
   "source": [
    "from sklearn.model_selection import train_test_split\n",
    "\n",
    "df_train, df_test = train_test_split(df, test_size=0.3, random_state=0)\n",
    "df_train.shape, df_test.shape"
   ]
  },
  {
   "cell_type": "code",
   "execution_count": 3,
   "metadata": {},
   "outputs": [
    {
     "data": {
      "text/plain": [
       "((354, 13), (354, 1), (152, 13), (152, 1))"
      ]
     },
     "execution_count": 3,
     "metadata": {},
     "output_type": "execute_result"
    }
   ],
   "source": [
    "dfX_train, dfX_test, dfy_train, dfy_test = train_test_split(dfX,\n",
    "                                                            dfy,\n",
    "                                                            test_size=0.3,\n",
    "                                                            random_state=0)\n",
    "dfX_train.shape, dfy_train.shape, dfX_test.shape, dfy_test.shape"
   ]
  },
  {
   "cell_type": "markdown",
   "metadata": {},
   "source": [
    "<br>"
   ]
  },
  {
   "cell_type": "markdown",
   "metadata": {},
   "source": [
    "# 2. K-폴드 교차검증"
   ]
  },
  {
   "cell_type": "markdown",
   "metadata": {},
   "source": [
    "데이터의 수가 적은 경우에는 이 데이터 중의 일부인 검증 데이터의 수도 적기 때문에 검증 성능의 신뢰도가 떨어진다. 그렇다고 검증 데이터의 수를 증가시키면 학습용 데이터의 수가 적어지므로 정상적인 학습이 되지 않는다. 이러한 딜레마를 해결하기 위한 검증 방법이 **K-폴드(K-fold)** 교차검증 방법이다."
   ]
  },
  {
   "cell_type": "markdown",
   "metadata": {},
   "source": [
    "K-폴드 교차검증에서는 다음처럼 학습과 검증을 반복한다.\n",
    "\n",
    "1. 전체 데이터를 K개의 부분집합$\\left( \\{ D_1,D_2,\\cdots,D_k\\} \\right)$으로 나눈다.\n",
    "2. 데이터 $\\{ D_1,D_2,\\cdots,D_{k-1}\\}$ 를 학습용 데이터로 사용하여 회귀분석 모형을 만들고, 데이터 $\\{D_k\\}$로 교차검증을 한다.\n",
    "3. 데이터 $\\{ D_1,D_2,\\cdots,D_{k-2}, D_{k}\\}$를 학습용 데이터로 사용하여 회귀분석 모형을 만들고 데이터 $\\{D_{k-1}\\}$로 교차검증을 한다.  \n",
    "$\\vdots$\n",
    "4. 데이터 $\\{ D_2,\\cdots,D_{k}\\}$를 학습용 데이터로 사용하여 회귀분석 모형을 만들고 데이터 $\\{D_{1}\\}$로 교차검증을 한다."
   ]
  },
  {
   "cell_type": "markdown",
   "metadata": {},
   "source": [
    "이렇게 하면 총 K개의 모형과 K개의 교차검증 성능이 나온다. 이 K개의 교차검증 성능을 평균하여 최종 교차검증 성능을 개선한다."
   ]
  },
  {
   "cell_type": "markdown",
   "metadata": {},
   "source": [
    "<div style=\"text-align: left; margin-left: 10px;\">\n",
    "    <img src=\"../_images/cv_img001.png\" width=\"700px\"/>\n",
    "</div>"
   ]
  },
  {
   "cell_type": "markdown",
   "metadata": {},
   "source": [
    "scikit-learn 패키지의 `model_selection` 서브 패키지는 `KFold` 클래스를 비롯한 다양한 교차검증 생성기를 제공한다. 이 생성기의 `split` 메서드는 학습용과 검증용의 데이터 인덱스를 출력하는 파이썬 반복자(iterator)를 반환한다."
   ]
  },
  {
   "cell_type": "code",
   "execution_count": 5,
   "metadata": {},
   "outputs": [
    {
     "name": "stdout",
     "output_type": "stream",
     "text": [
      "학습 R2 = 0.77301356, 검증 R2 = 0.58922238\n",
      "학습 R2 = 0.72917058, 검증 R2 = 0.77799144\n",
      "학습 R2 = 0.74897081, 검증 R2 = 0.66791979\n",
      "학습 R2 = 0.75658611, 검증 R2 = 0.66801630\n",
      "학습 R2 = 0.70497483, 검증 R2 = 0.83953317\n"
     ]
    }
   ],
   "source": [
    "from sklearn.model_selection import KFold\n",
    "import statsmodels.api as sm\n",
    "\n",
    "scores = np.zeros(5)\n",
    "cv = KFold(5, shuffle=True, random_state=0)\n",
    "for i, (idx_train, idx_test) in enumerate(cv.split(df)):\n",
    "    df_train = df.iloc[idx_train]\n",
    "    df_test = df.iloc[idx_test]\n",
    "    \n",
    "    model = sm.OLS.from_formula(\"MEDV ~ \" + \"+\".join(boston.feature_names),\n",
    "                                data=df_train)\n",
    "    result = model.fit()\n",
    "    \n",
    "    pred = result.predict(df_test)\n",
    "    rss = ((df_test.MEDV - pred) ** 2).sum()\n",
    "    tss = ((df_test.MEDV - df_test.MEDV.mean()) ** 2).sum()\n",
    "    rsquared = 1 - rss / tss\n",
    "    \n",
    "    scores[i] = rsquared\n",
    "    print(\"학습 R2 = {:.8f}, 검증 R2 = {:.8f}\".format(result.rsquared, rsquared))"
   ]
  },
  {
   "cell_type": "markdown",
   "metadata": {},
   "source": [
    "<br>"
   ]
  },
  {
   "cell_type": "markdown",
   "metadata": {},
   "source": [
    "# 3. 평가 점수"
   ]
  },
  {
   "cell_type": "markdown",
   "metadata": {},
   "source": [
    "scikit-learn의 `metrics` 서브 패키지에는 예측 성능을 평가하기 위한 다양한 함수를 제공한다. 그 중 회귀분석에 유용한 함수를 소개한다.\n",
    "\n",
    "- `r2_score` : 결정 계수\n",
    "- `mean_squared_error` : 평균 제곱 오차(MSE, mean squared error)\n",
    "- `median_absolute_error` : 절대 오차 중앙값(MOE, median absolute error)"
   ]
  },
  {
   "cell_type": "markdown",
   "metadata": {},
   "source": [
    "이 함수를 이용하여 위 코드를 다음처럼 간단하게 고칠 수 있다."
   ]
  },
  {
   "cell_type": "code",
   "execution_count": 6,
   "metadata": {},
   "outputs": [
    {
     "data": {
      "text/plain": [
       "array([0.85785833, 0.85920374, 0.86597345, 0.86282583, 0.83953317])"
      ]
     },
     "execution_count": 6,
     "metadata": {},
     "output_type": "execute_result"
    }
   ],
   "source": [
    "from sklearn.metrics import r2_score\n",
    "\n",
    "scores = np.zeros(5)\n",
    "cv = KFold(5, shuffle=True, random_state=0)\n",
    "for i, (idx_train, test_idx) in enumerate(cv.split(df)) :\n",
    "    df_train = df.iloc[idx_train]\n",
    "    df_test = df.iloc[idx_test]\n",
    "    \n",
    "    model = sm.OLS.from_formula(\"MEDV ~ \" + \"+\".join(boston.feature_names),\n",
    "                                data=df_train)\n",
    "    result = model.fit()\n",
    "    \n",
    "    pred = result.predict(df_test)\n",
    "    rsquared = r2_score(df_test.MEDV, pred)\n",
    "    \n",
    "    scores[i] = rsquared\n",
    "    \n",
    "scores"
   ]
  },
  {
   "cell_type": "markdown",
   "metadata": {},
   "source": [
    "<br>"
   ]
  },
  {
   "cell_type": "markdown",
   "metadata": {},
   "source": [
    "# 4. 교차검증 반복"
   ]
  },
  {
   "cell_type": "markdown",
   "metadata": {},
   "source": [
    "위와 같이 교차검증을 반복하는 코드를 더 간단하게 만들어주는 함수가 있다. 바로 `cross_val_score` 이다. 사용법은 다음과 같다."
   ]
  },
  {
   "cell_type": "markdown",
   "metadata": {},
   "source": [
    "```\n",
    "cross_val_score(model, X, y, scoring=None, cv=None)\n",
    "```"
   ]
  },
  {
   "cell_type": "markdown",
   "metadata": {},
   "source": [
    "- `model` : 회귀 분석 모형\n",
    "- `X` : 독립 변수 데이터\n",
    "- `y` : 종속 변수 데이터\n",
    "- `scoring` : 성능 검증에 사용할 함수 이름\n",
    "- `cv` : 교차검증 생성기 객체 또는 숫자\n",
    "  - `None` : `KFold(3)`와 동일\n",
    "  - `k` : 숫자 k를 지정하면 `KFold(k)`"
   ]
  },
  {
   "cell_type": "markdown",
   "metadata": {},
   "source": [
    "단, `cross_val_score` 명령은 scikit-learn에서 제공하는 모형만 사용할 수 있다. statsmodels의 모형 객체를 사용하려면 다음과 같이 scikit-learn의 `RegressorMixin`으로 래퍼 클래스(wrapper class)를 만들어주어야 한다."
   ]
  },
  {
   "cell_type": "code",
   "execution_count": 7,
   "metadata": {},
   "outputs": [],
   "source": [
    "from sklearn.base import BaseEstimator, RegressorMixin\n",
    "import statsmodels.formula.api as smf\n",
    "import statsmodels.api as sm\n",
    "\n",
    "class StatsmodelsOLS(BaseEstimator, RegressorMixin) :\n",
    "    \n",
    "    def __init__(self, formula) :\n",
    "        self.formula = formula\n",
    "        self.model = None\n",
    "        self.data = None\n",
    "        self.result = None\n",
    "        \n",
    "    def fit(self, dfX, dfy) :\n",
    "        self.data = pd.concat([dfX, dfy], axis=1)\n",
    "        self.model = smf.ols(self.formula, data=self.data)\n",
    "        self.result = self.model.fit()\n",
    "        \n",
    "    def predict(self, new_data) :\n",
    "        return self.result.predict(new_data)"
   ]
  },
  {
   "cell_type": "markdown",
   "metadata": {},
   "source": [
    "이 래퍼 클래스와 `cross_val_score` 명령을 사용하면 교차검증 성능 값을 다음처럼 간단하게 계산할 수 있다."
   ]
  },
  {
   "cell_type": "code",
   "execution_count": 8,
   "metadata": {},
   "outputs": [
    {
     "data": {
      "text/plain": [
       "array([0.58922238, 0.77799144, 0.66791979, 0.6680163 , 0.83953317])"
      ]
     },
     "execution_count": 8,
     "metadata": {},
     "output_type": "execute_result"
    }
   ],
   "source": [
    "from sklearn.model_selection import cross_val_score\n",
    "\n",
    "model = StatsmodelsOLS(\"MEDV ~ \" + \"+\".join(boston.feature_names))\n",
    "cv = KFold(5, shuffle=True, random_state=0)\n",
    "cross_val_score(model, dfX, dfy, scoring=\"r2\", cv=cv)"
   ]
  }
 ],
 "metadata": {
  "kernelspec": {
   "display_name": "Python 3",
   "language": "python",
   "name": "python3"
  },
  "language_info": {
   "codemirror_mode": {
    "name": "ipython",
    "version": 3
   },
   "file_extension": ".py",
   "mimetype": "text/x-python",
   "name": "python",
   "nbconvert_exporter": "python",
   "pygments_lexer": "ipython3",
   "version": "3.6.8"
  }
 },
 "nbformat": 4,
 "nbformat_minor": 2
}
