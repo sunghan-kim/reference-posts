{
 "cells": [
  {
   "cell_type": "markdown",
   "metadata": {},
   "source": [
    "# 14. 객체 지향 프로그래밍"
   ]
  },
  {
   "cell_type": "markdown",
   "metadata": {},
   "source": [
    "[A Byte of Python - 14. 객체 지향 프로그래밍](http://byteofpython-korean.sourceforge.net/byte_of_python.html#oop)"
   ]
  },
  {
   "cell_type": "markdown",
   "metadata": {},
   "source": [
    "**클래스**\n",
    "\n",
    "- 새로운 *형식*을 정의하는 것  \n",
    "- `class` 키워드를 통해 생성\n",
    "  \n",
    "  \n",
    "**객체**\n",
    "\n",
    "- 클래스의 *인스턴스*를 의미"
   ]
  },
  {
   "cell_type": "markdown",
   "metadata": {},
   "source": [
    "**필드(field)**\n",
    "\n",
    "- 객체 혹은 클래스에 소속된 변수들\n",
    "- 클래스 아래 들여쓰기된 블록에 차례로 정의됨"
   ]
  },
  {
   "cell_type": "markdown",
   "metadata": {},
   "source": [
    "**필드의 종류 (2가지)**\n",
    "\n",
    "- **인스턴스 변수**  \n",
    ": 클래스의 인스턴스/객체에 내장되어 있는 것  \n",
    "  \n",
    "  \n",
    "- **클래스 변수**  \n",
    ": 클래스 자체에 내장되어 있는 것"
   ]
  },
  {
   "cell_type": "markdown",
   "metadata": {},
   "source": [
    "**메소드(method)**\n",
    "\n",
    "- 객체에서 내장된 함수를 이용하여 어떤 기능을 갖도록 할 수 있음\n",
    "- 이때의 함수를 클래스의 메소드라고 함\n",
    "- 클래스 아래 들여쓰기된 블록에 차례로 정의됨"
   ]
  },
  {
   "cell_type": "markdown",
   "metadata": {},
   "source": [
    "**속성(attribute)**\n",
    "\n",
    "- 필드와 메소드들을 통틀어 클래스의 속성이라고 함"
   ]
  },
  {
   "cell_type": "markdown",
   "metadata": {},
   "source": [
    "<br>"
   ]
  },
  {
   "cell_type": "markdown",
   "metadata": {},
   "source": [
    "## 14.1 `self`"
   ]
  },
  {
   "cell_type": "markdown",
   "metadata": {},
   "source": [
    "**클래스 메소드와 일반적인 함수의 차이점**\n",
    "\n",
    "메소드의 경우 매개 변수의 목록에 항상 추가로 한 개의 변수가 맨 앞에 추가되어야 함.  \n",
    "또한 메소드를 호출할 때 이 변수에는 우리가 직접 값을 넘겨주지 않음.  \n",
    "대신 파이썬이 자동으로 값을 할당  \n",
    "이 변수에는 현재 객체 *자신*의 참조가 할당.  \n",
    "일반적으로 `self`라 이름을 짓는다."
   ]
  },
  {
   "cell_type": "markdown",
   "metadata": {},
   "source": [
    "이 변수의 이름은 마음대로 지을 수 있지만, `self` 라는 이름을 사용할 것을 강력히 권장."
   ]
  },
  {
   "cell_type": "markdown",
   "metadata": {},
   "source": [
    "**`self`에 값을 할당하는 방법**\n",
    "\n",
    "`MyClass` 라는 클래스를 생성  \n",
    "이 클래스의 객체를 `myobject` 라는 이름으로 생성  \n",
    "이 객체의 메소드를 호출 : `myobject.method(arg1, arg2)`  \n",
    "그러면 파이썬에 의해 자동적으로 `MyClass.method(myobject, arg1, arg2)`의 형태로 바뀌게 된다."
   ]
  },
  {
   "cell_type": "markdown",
   "metadata": {},
   "source": [
    "<br>"
   ]
  },
  {
   "cell_type": "markdown",
   "metadata": {},
   "source": [
    "## 14.2 클래스"
   ]
  },
  {
   "cell_type": "code",
   "execution_count": 1,
   "metadata": {},
   "outputs": [
    {
     "name": "stdout",
     "output_type": "stream",
     "text": [
      "<__main__.Person object at 0x7ff9ec5e6240>\n"
     ]
    }
   ],
   "source": [
    "# oop_simplestclass.py\n",
    "class Person :\n",
    "    pass # An empty block\n",
    "\n",
    "p = Person()\n",
    "print(p)"
   ]
  },
  {
   "cell_type": "markdown",
   "metadata": {},
   "source": [
    "### 14.2.1 동작 원리"
   ]
  },
  {
   "cell_type": "markdown",
   "metadata": {},
   "source": [
    "`class` 문을 사용하여 새로운 클래스 생성  \n",
    "그 아래의 들여쓰기 된 블록은 클래스의 몸체를 구성"
   ]
  },
  {
   "cell_type": "markdown",
   "metadata": {},
   "source": [
    "이 클래스의 이름 뒤 괄호를 열고 닫아 클래스의 객체/인스턴스를 생성  \n",
    "객체 생성을 확인하기 위해 정의한 변수명을 입력하여 결과 확인  \n",
    "$\\rightarrow$ 이 객체는 `main` 모듈의 `Person` 클래스의 인스턴스임을 확인"
   ]
  },
  {
   "cell_type": "markdown",
   "metadata": {},
   "source": [
    "객체가 실제로 저장된 컴퓨터 메모리의 위치가 함께 반환된 것 확인  \n",
    "컴퓨터마다 그 객체를 저장하기 위한 빈 공간이 위치한 곳이 다르기 때문에 컴퓨터마다 이 값은 다르게 출력될 것"
   ]
  },
  {
   "cell_type": "markdown",
   "metadata": {},
   "source": [
    "<br>"
   ]
  },
  {
   "cell_type": "markdown",
   "metadata": {},
   "source": [
    "## 14.3 메소드"
   ]
  },
  {
   "cell_type": "markdown",
   "metadata": {},
   "source": [
    "클래스/객체는 메소드를 가질 수 있음  \n",
    "메소드는 추가된 `self` 변수를 제외하고 함수와 똑같음"
   ]
  },
  {
   "cell_type": "code",
   "execution_count": 2,
   "metadata": {},
   "outputs": [
    {
     "name": "stdout",
     "output_type": "stream",
     "text": [
      "Hello, how are you?\n"
     ]
    }
   ],
   "source": [
    "# oop_method.py\n",
    "class Person :\n",
    "    def say_hi(self) :\n",
    "        print('Hello, how are you?')\n",
    "        \n",
    "p = Person()\n",
    "p.say_hi()"
   ]
  },
  {
   "cell_type": "markdown",
   "metadata": {},
   "source": [
    "### 14.3.1 동작 원리"
   ]
  },
  {
   "cell_type": "markdown",
   "metadata": {},
   "source": [
    "`self`가 어떻게 동작하는 지 확인  \n",
    "`say_hi` 메소드는 아무 매개 변수도 넘겨받지 않지만 함수 정의에 `self`를 가지고 있음을 확인"
   ]
  },
  {
   "cell_type": "markdown",
   "metadata": {},
   "source": [
    "<br>"
   ]
  },
  {
   "cell_type": "markdown",
   "metadata": {},
   "source": [
    "## 14.4 `init` 메소드"
   ]
  },
  {
   "cell_type": "markdown",
   "metadata": {},
   "source": [
    "파이썬의 클래스에는 여러 가지 특별한 메소드 이름이 존재  \n",
    "우선 그 중 `init` 메소드의 중요성에 대해 확인"
   ]
  },
  {
   "cell_type": "markdown",
   "metadata": {},
   "source": [
    "**`init` 메소드**\n",
    "\n",
    "클래스가 인스턴스화 될 때 호출됨  \n",
    "따라서 이 메소드는 객체가 생성될 때 여러 가지 **초기화** 명령들이 필요할 때 유용하게 사용  \n",
    "여기서 `init` 앞과 뒤에 있는 밑줄은 두 번씩 입력해야 한다"
   ]
  },
  {
   "cell_type": "code",
   "execution_count": 5,
   "metadata": {},
   "outputs": [
    {
     "name": "stdout",
     "output_type": "stream",
     "text": [
      "Hello, my name is Swaroop\n"
     ]
    }
   ],
   "source": [
    "# oop_init.py\n",
    "class Person :\n",
    "    def __init__(self, name) :\n",
    "        self.name = name\n",
    "        \n",
    "    def say_hi(self) :\n",
    "        print('Hello, my name is', self.name)\n",
    "        \n",
    "p = Person('Swaroop')\n",
    "p.say_hi()"
   ]
  },
  {
   "cell_type": "markdown",
   "metadata": {},
   "source": [
    "### 14.4.1 동작 원리"
   ]
  },
  {
   "cell_type": "markdown",
   "metadata": {},
   "source": [
    "매개 변수 `name`을 넘겨 받는 `init` 메소드를 정의  \n",
    "(`self`를 포함하여 정의)  \n",
    "`name` 이라는 필드를 생성  \n",
    "이 때 두 다른 변수의 이름으로 name 이라는 동일한 이름을 지정해 주었다는 점에 주목  \n",
    "이것이 문제가 되지 않는 이유는 하나는 `self` 라 칭해지는 객체에 내장된 것으로써 `self.name` 의 형태로 사용됨  \n",
    "또 하나인 `name` 은 지역 변수를 의미하는 것으로 사용되기 때문"
   ]
  },
  {
   "cell_type": "markdown",
   "metadata": {},
   "source": [
    "우리가 `init` 메소드를 직접 호출해 주지 않고 클래스로부터 인스턴스를 생성할 때 괄호 안에 인수를 함께 넘겨주었다."
   ]
  },
  {
   "cell_type": "markdown",
   "metadata": {},
   "source": [
    "이제, `say_hi` 메소드에서처럼 객체 내부에서 `self.name` 필드를 사용할 수 있음"
   ]
  },
  {
   "cell_type": "markdown",
   "metadata": {},
   "source": [
    "<br>"
   ]
  },
  {
   "cell_type": "markdown",
   "metadata": {},
   "source": [
    "## 14.5 클래스 변수와 객체 변수"
   ]
  },
  {
   "cell_type": "markdown",
   "metadata": {},
   "source": [
    "데이터, 즉 필드는 일반적인 변수와 다를 것이 없다.  \n",
    "하지만 그 클래스 혹은 객체의 **네임스페이스**에 *묶여*있다는 점이 다름  \n",
    "이것은 필드의 이름은 그 클래스 혹은 객체 내부에서만 의미가 있음을 의미  \n",
    "그래서 이것을 이름이 통용되는 공간이라고 하여 *네임스페이스*라고 부른다."
   ]
  },
  {
   "cell_type": "markdown",
   "metadata": {},
   "source": [
    "**필드의 종류(2가지)**\n",
    "\n",
    "변수를 소유하고 있는 대상이 클래스인지 객체인지에 따라 구분됨  \n",
    "  \n",
    "  \n",
    "1. **클래스 변수**\n",
    "  - 공유되는 변수\n",
    "  - 그 클래스로부터 생성된 모든 인스턴스들이 접근할 수 있음\n",
    "  - 클래스 변수는 한 개만 존재\n",
    "  - 어떤 객체가 클래스 변수를 변경하면 모든 다른 인스턴스들에 변경 사항이 반영됨  \n",
    "  \n",
    "  \n",
    "2. **객체 변수**\n",
    "  - 클래스로부터 생성된 각각의 객체/인스턴스에 속해 있는 변수\n",
    "  - 각각의 객체별로 객체 변수를 하나씩 따로 가지고 있음\n",
    "  - 서로 공유되지 않고 각 인스턴스에 존재하는 같은 이름의 필드끼리 서로 어떤 방식으로든 간섭되지 않음"
   ]
  },
  {
   "cell_type": "code",
   "execution_count": 6,
   "metadata": {},
   "outputs": [],
   "source": [
    "# oop_objvar.py\n",
    "class Robot :\n",
    "    \"\"\"Represents a robot, with a name.\"\"\"\n",
    "    \n",
    "    # A class variable, counting the number of robots\n",
    "    population = 0\n",
    "    \n",
    "    def __init__(self, name) :\n",
    "        \"\"\"Initializes the data.\"\"\"\n",
    "        self.name = name\n",
    "        print(\"(Initializing {})\".format(self.name))\n",
    "        \n",
    "        # When this person is created, the robot\n",
    "        # adds to the population\n",
    "        Robot.population += 1\n",
    "        \n",
    "    def die(self) :\n",
    "        \"\"\"I am dying.\"\"\"\n",
    "        print(\"{} is being destroyed!\".format(self.name))\n",
    "        \n",
    "        Robot.population -= 1\n",
    "        \n",
    "        if Robot.population == 0:\n",
    "            print(\"{} was the last one.\".format(self.name))\n",
    "        else :\n",
    "            print(\"There are still {:d} robots working.\".format(Robot.population))\n",
    "            \n",
    "    def say_hi(self) :\n",
    "        \"\"\"\n",
    "        Greeting by the robot.\n",
    "        Yeah, they cand do that.\n",
    "        \"\"\"\n",
    "        print(\"Greetings, my masters call me {}\".format(self.name))\n",
    "        \n",
    "    @classmethod\n",
    "    def how_many(cls) :\n",
    "        \"\"\"Prints the current population.\"\"\"\n",
    "        print(\"We have {:d} robots.\".format(cls.population))\n",
    "        \n",
    "        "
   ]
  },
  {
   "cell_type": "code",
   "execution_count": 9,
   "metadata": {},
   "outputs": [
    {
     "name": "stdout",
     "output_type": "stream",
     "text": [
      "(Initializing R2-D2)\n",
      "Greetings, my masters call me R2-D2\n",
      "We have 3 robots.\n"
     ]
    }
   ],
   "source": [
    "droid1 = Robot(\"R2-D2\")\n",
    "droid1.say_hi()\n",
    "Robot.how_many()"
   ]
  },
  {
   "cell_type": "code",
   "execution_count": 10,
   "metadata": {},
   "outputs": [
    {
     "name": "stdout",
     "output_type": "stream",
     "text": [
      "(Initializing C-3PO)\n",
      "Greetings, my masters call me C-3PO\n",
      "We have 4 robots.\n"
     ]
    }
   ],
   "source": [
    "droid2 = Robot(\"C-3PO\")\n",
    "droid2.say_hi()\n",
    "Robot.how_many()"
   ]
  },
  {
   "cell_type": "code",
   "execution_count": 12,
   "metadata": {},
   "outputs": [
    {
     "name": "stdout",
     "output_type": "stream",
     "text": [
      "\n",
      "Robots can do some work here.\n",
      "\n"
     ]
    }
   ],
   "source": [
    "print(\"\\nRobots can do some work here.\\n\")"
   ]
  },
  {
   "cell_type": "code",
   "execution_count": 13,
   "metadata": {},
   "outputs": [
    {
     "name": "stdout",
     "output_type": "stream",
     "text": [
      "Robots have finished their work. So let's destroy them.\n"
     ]
    }
   ],
   "source": [
    "print(\"Robots have finished their work. So let's destroy them.\")"
   ]
  },
  {
   "cell_type": "code",
   "execution_count": 14,
   "metadata": {},
   "outputs": [
    {
     "name": "stdout",
     "output_type": "stream",
     "text": [
      "R2-D2 is being destroyed!\n",
      "There are still 3 robots working.\n",
      "C-3PO is being destroyed!\n",
      "There are still 2 robots working.\n"
     ]
    }
   ],
   "source": [
    "droid1.die()\n",
    "droid2.die()"
   ]
  },
  {
   "cell_type": "code",
   "execution_count": 15,
   "metadata": {},
   "outputs": [
    {
     "name": "stdout",
     "output_type": "stream",
     "text": [
      "We have 2 robots.\n"
     ]
    }
   ],
   "source": [
    "Robot.how_many()"
   ]
  },
  {
   "cell_type": "markdown",
   "metadata": {},
   "source": [
    "### 14.5.1 동작 원리"
   ]
  },
  {
   "cell_type": "markdown",
   "metadata": {},
   "source": [
    "`population` 변수\n",
    "\n",
    "- `Robot` 클래스에 속해 있는 **클래스 변수**\n",
    "- `Robot.population`과 같이 사용  \n",
    "(`self.population`과 같이 사용하지 않음)\n",
    "- `Robot.population` 대신에 `self.class.population`라고도 사용할 수 있다.  \n",
    "(모든 객체는 그 객체를 생성하는 데 사용되었던 클래스를 `self.class` 속성을 통해 참조하고 있기 때문)"
   ]
  },
  {
   "cell_type": "markdown",
   "metadata": {},
   "source": [
    "<br>"
   ]
  },
  {
   "cell_type": "markdown",
   "metadata": {},
   "source": [
    "`name` 변수  \n",
    "\n",
    "- 객체에 소속되어 있는 (즉, `self`를 이용하여 사용되는) **객체 변수**\n",
    "- 객체 안에서 `self.name`과 같이 사용"
   ]
  },
  {
   "cell_type": "markdown",
   "metadata": {},
   "source": [
    "<br>"
   ]
  },
  {
   "cell_type": "markdown",
   "metadata": {},
   "source": [
    "클래스 변수와 같은 이름을 가진 객체 변수는 클래스 변수를 감춘다."
   ]
  },
  {
   "cell_type": "markdown",
   "metadata": {},
   "source": [
    "<br>"
   ]
  },
  {
   "cell_type": "markdown",
   "metadata": {},
   "source": [
    "`how_many` 메소드\n",
    "\n",
    "- 객체에 소속되어 있지 않고 클래스에 소속되어 있는 메소드\n",
    "- 해당 클래스의 어떤 부분까지 알아야 할 지에 따라 메소드를 `클래스 메소드(class method)` 로 정의할 지 `스태틱 메소드(static method)`로 정의할 지 결정할 수 있다.\n",
    "- 여기서는 클래스 변수를 사용할 것이므로 `클래스 메소드`를 사용\n",
    "- 여기서는 `how_many` 메소드를 클래스 메소드를 만들어 주기 위해 [데코레이터](http://byteofpython-korean.sourceforge.net/byte_of_python.html#decorator)를 사용\n",
    "- 데코레이터\n",
    "  - 어떤 일을 추가로 해 주는 더 큰 함수\n",
    "  - 해당 부분을 감싸주는 것\n",
    "  - 즉, `@classmethod` 데코레이터는 아래처럼 호출하는 것과 같다.  \n",
    "  ```\n",
    "  how_many = classmethod(how_many)\n",
    "  ```"
   ]
  },
  {
   "cell_type": "markdown",
   "metadata": {},
   "source": [
    "<br>"
   ]
  },
  {
   "cell_type": "markdown",
   "metadata": {},
   "source": [
    "`init` 메소드\n",
    "\n",
    "- `Robot`의 인스턴스를 초기화시킬 때 사용\n",
    "- 이 메소드를 통해 로봇이 하나 추가될때마다 로봇의 개수를 의미하는 `population`을 1씩 증가시킴\n",
    "- 또한 각 생성된 객체별로 객체 변수 `self.name`의 값을 따로따로 지정"
   ]
  },
  {
   "cell_type": "markdown",
   "metadata": {},
   "source": [
    "<br>"
   ]
  },
  {
   "cell_type": "markdown",
   "metadata": {},
   "source": [
    "**속성 참조(attribute reference)**\n",
    "\n",
    "- 객체에 속해 있는 변수와 메소드에 접근하기 위해서는 반드시 `self`를 사용해야 한다."
   ]
  },
  {
   "cell_type": "markdown",
   "metadata": {},
   "source": [
    "<br>"
   ]
  },
  {
   "cell_type": "markdown",
   "metadata": {},
   "source": [
    "`die` 메소드\n",
    "\n",
    "- 해당 메소드가 실행되면, 간단히 `Robot.population`을 하나 줄여줌"
   ]
  },
  {
   "cell_type": "markdown",
   "metadata": {},
   "source": [
    "<br>"
   ]
  },
  {
   "cell_type": "markdown",
   "metadata": {},
   "source": [
    "모든 클래스 맴버는 클래스 외부에 공개되어 있다.  \n",
    "  \n",
    "  \n",
    "예외\n",
    "- *밑줄 두개*로 시작하는 데이터 맴버 정의 시 (`__privatevar`)\n",
    "- 이렇게 하면 파이썬이 이것을 클래스 외부로 드러나지 않도록 숨겨준다.\n",
    "- 이는 클래스나 객체에 속해 있는 어떤 변수에나 적용된다."
   ]
  },
  {
   "cell_type": "markdown",
   "metadata": {},
   "source": [
    "<br>"
   ]
  },
  {
   "cell_type": "markdown",
   "metadata": {},
   "source": [
    "## 14.6 상속"
   ]
  },
  {
   "cell_type": "markdown",
   "metadata": {},
   "source": [
    "객체 지향 프로그래밍의 큰 장점 $\\rightarrow$ 코드를 **재사용**할 수 있다.  \n",
    "코드를 재사용하기 위한 한 가지 방법 $\\rightarrow$ **상속**"
   ]
  },
  {
   "cell_type": "markdown",
   "metadata": {},
   "source": [
    "<br>"
   ]
  },
  {
   "cell_type": "markdown",
   "metadata": {},
   "source": [
    "**상속**\n",
    "\n",
    "- 클래스 간의 **형식과 세부 형식**을 구현하는 것"
   ]
  },
  {
   "cell_type": "markdown",
   "metadata": {},
   "source": [
    "**예제) 대학의 교수들과 학생들의 명부를 작성하는 프로그램**\n",
    "\n",
    "- 교수와 학생들은 공통적으로 이름, 나이, 주소 등의 성질을 가지고 있음\n",
    "- 교수에만 적용되는 성질 : 연봉, 과목, 휴가 등\n",
    "- 학생에만 적용되는 성질 : 성적, 등록금 등\n",
    "- `SchoolMember`라는 이름으로 공동 클래스 생성\n",
    "- 교수와 학생 클래스를 이 클래스로부터 *상속*받아 생성\n",
    "- 상속 받은 클래스 = 상위 형식(클래스)의 세부 형식\n",
    "- 이 세부 형식에 각 상황에 맞는 세부적인 성질을 추가해줄 수 있다."
   ]
  },
  {
   "cell_type": "markdown",
   "metadata": {},
   "source": [
    "<br>"
   ]
  },
  {
   "cell_type": "markdown",
   "metadata": {},
   "source": [
    "**상속의 장점**\n",
    "\n",
    "- `SchoolMember`에 새로운 기능을 추가하거나 혹은 있던 기능을 수정하게 되면, 그 하위 클래스인 교수와 학생 클래스에도 이러한 변경 사항이 자동으로 추가된다.\n",
    "- 하위 클래스에 적용된 변경 사항은 다른 하위 클래스에 적용되지 않는다."
   ]
  },
  {
   "cell_type": "markdown",
   "metadata": {},
   "source": [
    "**다형성**\n",
    "\n",
    "- 예를 들어, 대학에 소속된 사람들의 모든 숫자를 파악해야할 때, 교수와 학생 객체를 `SchoolMember` 객체로 참조하여 사용할 수 있다.\n",
    "- 하위 형식이 부모 형식을 필요로 하는 어떤 상황에서건 이를 대신하여 사용될 수 있다는 것을 의미\n",
    "- 즉, 자식 클래스의 객체를 부모 클래스의 인스턴스인 것처럼 다루어 질 수 있다."
   ]
  },
  {
   "cell_type": "markdown",
   "metadata": {},
   "source": [
    "<br>"
   ]
  },
  {
   "cell_type": "markdown",
   "metadata": {},
   "source": [
    "`SchoolMember` 클래스 : 기본 클래스 or 슈퍼 클래스  \n",
    "`Teacher`, `Student` 클래스 : 파생 클래스 or 서브 클래스"
   ]
  },
  {
   "cell_type": "code",
   "execution_count": 17,
   "metadata": {},
   "outputs": [],
   "source": [
    "# oop_subclass.py\n",
    "class SchoolMember :\n",
    "    '''Represents any school member.'''\n",
    "    def __init__(self, name, age) :\n",
    "        self.name = name\n",
    "        self.age = age\n",
    "        print('(Initialized SchoolMember: {})'.format(self.name))\n",
    "        \n",
    "    def tell(self) :\n",
    "        '''Tell my details.'''\n",
    "        print(\"Name: '{}' Age: '{}'\".format(self.name, self.age))\n",
    "        \n",
    "class Teacher(SchoolMember) :\n",
    "    '''Represents a teacher.'''\n",
    "    def __init__(self, name, age, salary) :\n",
    "        SchoolMember.__init__(self, name, age)\n",
    "        self.salary = salary\n",
    "        print(\"(Initialized Teacher: {})\".format(self.name))\n",
    "        \n",
    "    def tell(self) :\n",
    "        SchoolMember.tell(self)\n",
    "        print(\"Salary: '{:d}'\".format(self.salary))\n",
    "        \n",
    "class Student(SchoolMember) :\n",
    "    '''Represents a student.'''\n",
    "    def __init__(self, name, age, marks) :\n",
    "        SchoolMember.__init__(self, name, age)\n",
    "        self.marks = marks\n",
    "        print(\"(Initialized Student: {})\".format(self.name))\n",
    "        \n",
    "    def tell(self) :\n",
    "        SchoolMember.tell(self)\n",
    "        print(\"Marks: '{:d}'\".format(self.marks))"
   ]
  },
  {
   "cell_type": "code",
   "execution_count": 19,
   "metadata": {},
   "outputs": [
    {
     "name": "stdout",
     "output_type": "stream",
     "text": [
      "(Initialized SchoolMember: Mrs. Shrividya)\n",
      "(Initialized Teacher: Mrs. Shrividya)\n",
      "(Initialized SchoolMember: Swaroop)\n",
      "(Initialized Student: Swaroop)\n",
      "\n",
      "Name: 'Mrs. Shrividya' Age: '40'\n",
      "Salary: '30000'\n",
      "Name: 'Swaroop' Age: '25'\n",
      "Marks: '75'\n"
     ]
    }
   ],
   "source": [
    "t = Teacher('Mrs. Shrividya', 40, 30000)\n",
    "s = Student('Swaroop', 25, 75)\n",
    "\n",
    "print()\n",
    "\n",
    "members = [t, s]\n",
    "for member in members :\n",
    "    # Works for both Teachers and Students\n",
    "    member.tell()"
   ]
  },
  {
   "cell_type": "markdown",
   "metadata": {},
   "source": [
    "### 14.6.1 동작 원리"
   ]
  },
  {
   "cell_type": "markdown",
   "metadata": {},
   "source": [
    "상속을 사용하기 위해, 예제에서 정의된 여러 기본 클래스들의 이름들이 상속 튜플에 지정됨  \n",
    "다음으로, 기본 클래스의 `init` 메소드가 `self` 변수를 이용하여 명시적으로 호출됨  \n",
    "따라서 객체의 기본 클래스에 정의된 초기화 명령들을 호출  \n",
    "즉, 파이썬은 기본 클래스의 생성자를 자동으로 호출해 주지 않으므로 명시적으로 이것을 호출해줘야 한다."
   ]
  },
  {
   "cell_type": "markdown",
   "metadata": {},
   "source": [
    "기본 클래스의 메소드를 호출할 때 클래스 이름을 메소드 호출에 지정해 줌  \n",
    "또 `self` 변수에 인수들과 함께 넘겨 줌"
   ]
  }
 ],
 "metadata": {
  "kernelspec": {
   "display_name": "Python 3",
   "language": "python",
   "name": "python3"
  },
  "language_info": {
   "codemirror_mode": {
    "name": "ipython",
    "version": 3
   },
   "file_extension": ".py",
   "mimetype": "text/x-python",
   "name": "python",
   "nbconvert_exporter": "python",
   "pygments_lexer": "ipython3",
   "version": "3.6.8"
  }
 },
 "nbformat": 4,
 "nbformat_minor": 2
}
