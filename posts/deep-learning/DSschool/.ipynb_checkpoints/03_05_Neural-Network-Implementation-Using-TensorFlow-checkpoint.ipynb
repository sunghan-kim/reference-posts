{
 "cells": [
  {
   "cell_type": "markdown",
   "metadata": {
    "colab_type": "text",
    "id": "T8uhm6Nk2fVF"
   },
   "source": [
    "# 3.5 텐서플로를 사용한 신경망 구현"
   ]
  },
  {
   "cell_type": "markdown",
   "metadata": {},
   "source": [
    "[https://datascienceschool.net/view-notebook/d397af28eca543a3b31ab4ce8e7f320a/](https://datascienceschool.net/view-notebook/d397af28eca543a3b31ab4ce8e7f320a/)"
   ]
  },
  {
   "cell_type": "code",
   "execution_count": 8,
   "metadata": {
    "colab": {
     "base_uri": "https://localhost:8080/",
     "height": 392
    },
    "colab_type": "code",
    "executionInfo": {
     "elapsed": 4511,
     "status": "ok",
     "timestamp": 1574824511293,
     "user": {
      "displayName": "김성한",
      "photoUrl": "https://lh3.googleusercontent.com/a-/AAuE7mCQ5zt754IaJCjKxICu0QpAmCSFkcYk7lzWwliKVw=s64",
      "userId": "13992033533003163921"
     },
     "user_tz": -540
    },
    "id": "gFLcnRAR3SGV",
    "outputId": "97c766d7-6412-48da-ec57-3f8d696e7810"
   },
   "outputs": [
    {
     "name": "stdout",
     "output_type": "stream",
     "text": [
      "Requirement already satisfied: tensorflow-gpu==2.0.0-beta1 in /usr/local/lib/python3.6/dist-packages (2.0.0b1)\n",
      "Requirement already satisfied: wheel>=0.26 in /usr/local/lib/python3.6/dist-packages (from tensorflow-gpu==2.0.0-beta1) (0.33.6)\n",
      "Requirement already satisfied: gast>=0.2.0 in /usr/local/lib/python3.6/dist-packages (from tensorflow-gpu==2.0.0-beta1) (0.2.2)\n",
      "Requirement already satisfied: tb-nightly<1.14.0a20190604,>=1.14.0a20190603 in /usr/local/lib/python3.6/dist-packages (from tensorflow-gpu==2.0.0-beta1) (1.14.0a20190603)\n",
      "Requirement already satisfied: keras-applications>=1.0.6 in /usr/local/lib/python3.6/dist-packages (from tensorflow-gpu==2.0.0-beta1) (1.0.8)\n",
      "Requirement already satisfied: termcolor>=1.1.0 in /usr/local/lib/python3.6/dist-packages (from tensorflow-gpu==2.0.0-beta1) (1.1.0)\n",
      "Requirement already satisfied: grpcio>=1.8.6 in /usr/local/lib/python3.6/dist-packages (from tensorflow-gpu==2.0.0-beta1) (1.15.0)\n",
      "Requirement already satisfied: wrapt>=1.11.1 in /usr/local/lib/python3.6/dist-packages (from tensorflow-gpu==2.0.0-beta1) (1.11.2)\n",
      "Requirement already satisfied: google-pasta>=0.1.6 in /usr/local/lib/python3.6/dist-packages (from tensorflow-gpu==2.0.0-beta1) (0.1.8)\n",
      "Requirement already satisfied: protobuf>=3.6.1 in /usr/local/lib/python3.6/dist-packages (from tensorflow-gpu==2.0.0-beta1) (3.10.0)\n",
      "Requirement already satisfied: six>=1.10.0 in /usr/local/lib/python3.6/dist-packages (from tensorflow-gpu==2.0.0-beta1) (1.12.0)\n",
      "Requirement already satisfied: tf-estimator-nightly<1.14.0.dev2019060502,>=1.14.0.dev2019060501 in /usr/local/lib/python3.6/dist-packages (from tensorflow-gpu==2.0.0-beta1) (1.14.0.dev2019060501)\n",
      "Requirement already satisfied: absl-py>=0.7.0 in /usr/local/lib/python3.6/dist-packages (from tensorflow-gpu==2.0.0-beta1) (0.8.1)\n",
      "Requirement already satisfied: astor>=0.6.0 in /usr/local/lib/python3.6/dist-packages (from tensorflow-gpu==2.0.0-beta1) (0.8.0)\n",
      "Requirement already satisfied: numpy<2.0,>=1.14.5 in /usr/local/lib/python3.6/dist-packages (from tensorflow-gpu==2.0.0-beta1) (1.17.4)\n",
      "Requirement already satisfied: keras-preprocessing>=1.0.5 in /usr/local/lib/python3.6/dist-packages (from tensorflow-gpu==2.0.0-beta1) (1.1.0)\n",
      "Requirement already satisfied: werkzeug>=0.11.15 in /usr/local/lib/python3.6/dist-packages (from tb-nightly<1.14.0a20190604,>=1.14.0a20190603->tensorflow-gpu==2.0.0-beta1) (0.16.0)\n",
      "Requirement already satisfied: markdown>=2.6.8 in /usr/local/lib/python3.6/dist-packages (from tb-nightly<1.14.0a20190604,>=1.14.0a20190603->tensorflow-gpu==2.0.0-beta1) (3.1.1)\n",
      "Requirement already satisfied: setuptools>=41.0.0 in /usr/local/lib/python3.6/dist-packages (from tb-nightly<1.14.0a20190604,>=1.14.0a20190603->tensorflow-gpu==2.0.0-beta1) (41.6.0)\n",
      "Requirement already satisfied: h5py in /usr/local/lib/python3.6/dist-packages (from keras-applications>=1.0.6->tensorflow-gpu==2.0.0-beta1) (2.8.0)\n"
     ]
    }
   ],
   "source": [
    "!pip install tensorflow-gpu==2.0.0-beta1"
   ]
  },
  {
   "cell_type": "code",
   "execution_count": 9,
   "metadata": {
    "colab": {
     "base_uri": "https://localhost:8080/",
     "height": 34
    },
    "colab_type": "code",
    "executionInfo": {
     "elapsed": 949,
     "status": "ok",
     "timestamp": 1574824520822,
     "user": {
      "displayName": "김성한",
      "photoUrl": "https://lh3.googleusercontent.com/a-/AAuE7mCQ5zt754IaJCjKxICu0QpAmCSFkcYk7lzWwliKVw=s64",
      "userId": "13992033533003163921"
     },
     "user_tz": -540
    },
    "id": "XI7vwnwp3dg7",
    "outputId": "082a8662-f863-4601-b94b-92dc5d49d7ba"
   },
   "outputs": [
    {
     "data": {
      "text/plain": [
       "'2.0.0-beta1'"
      ]
     },
     "execution_count": 9,
     "metadata": {
      "tags": []
     },
     "output_type": "execute_result"
    }
   ],
   "source": [
    "import tensorflow as tf\n",
    "tf.__version__"
   ]
  },
  {
   "cell_type": "code",
   "execution_count": null,
   "metadata": {
    "colab": {},
    "colab_type": "code",
    "id": "4S-FA2La3qMU"
   },
   "outputs": [],
   "source": [
    "from tensorflow.keras.datasets import mnist\n",
    "from tensorflow.keras.utils import to_categorical"
   ]
  },
  {
   "cell_type": "code",
   "execution_count": null,
   "metadata": {
    "colab": {},
    "colab_type": "code",
    "id": "DPYR0d_T69q8"
   },
   "outputs": [],
   "source": [
    "(X_train0, y_train0), (X_test0, y_test0) = mnist.load_data()"
   ]
  },
  {
   "cell_type": "code",
   "execution_count": 12,
   "metadata": {
    "colab": {
     "base_uri": "https://localhost:8080/",
     "height": 87
    },
    "colab_type": "code",
    "executionInfo": {
     "elapsed": 619,
     "status": "ok",
     "timestamp": 1574824529758,
     "user": {
      "displayName": "김성한",
      "photoUrl": "https://lh3.googleusercontent.com/a-/AAuE7mCQ5zt754IaJCjKxICu0QpAmCSFkcYk7lzWwliKVw=s64",
      "userId": "13992033533003163921"
     },
     "user_tz": -540
    },
    "id": "NY02tL9LqgE7",
    "outputId": "ec43f863-c590-42df-ab32-ee2519c07776"
   },
   "outputs": [
    {
     "name": "stdout",
     "output_type": "stream",
     "text": [
      "X train shape :  (60000, 28, 28)\n",
      "y train shape :  (60000,)\n",
      "X test shape :  (10000, 28, 28)\n",
      "y test shape :  (10000,)\n"
     ]
    }
   ],
   "source": [
    "print(\"X train shape : \", X_train0.shape)\n",
    "print(\"y train shape : \", y_train0.shape)\n",
    "print(\"X test shape : \", X_test0.shape)\n",
    "print(\"y test shape : \", y_test0.shape)"
   ]
  },
  {
   "cell_type": "code",
   "execution_count": null,
   "metadata": {
    "colab": {},
    "colab_type": "code",
    "id": "PmSAqW38qq6T"
   },
   "outputs": [],
   "source": [
    "X_train = X_train0.reshape(60000, 784).astype('float32') / 255.0\n",
    "X_test = X_test0.reshape(10000, 784).astype('float32') / 255.0\n",
    "\n",
    "Y_train = to_categorical(y_train0, 10)\n",
    "Y_test = to_categorical(y_test0, 10)"
   ]
  },
  {
   "cell_type": "code",
   "execution_count": null,
   "metadata": {
    "colab": {},
    "colab_type": "code",
    "id": "w9c-HmGlrAb_"
   },
   "outputs": [],
   "source": [
    " # 입력 뉴런 개수\n",
    " input_layer_nodes = 784\n",
    "\n",
    " # 은닉층의 뉴런 개수\n",
    " hidden_layer_nodes = 15\n",
    "\n",
    " # 은닉층의 가중치와 바이어스\n",
    " w1 = tf.Variable(tf.random.normal((input_layer_nodes, hidden_layer_nodes)))\n",
    " b1 = tf.Variable(tf.random.normal((hidden_layer_nodes,)))\n",
    "\n",
    " # 은닉층 출력 계산\n",
    " @tf.function\n",
    " def hidden_output(X_batch) :\n",
    "   return tf.nn.sigmoid(tf.add(tf.matmul(X_batch, w1), b1))"
   ]
  },
  {
   "cell_type": "code",
   "execution_count": null,
   "metadata": {
    "colab": {},
    "colab_type": "code",
    "id": "So5tPvG63yg7"
   },
   "outputs": [],
   "source": [
    "# 출력층의 가중치와 바이어스\n",
    "w2 = tf.Variable(tf.random.normal((hidden_layer_nodes, 10)))\n",
    "b2 = tf.Variable(tf.random.normal((10,)))\n",
    "\n",
    "# 출력층 출력 계산\n",
    "@tf.function\n",
    "def final_output(X_batch) :\n",
    "  return tf.nn.sigmoid(tf.add(tf.matmul(hidden_output(X_batch), w2), b2))"
   ]
  },
  {
   "cell_type": "code",
   "execution_count": null,
   "metadata": {
    "colab": {},
    "colab_type": "code",
    "id": "gb7v-GPu4JxH"
   },
   "outputs": [],
   "source": [
    "# 손실함수\n",
    "@tf.function\n",
    "def loss(X_batch, y_target) :\n",
    "  return tf.nn.softmax_cross_entropy_with_logits(y_target, final_output(X_batch))"
   ]
  },
  {
   "cell_type": "code",
   "execution_count": null,
   "metadata": {
    "colab": {},
    "colab_type": "code",
    "id": "9Z0LsICq4Yx3"
   },
   "outputs": [],
   "source": [
    "# 최적화 객체\n",
    "optimizer = tf.keras.optimizers.Adam()\n",
    "\n",
    "# 학습 실행 코드\n",
    "@tf.function\n",
    "def train_step(X_batch, y_target) :\n",
    "  with tf.GradientTape() as tape :\n",
    "    loss_val = loss(X_batch, y_target)\n",
    "\n",
    "  variables = [w1, b1, w2, b2]\n",
    "  gradients = tape.gradient(loss_val, variables)\n",
    "  optimizer.apply_gradients(zip(gradients, variables))\n",
    "\n",
    "  return loss_val"
   ]
  },
  {
   "cell_type": "code",
   "execution_count": 19,
   "metadata": {
    "colab": {
     "base_uri": "https://localhost:8080/",
     "height": 52
    },
    "colab_type": "code",
    "executionInfo": {
     "elapsed": 10877,
     "status": "ok",
     "timestamp": 1574825344434,
     "user": {
      "displayName": "김성한",
      "photoUrl": "https://lh3.googleusercontent.com/a-/AAuE7mCQ5zt754IaJCjKxICu0QpAmCSFkcYk7lzWwliKVw=s64",
      "userId": "13992033533003163921"
     },
     "user_tz": -540
    },
    "id": "9AJX5S8t46FG",
    "outputId": "95b71016-3bca-4def-cbdb-43d857359508"
   },
   "outputs": [
    {
     "name": "stdout",
     "output_type": "stream",
     "text": [
      "CPU times: user 5 µs, sys: 0 ns, total: 5 µs\n",
      "Wall time: 9.78 µs\n"
     ]
    }
   ],
   "source": [
    "import numpy as np\n",
    "\n",
    "%time\n",
    "\n",
    "# 학습\n",
    "batch_size = 100\n",
    "epochs = 10\n",
    "num_iterations = int(60000 / batch_size * epochs)\n",
    "\n",
    "loss_train = []\n",
    "loss_test = []\n",
    "\n",
    "np.random.seed(0)\n",
    "idx = 0\n",
    "epoch = 0\n",
    "\n",
    "for i in range(num_iterations) :\n",
    "  loss_train_val = train_step(X_train[idx:idx+batch_size, :],\n",
    "                              Y_train[idx:idx+batch_size, :]).numpy().mean()\n",
    "  idx += batch_size\n",
    "\n",
    "  if idx >= 60000:\n",
    "    loss_train.append(loss_train_val)\n",
    "\n",
    "    loss_test_val = loss(X_test, Y_test).numpy().mean()\n",
    "    loss_test.append(loss_test_val)\n",
    "\n",
    "    epoch += 1\n",
    "    idx = 0"
   ]
  },
  {
   "cell_type": "code",
   "execution_count": 22,
   "metadata": {
    "colab": {
     "base_uri": "https://localhost:8080/",
     "height": 264
    },
    "colab_type": "code",
    "executionInfo": {
     "elapsed": 1115,
     "status": "ok",
     "timestamp": 1574825409304,
     "user": {
      "displayName": "김성한",
      "photoUrl": "https://lh3.googleusercontent.com/a-/AAuE7mCQ5zt754IaJCjKxICu0QpAmCSFkcYk7lzWwliKVw=s64",
      "userId": "13992033533003163921"
     },
     "user_tz": -540
    },
    "id": "szX-DCRF52wh",
    "outputId": "707df4c8-af87-46dd-adb7-dd658789e67a"
   },
   "outputs": [
    {
     "data": {
      "image/png": "[encoded data removed]",
      "text/plain": [
       "<Figure size 432x288 with 1 Axes>"
      ]
     },
     "metadata": {
      "tags": []
     },
     "output_type": "display_data"
    }
   ],
   "source": [
    "import matplotlib.pyplot as plt\n",
    "%matplotlib inline\n",
    "\n",
    "# 결과\n",
    "plt.plot(loss_train, \"-\", label=\"train\")\n",
    "plt.plot(loss_test, \"--\", label=\"test\")\n",
    "plt.legend()\n",
    "plt.show()"
   ]
  },
  {
   "cell_type": "markdown",
   "metadata": {
    "colab_type": "text",
    "id": "J917cdf66BeE"
   },
   "source": [
    "## 테스트"
   ]
  },
  {
   "cell_type": "code",
   "execution_count": 28,
   "metadata": {
    "colab": {
     "base_uri": "https://localhost:8080/",
     "height": 84
    },
    "colab_type": "code",
    "executionInfo": {
     "elapsed": 917,
     "status": "ok",
     "timestamp": 1574825495764,
     "user": {
      "displayName": "김성한",
      "photoUrl": "https://lh3.googleusercontent.com/a-/AAuE7mCQ5zt754IaJCjKxICu0QpAmCSFkcYk7lzWwliKVw=s64",
      "userId": "13992033533003163921"
     },
     "user_tz": -540
    },
    "id": "bhDYIrbC6QxL",
    "outputId": "3b6071a1-f471-4501-eeba-87a5e65be0d3"
   },
   "outputs": [
    {
     "data": {
      "image/png": "[encoded data removed]",
      "text/plain": [
       "<Figure size 72x72 with 1 Axes>"
      ]
     },
     "metadata": {
      "tags": []
     },
     "output_type": "display_data"
    }
   ],
   "source": [
    "import matplotlib as mpl\n",
    "\n",
    "plt.figure(figsize=(1,1))\n",
    "plt.imshow(X_test0[0], cmap=mpl.cm.bone_r)\n",
    "plt.grid(False)\n",
    "plt.axis(\"off\")\n",
    "plt.show()"
   ]
  },
  {
   "cell_type": "code",
   "execution_count": 29,
   "metadata": {
    "colab": {
     "base_uri": "https://localhost:8080/",
     "height": 264
    },
    "colab_type": "code",
    "executionInfo": {
     "elapsed": 991,
     "status": "ok",
     "timestamp": 1574825534969,
     "user": {
      "displayName": "김성한",
      "photoUrl": "https://lh3.googleusercontent.com/a-/AAuE7mCQ5zt754IaJCjKxICu0QpAmCSFkcYk7lzWwliKVw=s64",
      "userId": "13992033533003163921"
     },
     "user_tz": -540
    },
    "id": "mrwMaM-i6S8D",
    "outputId": "1bfa6751-c3bd-4af1-d235-a6a820ac8e3c"
   },
   "outputs": [
    {
     "data": {
      "image/png": "[encoded data removed]",
      "text/plain": [
       "<Figure size 432x288 with 1 Axes>"
      ]
     },
     "metadata": {
      "tags": []
     },
     "output_type": "display_data"
    }
   ],
   "source": [
    "plt.bar(np.arange(10), final_output(X_test[:1, :]).numpy().flatten())\n",
    "plt.show()"
   ]
  }
 ],
 "metadata": {
  "colab": {
   "collapsed_sections": [],
   "name": "03.05 텐서플로를 사용한 신경망 구현.ipynb",
   "provenance": []
  },
  "kernelspec": {
   "display_name": "Python 3",
   "language": "python",
   "name": "python3"
  },
  "language_info": {
   "codemirror_mode": {
    "name": "ipython",
    "version": 3
   },
   "file_extension": ".py",
   "mimetype": "text/x-python",
   "name": "python",
   "nbconvert_exporter": "python",
   "pygments_lexer": "ipython3",
   "version": "3.6.9"
  }
 },
 "nbformat": 4,
 "nbformat_minor": 4
}
