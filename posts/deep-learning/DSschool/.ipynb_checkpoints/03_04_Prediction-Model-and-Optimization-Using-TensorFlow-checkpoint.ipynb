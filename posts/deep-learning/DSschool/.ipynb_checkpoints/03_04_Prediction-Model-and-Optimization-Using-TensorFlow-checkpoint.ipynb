{
 "cells": [
  {
   "cell_type": "markdown",
   "metadata": {
    "colab_type": "text",
    "id": "a51STGJUAeBj"
   },
   "source": [
    "# 3.4 텐서플로를 사용한 예측모형과 최적화"
   ]
  },
  {
   "cell_type": "markdown",
   "metadata": {},
   "source": [
    "[https://datascienceschool.net/view-notebook/24370f48311843108e46f05682c8e50c/](https://datascienceschool.net/view-notebook/24370f48311843108e46f05682c8e50c/)"
   ]
  },
  {
   "cell_type": "code",
   "execution_count": 1,
   "metadata": {
    "colab": {
     "base_uri": "https://localhost:8080/",
     "height": 541
    },
    "colab_type": "code",
    "executionInfo": {
     "elapsed": 81804,
     "status": "ok",
     "timestamp": 1574340760571,
     "user": {
      "displayName": "김성한",
      "photoUrl": "https://lh3.googleusercontent.com/a-/AAuE7mCQ5zt754IaJCjKxICu0QpAmCSFkcYk7lzWwliKVw=s64",
      "userId": "13992033533003163921"
     },
     "user_tz": -540
    },
    "id": "J6XeXXaOAWKe",
    "outputId": "d3122ba8-2e9b-4ec6-f813-191bbe75e454"
   },
   "outputs": [
    {
     "name": "stdout",
     "output_type": "stream",
     "text": [
      "Collecting tensorflow-gpu==2.0.0-beta1\n",
      "\u001b[?25l  Downloading https://files.pythonhosted.org/packages/2b/53/e18c5e7a2263d3581a979645a185804782e59b8e13f42b9c3c3cfb5bb503/tensorflow_gpu-2.0.0b1-cp36-cp36m-manylinux1_x86_64.whl (348.9MB)\n",
      "\u001b[K     |████████████████████████████████| 348.9MB 25kB/s \n",
      "\u001b[?25hRequirement already satisfied: absl-py>=0.7.0 in /usr/local/lib/python3.6/dist-packages (from tensorflow-gpu==2.0.0-beta1) (0.8.1)\n",
      "Requirement already satisfied: keras-preprocessing>=1.0.5 in /usr/local/lib/python3.6/dist-packages (from tensorflow-gpu==2.0.0-beta1) (1.1.0)\n",
      "Requirement already satisfied: numpy<2.0,>=1.14.5 in /usr/local/lib/python3.6/dist-packages (from tensorflow-gpu==2.0.0-beta1) (1.17.4)\n",
      "Collecting tb-nightly<1.14.0a20190604,>=1.14.0a20190603\n",
      "\u001b[?25l  Downloading https://files.pythonhosted.org/packages/a4/96/571b875cd81dda9d5dfa1422a4f9d749e67c0a8d4f4f0b33a4e5f5f35e27/tb_nightly-1.14.0a20190603-py3-none-any.whl (3.1MB)\n",
      "\u001b[K     |████████████████████████████████| 3.1MB 29.6MB/s \n",
      "\u001b[?25hRequirement already satisfied: grpcio>=1.8.6 in /usr/local/lib/python3.6/dist-packages (from tensorflow-gpu==2.0.0-beta1) (1.15.0)\n",
      "Requirement already satisfied: wheel>=0.26 in /usr/local/lib/python3.6/dist-packages (from tensorflow-gpu==2.0.0-beta1) (0.33.6)\n",
      "Requirement already satisfied: astor>=0.6.0 in /usr/local/lib/python3.6/dist-packages (from tensorflow-gpu==2.0.0-beta1) (0.8.0)\n",
      "Requirement already satisfied: google-pasta>=0.1.6 in /usr/local/lib/python3.6/dist-packages (from tensorflow-gpu==2.0.0-beta1) (0.1.8)\n",
      "Requirement already satisfied: six>=1.10.0 in /usr/local/lib/python3.6/dist-packages (from tensorflow-gpu==2.0.0-beta1) (1.12.0)\n",
      "Requirement already satisfied: protobuf>=3.6.1 in /usr/local/lib/python3.6/dist-packages (from tensorflow-gpu==2.0.0-beta1) (3.10.0)\n",
      "Collecting tf-estimator-nightly<1.14.0.dev2019060502,>=1.14.0.dev2019060501\n",
      "\u001b[?25l  Downloading https://files.pythonhosted.org/packages/32/dd/99c47dd007dcf10d63fd895611b063732646f23059c618a373e85019eb0e/tf_estimator_nightly-1.14.0.dev2019060501-py2.py3-none-any.whl (496kB)\n",
      "\u001b[K     |████████████████████████████████| 501kB 41.5MB/s \n",
      "\u001b[?25hRequirement already satisfied: termcolor>=1.1.0 in /usr/local/lib/python3.6/dist-packages (from tensorflow-gpu==2.0.0-beta1) (1.1.0)\n",
      "Requirement already satisfied: keras-applications>=1.0.6 in /usr/local/lib/python3.6/dist-packages (from tensorflow-gpu==2.0.0-beta1) (1.0.8)\n",
      "Requirement already satisfied: wrapt>=1.11.1 in /usr/local/lib/python3.6/dist-packages (from tensorflow-gpu==2.0.0-beta1) (1.11.2)\n",
      "Requirement already satisfied: gast>=0.2.0 in /usr/local/lib/python3.6/dist-packages (from tensorflow-gpu==2.0.0-beta1) (0.2.2)\n",
      "Requirement already satisfied: markdown>=2.6.8 in /usr/local/lib/python3.6/dist-packages (from tb-nightly<1.14.0a20190604,>=1.14.0a20190603->tensorflow-gpu==2.0.0-beta1) (3.1.1)\n",
      "Requirement already satisfied: werkzeug>=0.11.15 in /usr/local/lib/python3.6/dist-packages (from tb-nightly<1.14.0a20190604,>=1.14.0a20190603->tensorflow-gpu==2.0.0-beta1) (0.16.0)\n",
      "Requirement already satisfied: setuptools>=41.0.0 in /usr/local/lib/python3.6/dist-packages (from tb-nightly<1.14.0a20190604,>=1.14.0a20190603->tensorflow-gpu==2.0.0-beta1) (41.6.0)\n",
      "Requirement already satisfied: h5py in /usr/local/lib/python3.6/dist-packages (from keras-applications>=1.0.6->tensorflow-gpu==2.0.0-beta1) (2.8.0)\n",
      "Installing collected packages: tb-nightly, tf-estimator-nightly, tensorflow-gpu\n",
      "Successfully installed tb-nightly-1.14.0a20190603 tensorflow-gpu-2.0.0b1 tf-estimator-nightly-1.14.0.dev2019060501\n"
     ]
    }
   ],
   "source": [
    "# 코랩에서는 다음 코드로 베타 버전을 설치한다.\n",
    "!pip install tensorflow-gpu==2.0.0-beta1"
   ]
  },
  {
   "cell_type": "code",
   "execution_count": 2,
   "metadata": {
    "colab": {
     "base_uri": "https://localhost:8080/",
     "height": 487
    },
    "colab_type": "code",
    "executionInfo": {
     "elapsed": 4434,
     "status": "ok",
     "timestamp": 1574341072356,
     "user": {
      "displayName": "김성한",
      "photoUrl": "https://lh3.googleusercontent.com/a-/AAuE7mCQ5zt754IaJCjKxICu0QpAmCSFkcYk7lzWwliKVw=s64",
      "userId": "13992033533003163921"
     },
     "user_tz": -540
    },
    "id": "h05j8uUuBB-H",
    "outputId": "02f1d619-1133-4fc2-9eac-16f3cd81e8c4"
   },
   "outputs": [
    {
     "name": "stderr",
     "output_type": "stream",
     "text": [
      "/usr/local/lib/python3.6/dist-packages/tensorflow/python/framework/dtypes.py:516: FutureWarning: Passing (type, 1) or '1type' as a synonym of type is deprecated; in a future version of numpy, it will be understood as (type, (1,)) / '(1,)type'.\n",
      "  _np_qint8 = np.dtype([(\"qint8\", np.int8, 1)])\n",
      "/usr/local/lib/python3.6/dist-packages/tensorflow/python/framework/dtypes.py:517: FutureWarning: Passing (type, 1) or '1type' as a synonym of type is deprecated; in a future version of numpy, it will be understood as (type, (1,)) / '(1,)type'.\n",
      "  _np_quint8 = np.dtype([(\"quint8\", np.uint8, 1)])\n",
      "/usr/local/lib/python3.6/dist-packages/tensorflow/python/framework/dtypes.py:518: FutureWarning: Passing (type, 1) or '1type' as a synonym of type is deprecated; in a future version of numpy, it will be understood as (type, (1,)) / '(1,)type'.\n",
      "  _np_qint16 = np.dtype([(\"qint16\", np.int16, 1)])\n",
      "/usr/local/lib/python3.6/dist-packages/tensorflow/python/framework/dtypes.py:519: FutureWarning: Passing (type, 1) or '1type' as a synonym of type is deprecated; in a future version of numpy, it will be understood as (type, (1,)) / '(1,)type'.\n",
      "  _np_quint16 = np.dtype([(\"quint16\", np.uint16, 1)])\n",
      "/usr/local/lib/python3.6/dist-packages/tensorflow/python/framework/dtypes.py:520: FutureWarning: Passing (type, 1) or '1type' as a synonym of type is deprecated; in a future version of numpy, it will be understood as (type, (1,)) / '(1,)type'.\n",
      "  _np_qint32 = np.dtype([(\"qint32\", np.int32, 1)])\n",
      "/usr/local/lib/python3.6/dist-packages/tensorflow/python/framework/dtypes.py:525: FutureWarning: Passing (type, 1) or '1type' as a synonym of type is deprecated; in a future version of numpy, it will be understood as (type, (1,)) / '(1,)type'.\n",
      "  np_resource = np.dtype([(\"resource\", np.ubyte, 1)])\n",
      "/usr/local/lib/python3.6/dist-packages/tensorboard/compat/tensorflow_stub/dtypes.py:541: FutureWarning: Passing (type, 1) or '1type' as a synonym of type is deprecated; in a future version of numpy, it will be understood as (type, (1,)) / '(1,)type'.\n",
      "  _np_qint8 = np.dtype([(\"qint8\", np.int8, 1)])\n",
      "/usr/local/lib/python3.6/dist-packages/tensorboard/compat/tensorflow_stub/dtypes.py:542: FutureWarning: Passing (type, 1) or '1type' as a synonym of type is deprecated; in a future version of numpy, it will be understood as (type, (1,)) / '(1,)type'.\n",
      "  _np_quint8 = np.dtype([(\"quint8\", np.uint8, 1)])\n",
      "/usr/local/lib/python3.6/dist-packages/tensorboard/compat/tensorflow_stub/dtypes.py:543: FutureWarning: Passing (type, 1) or '1type' as a synonym of type is deprecated; in a future version of numpy, it will be understood as (type, (1,)) / '(1,)type'.\n",
      "  _np_qint16 = np.dtype([(\"qint16\", np.int16, 1)])\n",
      "/usr/local/lib/python3.6/dist-packages/tensorboard/compat/tensorflow_stub/dtypes.py:544: FutureWarning: Passing (type, 1) or '1type' as a synonym of type is deprecated; in a future version of numpy, it will be understood as (type, (1,)) / '(1,)type'.\n",
      "  _np_quint16 = np.dtype([(\"quint16\", np.uint16, 1)])\n",
      "/usr/local/lib/python3.6/dist-packages/tensorboard/compat/tensorflow_stub/dtypes.py:545: FutureWarning: Passing (type, 1) or '1type' as a synonym of type is deprecated; in a future version of numpy, it will be understood as (type, (1,)) / '(1,)type'.\n",
      "  _np_qint32 = np.dtype([(\"qint32\", np.int32, 1)])\n",
      "/usr/local/lib/python3.6/dist-packages/tensorboard/compat/tensorflow_stub/dtypes.py:550: FutureWarning: Passing (type, 1) or '1type' as a synonym of type is deprecated; in a future version of numpy, it will be understood as (type, (1,)) / '(1,)type'.\n",
      "  np_resource = np.dtype([(\"resource\", np.ubyte, 1)])\n"
     ]
    },
    {
     "data": {
      "text/plain": [
       "'2.0.0-beta1'"
      ]
     },
     "execution_count": 2,
     "metadata": {
      "tags": []
     },
     "output_type": "execute_result"
    }
   ],
   "source": [
    "import tensorflow as tf\n",
    "tf.__version__"
   ]
  },
  {
   "cell_type": "markdown",
   "metadata": {
    "colab_type": "text",
    "id": "DSrZlUgTBNhu"
   },
   "source": [
    "<br>"
   ]
  },
  {
   "cell_type": "markdown",
   "metadata": {
    "colab_type": "text",
    "id": "qxVOl7oTBOR9"
   },
   "source": [
    "## 예측 모형\n",
    "\n",
    "함수의 입력과 출력 데이터가 훈련데이터로 주어졌을 때 이 훈련 데이터의 특성을 최대한 비슷하게 따라할 수 있는 함수가 바로 예측모형이다. 예를 들어 다음과 같은 함수가 있다고 하자.\n",
    "\n",
    "$$\n",
    "f(x;w) = wx\n",
    "$$\n",
    "\n",
    "$x=5$ 일 때 이 함수의 값이 $50$에 가까워지는 $w$값을 찾으면 다음과 같은 훈련 데이터에 대한 예측 모형을 만든 것이다.\n",
    "\n",
    "$$\n",
    "x=5 \\rightarrow f(x) = 50\n",
    "$$"
   ]
  },
  {
   "cell_type": "markdown",
   "metadata": {
    "colab_type": "text",
    "id": "jGNW07YJDBSe"
   },
   "source": [
    "## 손실함수\n",
    "\n",
    "예측모형을 만드는 방법은 함수의 출력과 훈련 데이터의 목표값이 일치할 수록 값이 작아지는 손실함수를 정의하고 그 손실함수를 최소화하는 최적화를 실행하는 것이다. 예를 들어 위와 같은 예측문제에서 손실함수는 다음처럼 정의할 수 있다.\n",
    "\n",
    "$$\n",
    "loss = \\left( f(5;w) - 50 \\right)^2\n",
    "$$"
   ]
  },
  {
   "cell_type": "markdown",
   "metadata": {
    "colab_type": "text",
    "id": "hK-JLBk1FdSh"
   },
   "source": [
    "## 최적화\n",
    "\n",
    "텐서플로를 사용하여 최적화를 하는 방법은 다음과 같다.\n",
    "\n",
    "1. 변수를 정의한다.\n",
    "2. 그래디언트를 구한다.\n",
    "3. 그래디언트를 사용하여 변수값을 업데이트 한다. 예를 들어 Steepest Gradient 방법을 사용한다면 다음과 같은 수식을 적용하는 것과 같다. 변수 이름은 $w$라고 가정한다.\n",
    "\n",
    "$$\n",
    "w_{k+1} = w_k - \\mu \\cdot g\n",
    "$$\n",
    "\n",
    "4. 2, 3번을 반복한다. 보통 2, 3번을 묶어서 하나의 함수로 만든다.\n",
    "\n",
    "다음으로 손실함수의 그레디언트를 구하고 변수를 업데이트하는 코드를 `train_step` 이라는 하나의 함수로 만든다."
   ]
  },
  {
   "cell_type": "code",
   "execution_count": null,
   "metadata": {
    "colab": {},
    "colab_type": "code",
    "id": "8tldAWifGMFl"
   },
   "outputs": [],
   "source": [
    "x = tf.Variable(tf.constant(5.0)) # x = 5\n",
    "w = tf.Variable(tf.constant(0.0)) # w의 초깃값\n",
    "\n",
    "@tf.function\n",
    "def train_step() :\n",
    "\n",
    "  with tf.GradientTape() as tape :\n",
    "\n",
    "    y = tf.multiply(w, x)\n",
    "    loss = tf.square(tf.subtract(y, 50))\n",
    "\n",
    "  gradient = tape.gradient(loss, w)\n",
    "  mu = 0.01\n",
    "  w.assign_sub(mu * gradient)"
   ]
  },
  {
   "cell_type": "markdown",
   "metadata": {
    "colab_type": "text",
    "id": "9hvE7QHzGnRE"
   },
   "source": [
    "이 `train_step()` 함수를 반복하면 손실함수를 최소화하는 a값을 구할 수 있다. a값이 10으로 수렴하는 것을 볼 수 있다."
   ]
  },
  {
   "cell_type": "code",
   "execution_count": 7,
   "metadata": {
    "colab": {
     "base_uri": "https://localhost:8080/",
     "height": 197
    },
    "colab_type": "code",
    "executionInfo": {
     "elapsed": 947,
     "status": "ok",
     "timestamp": 1574342248545,
     "user": {
      "displayName": "김성한",
      "photoUrl": "https://lh3.googleusercontent.com/a-/AAuE7mCQ5zt754IaJCjKxICu0QpAmCSFkcYk7lzWwliKVw=s64",
      "userId": "13992033533003163921"
     },
     "user_tz": -540
    },
    "id": "SrjJVjpbGxcJ",
    "outputId": "7abf8386-64de-46c0-afb0-751d0139c509"
   },
   "outputs": [
    {
     "name": "stdout",
     "output_type": "stream",
     "text": [
      "0:8.75\n",
      "1:9.38\n",
      "2:9.69\n",
      "3:9.84\n",
      "4:9.92\n",
      "5:9.96\n",
      "6:9.98\n",
      "7:9.99\n",
      "8:10.0\n",
      "9:10.0\n"
     ]
    }
   ],
   "source": [
    "for i in range(10) :\n",
    "  train_step()\n",
    "  print(\"{:1}:{:4.3}\".format(i, w.numpy()))"
   ]
  },
  {
   "cell_type": "markdown",
   "metadata": {
    "colab_type": "text",
    "id": "8-czWvVqHG3r"
   },
   "source": [
    "## 최적화 객체\n",
    "\n",
    "텐서플로의 keras.optimizers 서브패키지는 다양한 최적화 객체를 제공한다.\n",
    "\n",
    "- `Adadelta`: Adadelta algorithm.\n",
    "- `Adagrad`: Adagrad algorithm.\n",
    "- `Adam`: Adam algorithm.\n",
    "- `Adamax`: Adamax algorithm.\n",
    "- `Ftrl`: FTRL algorithm.\n",
    "- `Nadam`: NAdam algorithm.\n",
    "- `RMSprop`: RMSprop algorithm.\n",
    "- `SGD`: Stochastic gradient descent and momentum optimizer.\n",
    "\n",
    "이 최적화 객체를 사용하면 여러가지 다양한 최적화 방법을 쉽게 사용할 수 있다. 최적화 객체가 있을 때는 `apply_gradients()` 메서드로 변수값을 업데이트할 수 있다. `apply_gradients()` 메서드는 그레디언트와 해당 변수의 튜플의 리스트를 인수로 받는다.\n",
    "\n",
    "최적화 객체를 사용하면 위 코드는 다음처럼 바뀐다."
   ]
  },
  {
   "cell_type": "code",
   "execution_count": 9,
   "metadata": {
    "colab": {
     "base_uri": "https://localhost:8080/",
     "height": 197
    },
    "colab_type": "code",
    "executionInfo": {
     "elapsed": 1298,
     "status": "ok",
     "timestamp": 1574342597489,
     "user": {
      "displayName": "김성한",
      "photoUrl": "https://lh3.googleusercontent.com/a-/AAuE7mCQ5zt754IaJCjKxICu0QpAmCSFkcYk7lzWwliKVw=s64",
      "userId": "13992033533003163921"
     },
     "user_tz": -540
    },
    "id": "eJleMO2WHquE",
    "outputId": "5cb13f10-b7d3-452f-adff-1dd29043171f"
   },
   "outputs": [
    {
     "name": "stdout",
     "output_type": "stream",
     "text": [
      "0: 5.0\n",
      "1: 7.5\n",
      "2:8.75\n",
      "3:9.38\n",
      "4:9.69\n",
      "5:9.84\n",
      "6:9.92\n",
      "7:9.96\n",
      "8:9.98\n",
      "9:9.99\n"
     ]
    }
   ],
   "source": [
    "from tensorflow import keras\n",
    "\n",
    "optimizer = keras.optimizers.SGD()\n",
    "\n",
    "x = tf.Variable(tf.constant(5.0))  # x = 5\n",
    "w = tf.Variable(tf.constant(0.0))  # w의 초깃값\n",
    "\n",
    "@tf.function\n",
    "def train_step() :\n",
    "  with tf.GradientTape() as tape :\n",
    "    y = tf.multiply(w, x)\n",
    "    loss = tf.square(tf.subtract(y, 50))\n",
    "\n",
    "  gradient = tape.gradient(loss, w)\n",
    "  optimizer.apply_gradients([(gradient, w)])\n",
    "\n",
    "for i in range(10) :\n",
    "  train_step()\n",
    "  print(\"{:1}:{:4.3}\".format(i, w.numpy()))"
   ]
  },
  {
   "cell_type": "markdown",
   "metadata": {
    "colab_type": "text",
    "id": "ya34pKWyIblT"
   },
   "source": [
    "## 복수의 변수가 있는 경우\n",
    "\n",
    "이번에는 $x=5$ 일 때 $wx + b$ 의 값이 50에 가까워지는 $a, b$ 값을 찾자.\n",
    "\n",
    "$$\n",
    "f(x;w,b) = wx + b\n",
    "$$\n",
    "\n",
    "$$\n",
    "x=5 \\rightarrow f(x) = 50\n",
    "$$\n",
    "\n",
    "손실함수는 동일하다."
   ]
  },
  {
   "cell_type": "code",
   "execution_count": 10,
   "metadata": {
    "colab": {
     "base_uri": "https://localhost:8080/",
     "height": 287
    },
    "colab_type": "code",
    "executionInfo": {
     "elapsed": 843,
     "status": "ok",
     "timestamp": 1574342897412,
     "user": {
      "displayName": "김성한",
      "photoUrl": "https://lh3.googleusercontent.com/a-/AAuE7mCQ5zt754IaJCjKxICu0QpAmCSFkcYk7lzWwliKVw=s64",
      "userId": "13992033533003163921"
     },
     "user_tz": -540
    },
    "id": "RjgEtZmTI0hO",
    "outputId": "958ab668-ec7e-4d71-91cf-ae47b05b64a3"
   },
   "outputs": [
    {
     "name": "stdout",
     "output_type": "stream",
     "text": [
      " 0:w=5.40000, b=1.88000, loss=1936.00000\n",
      " 1:w=7.51200, b=2.30240, loss= 446.05444\n",
      " 2:w=8.52576, b=2.50515, loss= 102.77094\n",
      " 3:w=9.01236, b=2.60247, loss=  23.67841\n",
      " 4:w=9.24593, b=2.64919, loss=   5.45552\n",
      " 5:w=9.35805, b=2.67161, loss=   1.25695\n",
      " 6:w=9.41186, b=2.68237, loss=   0.28960\n",
      " 7:w=9.43769, b=2.68754, loss=   0.06672\n",
      " 8:w=9.45009, b=2.69002, loss=   0.01537\n",
      " 9:w=9.45605, b=2.69121, loss=   0.00354\n",
      "10:w=9.45890, b=2.69178, loss=   0.00082\n",
      "11:w=9.46027, b=2.69205, loss=   0.00019\n",
      "12:w=9.46093, b=2.69219, loss=   0.00004\n",
      "13:w=9.46125, b=2.69225, loss=   0.00001\n",
      "14:w=9.46140, b=2.69228, loss=   0.00000\n"
     ]
    }
   ],
   "source": [
    "x = tf.Variable(tf.constant(5.0)) # x = 5\n",
    "w = tf.Variable(tf.constant(1.0)) # w의 초깃값\n",
    "b = tf.Variable(tf.constant(1.0)) # b의 초깃값\n",
    "\n",
    "@tf.function\n",
    "def train_step() :\n",
    "  with tf.GradientTape() as tape :\n",
    "    y = tf.add(tf.multiply(w, x), b)\n",
    "    loss = tf.square(tf.subtract(y, 50))\n",
    "\n",
    "  variables = [w, b]\n",
    "  gradients = tape.gradient(loss, variables)\n",
    "  optimizer.apply_gradients(zip(gradients, variables))\n",
    "\n",
    "  return loss\n",
    "\n",
    "for i in range(15) :\n",
    "  loss = train_step()\n",
    "  print(\"{:2}:w={:6.5f}, b={:6.5f}, loss={:10.5f}\".format(i, w.numpy(), b.numpy(), loss.numpy()))"
   ]
  },
  {
   "cell_type": "markdown",
   "metadata": {
    "colab_type": "text",
    "id": "zC13nLq0Jmsk"
   },
   "source": [
    "## 선형회귀 모형\n",
    "\n",
    "이번에는 복수의 데이터가 있는 간단한 선형회귀모형을 계산해보자. 이 코드에서는 몇 가지를 수정하였다.\n",
    "\n",
    "1. 예측값을 구하는 코드를 별도의 모형함수로 분리하였다.\n",
    "2. 데이터가 미리 준비되지 않은 경우를 대비하여 모형함수와 훈련함수는 데이터를 인수로 받는다.\n",
    "3. 훈련에 의해 변화하는 값을 기록하였다."
   ]
  },
  {
   "cell_type": "code",
   "execution_count": 12,
   "metadata": {
    "colab": {
     "base_uri": "https://localhost:8080/",
     "height": 377
    },
    "colab_type": "code",
    "executionInfo": {
     "elapsed": 1365,
     "status": "ok",
     "timestamp": 1574343423291,
     "user": {
      "displayName": "김성한",
      "photoUrl": "https://lh3.googleusercontent.com/a-/AAuE7mCQ5zt754IaJCjKxICu0QpAmCSFkcYk7lzWwliKVw=s64",
      "userId": "13992033533003163921"
     },
     "user_tz": -540
    },
    "id": "_NmB2BNiJ1CL",
    "outputId": "888a429d-16a7-4195-9795-e6dfa60a6e9f"
   },
   "outputs": [
    {
     "name": "stdout",
     "output_type": "stream",
     "text": [
      "[00] loss: 126.794, w_0: 0.42, w_1: 1.30\n",
      "[01] loss:  96.723, w_0: 0.83, w_1: 1.56\n",
      "[02] loss:  75.718, w_0: 1.16, w_1: 1.79\n",
      "[03] loss:  60.772, w_0: 1.42, w_1: 2.01\n",
      "[04] loss:  49.922, w_0: 1.63, w_1: 2.22\n",
      "[05] loss:  41.882, w_0: 1.80, w_1: 2.41\n",
      "[06] loss:  35.799, w_0: 1.93, w_1: 2.58\n",
      "[07] loss:  31.108, w_0: 2.05, w_1: 2.75\n",
      "[08] loss:  27.423, w_0: 2.13, w_1: 2.90\n",
      "[09] loss:  24.482, w_0: 2.21, w_1: 3.04\n",
      "[10] loss:  22.103, w_0: 2.27, w_1: 3.17\n",
      "[11] loss:  20.156, w_0: 2.31, w_1: 3.29\n",
      "[12] loss:  18.548, w_0: 2.35, w_1: 3.40\n",
      "[13] loss:  17.210, w_0: 2.38, w_1: 3.51\n",
      "[14] loss:  16.090, w_0: 2.41, w_1: 3.60\n",
      "[15] loss:  15.148, w_0: 2.43, w_1: 3.69\n",
      "[16] loss:  14.353, w_0: 2.45, w_1: 3.77\n",
      "[17] loss:  13.680, w_0: 2.46, w_1: 3.85\n",
      "[18] loss:  13.110, w_0: 2.47, w_1: 3.92\n",
      "[19] loss:  12.625, w_0: 2.48, w_1: 3.98\n"
     ]
    }
   ],
   "source": [
    "# 가중치 변수\n",
    "w = tf.Variable(tf.random.normal((2, 1)))\n",
    "\n",
    "@tf.function\n",
    "def model_predict(X) :\n",
    "  return tf.matmul(X, w)\n",
    "\n",
    "@tf.function\n",
    "def train_step(X, y_target) :\n",
    "  with tf.GradientTape() as tape :\n",
    "    y_predict = model_predict(X)\n",
    "    loss = tf.reduce_sum(tf.square(y_target - y_predict))\n",
    "\n",
    "  gradient = tape.gradient(loss, w)\n",
    "  optimizer.apply_gradients([(gradient, w)])\n",
    "\n",
    "  return loss\n",
    "\n",
    "# 정답인 가중치 벡터\n",
    "w0 = tf.constant([[3.0], [5.0]])\n",
    "\n",
    "# 입력 데이터 행렬\n",
    "X = tf.concat([tf.ones((10,1)), tf.random.normal((10, 1))], 1)\n",
    "\n",
    "# 목표값 벡터\n",
    "y_target = tf.matmul(X, w0) + tf.random.normal((10, 1))\n",
    "\n",
    "losses = []\n",
    "w_0s = []\n",
    "w_1s = []\n",
    "\n",
    "for i in range(20) :\n",
    "\n",
    "  loss_value = train_step(X, y_target)\n",
    "  losses.append(loss_value)\n",
    "\n",
    "  w_0 = w.numpy()[0][0]\n",
    "  w_1 = w.numpy()[1][0]\n",
    "  w_0s.append(w_0)\n",
    "  w_1s.append(w_1)\n",
    "\n",
    "  print(f\"[{i:02d}] loss: {loss_value:7.3f}, w_0: {w_0:3.2f}, w_1: {w_1:3.2f}\")"
   ]
  },
  {
   "cell_type": "code",
   "execution_count": null,
   "metadata": {
    "colab": {},
    "colab_type": "code",
    "id": "zxZhTFqMLege"
   },
   "outputs": [],
   "source": [
    "import matplotlib.pyplot as plt\n",
    "%matplotlib inline"
   ]
  },
  {
   "cell_type": "code",
   "execution_count": 16,
   "metadata": {
    "colab": {
     "base_uri": "https://localhost:8080/",
     "height": 297
    },
    "colab_type": "code",
    "executionInfo": {
     "elapsed": 1367,
     "status": "ok",
     "timestamp": 1574343524332,
     "user": {
      "displayName": "김성한",
      "photoUrl": "https://lh3.googleusercontent.com/a-/AAuE7mCQ5zt754IaJCjKxICu0QpAmCSFkcYk7lzWwliKVw=s64",
      "userId": "13992033533003163921"
     },
     "user_tz": -540
    },
    "id": "4Ec5fYFZLpYT",
    "outputId": "4f188b31-189d-41f5-a0a7-24bc8eed2849"
   },
   "outputs": [
    {
     "data": {
      "image/png": "[encoded data removed]",
      "text/plain": [
       "<Figure size 432x288 with 3 Axes>"
      ]
     },
     "metadata": {
      "tags": []
     },
     "output_type": "display_data"
    }
   ],
   "source": [
    "plt.subplot(311)\n",
    "plt.plot(losses)\n",
    "plt.title(\"loss\")\n",
    "\n",
    "plt.subplot(312)\n",
    "plt.plot(w_0s)\n",
    "plt.title(\"W0\")\n",
    "\n",
    "plt.subplot(313)\n",
    "plt.plot(w_1s)\n",
    "plt.title(\"W1\")\n",
    "\n",
    "plt.tight_layout()\n",
    "plt.show()"
   ]
  },
  {
   "cell_type": "code",
   "execution_count": 19,
   "metadata": {
    "colab": {
     "base_uri": "https://localhost:8080/",
     "height": 265
    },
    "colab_type": "code",
    "executionInfo": {
     "elapsed": 1074,
     "status": "ok",
     "timestamp": 1574343580677,
     "user": {
      "displayName": "김성한",
      "photoUrl": "https://lh3.googleusercontent.com/a-/AAuE7mCQ5zt754IaJCjKxICu0QpAmCSFkcYk7lzWwliKVw=s64",
      "userId": "13992033533003163921"
     },
     "user_tz": -540
    },
    "id": "U0y2_hl_LrJ7",
    "outputId": "054611df-4d52-4939-f493-fa3c164d4f9a"
   },
   "outputs": [
    {
     "data": {
      "image/png": "[encoded data removed]",
      "text/plain": [
       "<Figure size 432x288 with 1 Axes>"
      ]
     },
     "metadata": {
      "tags": []
     },
     "output_type": "display_data"
    }
   ],
   "source": [
    "y_predict = tf.matmul(X, w)\n",
    "\n",
    "plt.plot(X[:, 1], y_target, \"ro\")\n",
    "plt.plot(X[:, 1], y_predict, \"b-\")\n",
    "plt.show()"
   ]
  },
  {
   "cell_type": "markdown",
   "metadata": {
    "colab_type": "text",
    "id": "WqLi2NKFMMAZ"
   },
   "source": [
    "## 보스턴 주택가격 예측\n",
    "\n",
    "지금까지 배운 개념을 이용해 보스턴 주택가격을 예측하는 선형회귀모형을 구현해 보자."
   ]
  },
  {
   "cell_type": "code",
   "execution_count": 23,
   "metadata": {
    "colab": {
     "base_uri": "https://localhost:8080/",
     "height": 223
    },
    "colab_type": "code",
    "executionInfo": {
     "elapsed": 1015,
     "status": "ok",
     "timestamp": 1574343718068,
     "user": {
      "displayName": "김성한",
      "photoUrl": "https://lh3.googleusercontent.com/a-/AAuE7mCQ5zt754IaJCjKxICu0QpAmCSFkcYk7lzWwliKVw=s64",
      "userId": "13992033533003163921"
     },
     "user_tz": -540
    },
    "id": "GYFltLBYMR-g",
    "outputId": "1b6f5560-2c63-4259-a283-7b0cce348449"
   },
   "outputs": [
    {
     "data": {
      "text/html": [
       "<div>\n",
       "<style scoped>\n",
       "    .dataframe tbody tr th:only-of-type {\n",
       "        vertical-align: middle;\n",
       "    }\n",
       "\n",
       "    .dataframe tbody tr th {\n",
       "        vertical-align: top;\n",
       "    }\n",
       "\n",
       "    .dataframe thead th {\n",
       "        text-align: right;\n",
       "    }\n",
       "</style>\n",
       "<table border=\"1\" class=\"dataframe\">\n",
       "  <thead>\n",
       "    <tr style=\"text-align: right;\">\n",
       "      <th></th>\n",
       "      <th>CRIM</th>\n",
       "      <th>ZN</th>\n",
       "      <th>INDUS</th>\n",
       "      <th>CHAS</th>\n",
       "      <th>NOX</th>\n",
       "      <th>RM</th>\n",
       "      <th>AGE</th>\n",
       "      <th>DIS</th>\n",
       "      <th>RAD</th>\n",
       "      <th>TAX</th>\n",
       "      <th>PTRATIO</th>\n",
       "      <th>B</th>\n",
       "      <th>LSTAT</th>\n",
       "      <th>const</th>\n",
       "    </tr>\n",
       "  </thead>\n",
       "  <tbody>\n",
       "    <tr>\n",
       "      <th>0</th>\n",
       "      <td>0.00632</td>\n",
       "      <td>18.0</td>\n",
       "      <td>2.31</td>\n",
       "      <td>0.0</td>\n",
       "      <td>0.538</td>\n",
       "      <td>6.575</td>\n",
       "      <td>65.2</td>\n",
       "      <td>4.0900</td>\n",
       "      <td>1.0</td>\n",
       "      <td>296.0</td>\n",
       "      <td>15.3</td>\n",
       "      <td>396.90</td>\n",
       "      <td>4.98</td>\n",
       "      <td>1.0</td>\n",
       "    </tr>\n",
       "    <tr>\n",
       "      <th>1</th>\n",
       "      <td>0.02731</td>\n",
       "      <td>0.0</td>\n",
       "      <td>7.07</td>\n",
       "      <td>0.0</td>\n",
       "      <td>0.469</td>\n",
       "      <td>6.421</td>\n",
       "      <td>78.9</td>\n",
       "      <td>4.9671</td>\n",
       "      <td>2.0</td>\n",
       "      <td>242.0</td>\n",
       "      <td>17.8</td>\n",
       "      <td>396.90</td>\n",
       "      <td>9.14</td>\n",
       "      <td>1.0</td>\n",
       "    </tr>\n",
       "    <tr>\n",
       "      <th>2</th>\n",
       "      <td>0.02729</td>\n",
       "      <td>0.0</td>\n",
       "      <td>7.07</td>\n",
       "      <td>0.0</td>\n",
       "      <td>0.469</td>\n",
       "      <td>7.185</td>\n",
       "      <td>61.1</td>\n",
       "      <td>4.9671</td>\n",
       "      <td>2.0</td>\n",
       "      <td>242.0</td>\n",
       "      <td>17.8</td>\n",
       "      <td>392.83</td>\n",
       "      <td>4.03</td>\n",
       "      <td>1.0</td>\n",
       "    </tr>\n",
       "    <tr>\n",
       "      <th>3</th>\n",
       "      <td>0.03237</td>\n",
       "      <td>0.0</td>\n",
       "      <td>2.18</td>\n",
       "      <td>0.0</td>\n",
       "      <td>0.458</td>\n",
       "      <td>6.998</td>\n",
       "      <td>45.8</td>\n",
       "      <td>6.0622</td>\n",
       "      <td>3.0</td>\n",
       "      <td>222.0</td>\n",
       "      <td>18.7</td>\n",
       "      <td>394.63</td>\n",
       "      <td>2.94</td>\n",
       "      <td>1.0</td>\n",
       "    </tr>\n",
       "    <tr>\n",
       "      <th>4</th>\n",
       "      <td>0.06905</td>\n",
       "      <td>0.0</td>\n",
       "      <td>2.18</td>\n",
       "      <td>0.0</td>\n",
       "      <td>0.458</td>\n",
       "      <td>7.147</td>\n",
       "      <td>54.2</td>\n",
       "      <td>6.0622</td>\n",
       "      <td>3.0</td>\n",
       "      <td>222.0</td>\n",
       "      <td>18.7</td>\n",
       "      <td>396.90</td>\n",
       "      <td>5.33</td>\n",
       "      <td>1.0</td>\n",
       "    </tr>\n",
       "  </tbody>\n",
       "</table>\n",
       "</div>"
      ],
      "text/plain": [
       "      CRIM    ZN  INDUS  CHAS    NOX  ...    TAX  PTRATIO       B  LSTAT  const\n",
       "0  0.00632  18.0   2.31   0.0  0.538  ...  296.0     15.3  396.90   4.98    1.0\n",
       "1  0.02731   0.0   7.07   0.0  0.469  ...  242.0     17.8  396.90   9.14    1.0\n",
       "2  0.02729   0.0   7.07   0.0  0.469  ...  242.0     17.8  392.83   4.03    1.0\n",
       "3  0.03237   0.0   2.18   0.0  0.458  ...  222.0     18.7  394.63   2.94    1.0\n",
       "4  0.06905   0.0   2.18   0.0  0.458  ...  222.0     18.7  396.90   5.33    1.0\n",
       "\n",
       "[5 rows x 14 columns]"
      ]
     },
     "execution_count": 23,
     "metadata": {
      "tags": []
     },
     "output_type": "execute_result"
    }
   ],
   "source": [
    "from sklearn.datasets import load_boston\n",
    "import pandas as pd\n",
    "import numpy as np\n",
    "\n",
    "boston = load_boston()\n",
    "\n",
    "df = pd.DataFrame(boston.data, columns=boston.feature_names)\n",
    "\n",
    "df['const'] = np.ones(df.shape[0])\n",
    "\n",
    "df.head()"
   ]
  },
  {
   "cell_type": "code",
   "execution_count": 25,
   "metadata": {
    "colab": {
     "base_uri": "https://localhost:8080/",
     "height": 1000
    },
    "colab_type": "code",
    "executionInfo": {
     "elapsed": 30366,
     "status": "ok",
     "timestamp": 1574344102575,
     "user": {
      "displayName": "김성한",
      "photoUrl": "https://lh3.googleusercontent.com/a-/AAuE7mCQ5zt754IaJCjKxICu0QpAmCSFkcYk7lzWwliKVw=s64",
      "userId": "13992033533003163921"
     },
     "user_tz": -540
    },
    "id": "PW9RmBsnMksf",
    "outputId": "4e4c5613-9104-4275-fd0d-ccc6fdb8a0a9"
   },
   "outputs": [
    {
     "name": "stdout",
     "output_type": "stream",
     "text": [
      "[00000] loss: 299626.344\n",
      "[10000] loss:  24514.988\n",
      "[20000] loss:  22555.945\n",
      "[30000] loss:  21518.232\n",
      "[40000] loss:  20740.951\n",
      "[50000] loss:  20077.875\n",
      "[60000] loss:  19483.068\n",
      "[70000] loss:  18939.609\n",
      "[80000] loss:  18439.666\n",
      "[90000] loss:  17978.490\n"
     ]
    },
    {
     "name": "stderr",
     "output_type": "stream",
     "text": [
      "/usr/local/lib/python3.6/dist-packages/matplotlib/backends/backend_agg.py:211: RuntimeWarning: Glyph 51665 missing from current font.\n",
      "  font.set_text(s, 0.0, flags=flags)\n",
      "/usr/local/lib/python3.6/dist-packages/matplotlib/backends/backend_agg.py:211: RuntimeWarning: Glyph 44050 missing from current font.\n",
      "  font.set_text(s, 0.0, flags=flags)\n",
      "/usr/local/lib/python3.6/dist-packages/matplotlib/backends/backend_agg.py:211: RuntimeWarning: Glyph 50696 missing from current font.\n",
      "  font.set_text(s, 0.0, flags=flags)\n",
      "/usr/local/lib/python3.6/dist-packages/matplotlib/backends/backend_agg.py:211: RuntimeWarning: Glyph 52769 missing from current font.\n",
      "  font.set_text(s, 0.0, flags=flags)\n",
      "/usr/local/lib/python3.6/dist-packages/matplotlib/backends/backend_agg.py:211: RuntimeWarning: Glyph 52824 missing from current font.\n",
      "  font.set_text(s, 0.0, flags=flags)\n",
      "/usr/local/lib/python3.6/dist-packages/matplotlib/backends/backend_agg.py:211: RuntimeWarning: Glyph 50752 missing from current font.\n",
      "  font.set_text(s, 0.0, flags=flags)\n",
      "/usr/local/lib/python3.6/dist-packages/matplotlib/backends/backend_agg.py:211: RuntimeWarning: Glyph 49892 missing from current font.\n",
      "  font.set_text(s, 0.0, flags=flags)\n",
      "/usr/local/lib/python3.6/dist-packages/matplotlib/backends/backend_agg.py:211: RuntimeWarning: Glyph 51228 missing from current font.\n",
      "  font.set_text(s, 0.0, flags=flags)\n",
      "/usr/local/lib/python3.6/dist-packages/matplotlib/backends/backend_agg.py:211: RuntimeWarning: Glyph 51032 missing from current font.\n",
      "  font.set_text(s, 0.0, flags=flags)\n",
      "/usr/local/lib/python3.6/dist-packages/matplotlib/backends/backend_agg.py:211: RuntimeWarning: Glyph 44288 missing from current font.\n",
      "  font.set_text(s, 0.0, flags=flags)\n",
      "/usr/local/lib/python3.6/dist-packages/matplotlib/backends/backend_agg.py:211: RuntimeWarning: Glyph 44228 missing from current font.\n",
      "  font.set_text(s, 0.0, flags=flags)\n",
      "/usr/local/lib/python3.6/dist-packages/matplotlib/backends/backend_agg.py:180: RuntimeWarning: Glyph 49892 missing from current font.\n",
      "  font.set_text(s, 0, flags=flags)\n",
      "/usr/local/lib/python3.6/dist-packages/matplotlib/backends/backend_agg.py:180: RuntimeWarning: Glyph 51228 missing from current font.\n",
      "  font.set_text(s, 0, flags=flags)\n",
      "/usr/local/lib/python3.6/dist-packages/matplotlib/backends/backend_agg.py:180: RuntimeWarning: Glyph 51665 missing from current font.\n",
      "  font.set_text(s, 0, flags=flags)\n",
      "/usr/local/lib/python3.6/dist-packages/matplotlib/backends/backend_agg.py:180: RuntimeWarning: Glyph 44050 missing from current font.\n",
      "  font.set_text(s, 0, flags=flags)\n",
      "/usr/local/lib/python3.6/dist-packages/matplotlib/backends/backend_agg.py:180: RuntimeWarning: Glyph 50696 missing from current font.\n",
      "  font.set_text(s, 0, flags=flags)\n",
      "/usr/local/lib/python3.6/dist-packages/matplotlib/backends/backend_agg.py:180: RuntimeWarning: Glyph 52769 missing from current font.\n",
      "  font.set_text(s, 0, flags=flags)\n",
      "/usr/local/lib/python3.6/dist-packages/matplotlib/backends/backend_agg.py:180: RuntimeWarning: Glyph 52824 missing from current font.\n",
      "  font.set_text(s, 0, flags=flags)\n",
      "/usr/local/lib/python3.6/dist-packages/matplotlib/backends/backend_agg.py:180: RuntimeWarning: Glyph 50752 missing from current font.\n",
      "  font.set_text(s, 0, flags=flags)\n",
      "/usr/local/lib/python3.6/dist-packages/matplotlib/backends/backend_agg.py:180: RuntimeWarning: Glyph 51032 missing from current font.\n",
      "  font.set_text(s, 0, flags=flags)\n",
      "/usr/local/lib/python3.6/dist-packages/matplotlib/backends/backend_agg.py:180: RuntimeWarning: Glyph 44288 missing from current font.\n",
      "  font.set_text(s, 0, flags=flags)\n",
      "/usr/local/lib/python3.6/dist-packages/matplotlib/backends/backend_agg.py:180: RuntimeWarning: Glyph 44228 missing from current font.\n",
      "  font.set_text(s, 0, flags=flags)\n"
     ]
    },
    {
     "data": {
      "image/png": "[encoded data removed]",
      "text/plain": [
       "<Figure size 432x288 with 1 Axes>"
      ]
     },
     "metadata": {
      "tags": []
     },
     "output_type": "display_data"
    }
   ],
   "source": [
    "# 자료형을 float로 통일\n",
    "X = tf.constant(df.values, dtype=tf.float32)\n",
    "y_target = tf.constant(boston.target.reshape(-1,1), dtype=tf.float32)\n",
    "\n",
    "# 가중치 변수\n",
    "w = tf.Variable(tf.zeros((X.shape[1], 1)))\n",
    "\n",
    "@tf.function\n",
    "def model_predict(X) :\n",
    "  return tf.matmul(X, w)\n",
    "\n",
    "optimizer = keras.optimizers.SGD(learning_rate=6e-9)\n",
    "\n",
    "@tf.function\n",
    "def train_step(X, y_target) :\n",
    "  with tf.GradientTape() as tape :\n",
    "    y_predict = model_predict(X)\n",
    "    loss = tf.reduce_sum(tf.square(y_target - y_predict))\n",
    "\n",
    "  gradient = tape.gradient(loss, w)\n",
    "  optimizer.apply_gradients([(gradient, w)])\n",
    "\n",
    "  return loss\n",
    "\n",
    "for i in range(100000) :\n",
    "  loss_value = train_step(X, y_target)\n",
    "\n",
    "  if (i % 10000 == 0) :\n",
    "    print(f\"[{i:05d}] loss: {loss_value:10.3f}\")\n",
    "\n",
    "predictions = model_predict(X)\n",
    "\n",
    "plt.scatter(boston.target, predictions)\n",
    "plt.xlabel(u\"실제 집값\")\n",
    "plt.ylabel(u\"집값 예측치\")\n",
    "plt.title(\"집값 예측치와 실제 집값의 관계\")\n",
    "plt.show()"
   ]
  },
  {
   "cell_type": "code",
   "execution_count": null,
   "metadata": {
    "colab": {},
    "colab_type": "code",
    "id": "UAV44YQ9N5-t"
   },
   "outputs": [],
   "source": []
  }
 ],
 "metadata": {
  "colab": {
   "collapsed_sections": [],
   "name": "03.04 텐서플로를 사용한 예측모형과 최적화.ipynb",
   "provenance": []
  },
  "kernelspec": {
   "display_name": "Python 3",
   "language": "python",
   "name": "python3"
  },
  "language_info": {
   "codemirror_mode": {
    "name": "ipython",
    "version": 3
   },
   "file_extension": ".py",
   "mimetype": "text/x-python",
   "name": "python",
   "nbconvert_exporter": "python",
   "pygments_lexer": "ipython3",
   "version": "3.6.9"
  }
 },
 "nbformat": 4,
 "nbformat_minor": 4
}
