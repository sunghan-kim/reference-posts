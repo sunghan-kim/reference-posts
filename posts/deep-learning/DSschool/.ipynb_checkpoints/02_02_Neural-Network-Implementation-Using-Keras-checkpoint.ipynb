{
 "cells": [
  {
   "cell_type": "markdown",
   "metadata": {},
   "source": [
    "# 케라스를 사용한 신경망 구현"
   ]
  },
  {
   "cell_type": "markdown",
   "metadata": {},
   "source": [
    "[https://datascienceschool.net/view-notebook/51e147088d474fe1bf32e394394eaea7/](https://datascienceschool.net/view-notebook/51e147088d474fe1bf32e394394eaea7/)"
   ]
  },
  {
   "cell_type": "code",
   "execution_count": 1,
   "metadata": {},
   "outputs": [
    {
     "data": {
      "text/plain": [
       "'1.10.0'"
      ]
     },
     "execution_count": 1,
     "metadata": {},
     "output_type": "execute_result"
    }
   ],
   "source": [
    "import tensorflow as tf\n",
    "\n",
    "tf.__version__"
   ]
  },
  {
   "cell_type": "code",
   "execution_count": 2,
   "metadata": {},
   "outputs": [
    {
     "data": {
      "text/plain": [
       "'2.1.6-tf'"
      ]
     },
     "execution_count": 2,
     "metadata": {},
     "output_type": "execute_result"
    }
   ],
   "source": [
    "from tensorflow import keras\n",
    "keras.__version__"
   ]
  },
  {
   "cell_type": "markdown",
   "metadata": {},
   "source": [
    "<br>"
   ]
  },
  {
   "cell_type": "markdown",
   "metadata": {},
   "source": [
    "# 예제 데이터\n",
    "\n",
    "Keras에서 제공하는 샘플 데이터\n",
    "\n",
    "- CIFAR10 이미지\n",
    "  - 10 종류의 카테고리 라벨을 가지는 50,000 개의 32x32 해상도 컬러 트레이닝 이미지와 10,000 개의 테스트 이미지  \n",
    "  \n",
    "  \n",
    "- CIFAR100 이미지\n",
    "  - 100 종류의 카테고리 라벨을 가지는 50,000 개의 32x32 해상도 컬러 트레이닝 이미지와 10,000 개의 테스트 이미지  \n",
    "  \n",
    "  \n",
    "- IMDB 영화 감상\n",
    "  - positive/negative 라벨을 가지는 25,000 영화 감상 데이터\n",
    "  - 텍스트 단어는 숫자로 인코딩되어 있음  \n",
    "  \n",
    "  \n",
    "- 로이터 뉴스 토픽\n",
    "  - 46 종류의 토픽 라벨을 가지는 11,228 개의 로이터 뉴스 텍스트\n",
    "  - 텍스트 단어는 숫자로 인코딩되어 있음  \n",
    "  \n",
    "  \n",
    "- MNIST 숫자 이미지\n",
    "  - 0부터 9까지의 숫자에 대한 28x28 단색 이미지\n",
    "  - 트레이딩 데이터 60,000개. 테스트 이미지 10,000개  \n",
    "  \n",
    "  \n",
    "- MNIST 패션 이미지\n",
    "  - 10 종류의 의류 대한 28x28 단색 이미지\n",
    "  - 트레이딩 데이터 60,000개. 테스트 이미지 10,000개  \n",
    "  \n",
    "  \n",
    "- Boston housing price\n",
    "  - 보스턴 주택 가격 데이터"
   ]
  },
  {
   "cell_type": "markdown",
   "metadata": {},
   "source": [
    "<br>"
   ]
  },
  {
   "cell_type": "markdown",
   "metadata": {},
   "source": [
    "# MNIST 데이터를 이용한 신경망 구현"
   ]
  },
  {
   "cell_type": "code",
   "execution_count": 3,
   "metadata": {},
   "outputs": [],
   "source": [
    "import matplotlib.pyplot as plt\n",
    "%matplotlib inline"
   ]
  },
  {
   "cell_type": "code",
   "execution_count": 4,
   "metadata": {},
   "outputs": [],
   "source": [
    "mnist = keras.datasets.mnist"
   ]
  },
  {
   "cell_type": "code",
   "execution_count": 5,
   "metadata": {},
   "outputs": [
    {
     "name": "stdout",
     "output_type": "stream",
     "text": [
      "Downloading data from https://storage.googleapis.com/tensorflow/tf-keras-datasets/mnist.npz\n",
      "11493376/11490434 [==============================] - 1s 0us/step\n"
     ]
    },
    {
     "data": {
      "image/png": "[encoded data removed]",
      "text/plain": [
       "<Figure size 432x72 with 36 Axes>"
      ]
     },
     "metadata": {
      "needs_background": "light"
     },
     "output_type": "display_data"
    }
   ],
   "source": [
    "(X_train0, y_train0), (X_test0, y_test0) = mnist.load_data()\n",
    "\n",
    "plt.figure(figsize=(6,1))\n",
    "\n",
    "for i in range(36) :\n",
    "    plt.subplot(3, 12, i+1)\n",
    "    plt.imshow(X_train0[i], cmap=\"gray\")\n",
    "    plt.axis(\"off\")\n",
    "    \n",
    "plt.show()"
   ]
  },
  {
   "cell_type": "markdown",
   "metadata": {},
   "source": [
    "Keras의 MNIST 이미지 데이터는 28x28로 scikit-learn보다 고해상도이다."
   ]
  },
  {
   "cell_type": "code",
   "execution_count": 6,
   "metadata": {},
   "outputs": [
    {
     "name": "stdout",
     "output_type": "stream",
     "text": [
      "(60000, 28, 28) uint8\n",
      "(60000,) uint8\n",
      "(10000, 28, 28) uint8\n",
      "(10000,) uint8\n"
     ]
    }
   ],
   "source": [
    "print(X_train0.shape, X_train0.dtype)\n",
    "print(y_train0.shape, y_train0.dtype)\n",
    "print(X_test0.shape, X_test0.dtype)\n",
    "print(y_test0.shape, y_test0.dtype)"
   ]
  },
  {
   "cell_type": "markdown",
   "metadata": {},
   "source": [
    "데이터를 `float` 타입으로 변환 후 스케일링한다. 이는 이미지를 전처리하는 보편적인 방법 중 하나이다."
   ]
  },
  {
   "cell_type": "code",
   "execution_count": 7,
   "metadata": {},
   "outputs": [
    {
     "name": "stdout",
     "output_type": "stream",
     "text": [
      "(60000, 784) float32\n"
     ]
    }
   ],
   "source": [
    "X_train = X_train0.reshape(60000, 784).astype('float32') / 255.0\n",
    "X_test = X_test0.reshape(10000,784).astype('float32') / 255.0\n",
    "print(X_train.shape, X_train.dtype)"
   ]
  },
  {
   "cell_type": "markdown",
   "metadata": {},
   "source": [
    "정답 데이터는 라벨에 해당하는 숫자로 되어 있다."
   ]
  },
  {
   "cell_type": "code",
   "execution_count": 8,
   "metadata": {},
   "outputs": [
    {
     "data": {
      "text/plain": [
       "array([5, 0, 4, 1, 9], dtype=uint8)"
      ]
     },
     "execution_count": 8,
     "metadata": {},
     "output_type": "execute_result"
    }
   ],
   "source": [
    "y_train0[:5]"
   ]
  },
  {
   "cell_type": "markdown",
   "metadata": {},
   "source": [
    "이 값을 `keras.np_utils.categorical()`을 사용하여 원핫인코딩(One-Hot Encoding)로 변환한다."
   ]
  },
  {
   "cell_type": "code",
   "execution_count": 9,
   "metadata": {},
   "outputs": [
    {
     "data": {
      "text/plain": [
       "array([[0., 0., 0., 0., 0., 1., 0., 0., 0., 0.],\n",
       "       [1., 0., 0., 0., 0., 0., 0., 0., 0., 0.],\n",
       "       [0., 0., 0., 0., 1., 0., 0., 0., 0., 0.],\n",
       "       [0., 1., 0., 0., 0., 0., 0., 0., 0., 0.],\n",
       "       [0., 0., 0., 0., 0., 0., 0., 0., 0., 1.]], dtype=float32)"
      ]
     },
     "execution_count": 9,
     "metadata": {},
     "output_type": "execute_result"
    }
   ],
   "source": [
    "from tensorflow.keras.utils import to_categorical\n",
    "\n",
    "Y_train = to_categorical(y_train0, 10)\n",
    "Y_test = to_categorical(y_test0, 10)\n",
    "Y_train[:5]"
   ]
  },
  {
   "cell_type": "markdown",
   "metadata": {},
   "source": [
    "<br>"
   ]
  },
  {
   "cell_type": "markdown",
   "metadata": {},
   "source": [
    "# 신경망 구현 순서\n",
    "\n",
    "Keras를 사용하면 다음과 같은 순서로 신경망을 구성할 수 있다.\n",
    "\n",
    "1. `Sequential` 모형 클래스 객체 생성  \n",
    "  \n",
    "  \n",
    "2. `add` 메서드로 레이어 추가\n",
    "  - 입력단부터 순차적으로 추가한다.\n",
    "  - 레이어는 출력 뉴런 갯수를 첫번째 인수로 받는다.\n",
    "  - 최초의 레이어는 `input_dim` 인수로 입력 크기를 설정해야 한다.\n",
    "  - `activation` 인수로 활성화 함수 설정  \n",
    "  \n",
    "  \n",
    "3. `compile` 메서드로 모형 완성\n",
    "  - `loss` 인수로 비용함수 설정\n",
    "  - `optimizer` 인수로 최적화 알고리즘 설정\n",
    "  - `metrics` 인수로 트레이닝 단계에서 기록할 성능 기준 설정  \n",
    "  \n",
    "  \n",
    "4. `fit` 메서드로 트레이닝\n",
    "  - `nb_epoch`로 에포크(epoch) 횟수 설정\n",
    "  - `batch_size`로 배치크기(batch_size) 설정\n",
    "  - `verbose`는 학습 중 출력되는 문구를 설정하는 것\n",
    "  - 주피터 노트북을 사용할 때는 `verbose=2`로 설정하여 진행 막대(progress bar)가 나오지 않도록 설정한다."
   ]
  },
  {
   "cell_type": "code",
   "execution_count": 10,
   "metadata": {},
   "outputs": [],
   "source": [
    "from tensorflow.keras.models import Sequential\n",
    "from tensorflow.keras.layers import Dense\n",
    "from tensorflow.keras.optimizers import SGD\n",
    "import numpy as np\n",
    "\n",
    "np.random.seed(0)\n",
    "\n",
    "model = Sequential()\n",
    "model.add(Dense(15, input_dim=784, activation=\"sigmoid\"))\n",
    "model.add(Dense(10, activation=\"sigmoid\"))\n",
    "model.compile(optimizer=SGD(lr=0.2),\n",
    "              loss=\"mean_squared_error\",\n",
    "              metrics=[\"accuracy\"])"
   ]
  },
  {
   "cell_type": "markdown",
   "metadata": {},
   "source": [
    "만들어진 모형은 `summary` 명령으로 모델 내부의 `layers` 리스트를 살펴봄으로써 내부 구조를 확인할 수 있다."
   ]
  },
  {
   "cell_type": "code",
   "execution_count": 11,
   "metadata": {},
   "outputs": [
    {
     "name": "stdout",
     "output_type": "stream",
     "text": [
      "_________________________________________________________________\n",
      "Layer (type)                 Output Shape              Param #   \n",
      "=================================================================\n",
      "dense (Dense)                (None, 15)                11775     \n",
      "_________________________________________________________________\n",
      "dense_1 (Dense)              (None, 10)                160       \n",
      "=================================================================\n",
      "Total params: 11,935\n",
      "Trainable params: 11,935\n",
      "Non-trainable params: 0\n",
      "_________________________________________________________________\n"
     ]
    }
   ],
   "source": [
    "model.summary()"
   ]
  },
  {
   "cell_type": "markdown",
   "metadata": {},
   "source": [
    "layers 속성으로 각 레이어의 특성을 살펴볼 수도 있다."
   ]
  },
  {
   "cell_type": "code",
   "execution_count": 12,
   "metadata": {},
   "outputs": [
    {
     "name": "stdout",
     "output_type": "stream",
     "text": [
      "dense <class 'tensorflow.python.keras.layers.core.Dense'> (None, 15) sigmoid 11775\n",
      "dense_1 <class 'tensorflow.python.keras.layers.core.Dense'> (None, 10) sigmoid 160\n"
     ]
    }
   ],
   "source": [
    "l1 = model.layers[0]\n",
    "l2 = model.layers[1]\n",
    "\n",
    "print(l1.name, type(l1), l1.output_shape,\n",
    "      l1.activation.__name__, l1.count_params())\n",
    "print(l2.name, type(l2), l2.output_shape,\n",
    "      l2.activation.__name__, l2.count_params())"
   ]
  },
  {
   "cell_type": "markdown",
   "metadata": {},
   "source": [
    "모델을 완성했다면 `fit` 메서드로 트레이닝을 시작한다."
   ]
  },
  {
   "cell_type": "code",
   "execution_count": 13,
   "metadata": {},
   "outputs": [
    {
     "name": "stdout",
     "output_type": "stream",
     "text": [
      "Train on 60000 samples, validate on 10000 samples\n",
      "Epoch 1/10\n",
      " - 1s - loss: 0.0965 - acc: 0.2643 - val_loss: 0.0879 - val_acc: 0.3677\n",
      "Epoch 2/10\n",
      " - 1s - loss: 0.0867 - acc: 0.3546 - val_loss: 0.0850 - val_acc: 0.3602\n",
      "Epoch 3/10\n",
      " - 1s - loss: 0.0832 - acc: 0.3829 - val_loss: 0.0807 - val_acc: 0.4186\n",
      "Epoch 4/10\n",
      " - 1s - loss: 0.0785 - acc: 0.4525 - val_loss: 0.0756 - val_acc: 0.4957\n",
      "Epoch 5/10\n",
      " - 1s - loss: 0.0735 - acc: 0.5256 - val_loss: 0.0705 - val_acc: 0.5587\n",
      "Epoch 6/10\n",
      " - 1s - loss: 0.0684 - acc: 0.5818 - val_loss: 0.0653 - val_acc: 0.6123\n",
      "Epoch 7/10\n",
      " - 1s - loss: 0.0633 - acc: 0.6286 - val_loss: 0.0603 - val_acc: 0.6498\n",
      "Epoch 8/10\n",
      " - 1s - loss: 0.0586 - acc: 0.6681 - val_loss: 0.0559 - val_acc: 0.6890\n",
      "Epoch 9/10\n",
      " - 1s - loss: 0.0544 - acc: 0.7089 - val_loss: 0.0520 - val_acc: 0.7253\n",
      "Epoch 10/10\n",
      " - 1s - loss: 0.0508 - acc: 0.7453 - val_loss: 0.0486 - val_acc: 0.7665\n",
      "Wall time: 6.13 s\n"
     ]
    }
   ],
   "source": [
    "%%time\n",
    "\n",
    "hist = model.fit(X_train, Y_train,\n",
    "                 epochs=10, batch_size=100,\n",
    "                 validation_data=(X_test, Y_test),\n",
    "                 verbose=2)"
   ]
  },
  {
   "cell_type": "markdown",
   "metadata": {},
   "source": [
    "학습이 끝나면 기록된 변수를 확인한다. 다음 두 그래프는 방금 학습 시킨 모델의 비용함수와 성능지표에 대한 것이다."
   ]
  },
  {
   "cell_type": "code",
   "execution_count": 15,
   "metadata": {},
   "outputs": [
    {
     "name": "stdout",
     "output_type": "stream",
     "text": [
      "NanumGothicCoding\n"
     ]
    }
   ],
   "source": [
    "# 폰트 설정\n",
    "import matplotlib.pyplot as plt\n",
    "import matplotlib as mpl\n",
    "import matplotlib.font_manager as fm\n",
    "\n",
    "%matplotlib inline\n",
    "\n",
    "# 그래프에서 마이너스 폰트 깨지는 문제에 대한 대처\n",
    "mpl.rcParams['axes.unicode_minus'] = False\n",
    "\n",
    "path = 'C:\\\\Windows\\\\Fonts\\\\NanumGothicCoding.ttf'\n",
    "font_name = fm.FontProperties(fname=path, size=50).get_name()\n",
    "print(font_name)\n",
    "plt.rc('font', family=font_name)"
   ]
  },
  {
   "cell_type": "code",
   "execution_count": 16,
   "metadata": {},
   "outputs": [
    {
     "data": {
      "image/png": "[encoded data removed]",
      "text/plain": [
       "<Figure size 576x288 with 2 Axes>"
      ]
     },
     "metadata": {
      "needs_background": "light"
     },
     "output_type": "display_data"
    }
   ],
   "source": [
    "plt.figure(figsize=(8,4))\n",
    "\n",
    "plt.subplot(1,2,1)\n",
    "plt.plot(hist.history[\"loss\"])\n",
    "plt.title(\"훈련 중 비용함수 그래프\")\n",
    "plt.ylabel(\"비용함수 값\")\n",
    "\n",
    "plt.subplot(1,2,2)\n",
    "plt.title(\"훈련 중 성능지표 그래프\")\n",
    "plt.ylabel(\"성능지표 값\")\n",
    "plt.plot(hist.history['acc'], \"b--\", label=\"학습 성능\")\n",
    "plt.plot(hist.history[\"val_acc\"], \"r:\", label=\"검증 성능\")\n",
    "\n",
    "plt.legend()\n",
    "plt.tight_layout()\n",
    "plt.show()"
   ]
  },
  {
   "cell_type": "markdown",
   "metadata": {},
   "source": [
    "<br>"
   ]
  },
  {
   "cell_type": "markdown",
   "metadata": {},
   "source": [
    "# 가중치 정보\n",
    "\n",
    "트레이닝이 끝난 모형의 가중치 정보는 `get_weights` 메서드로 구할 수 있다. 이 메서드는 신경망 모형에서 사용된 가중치 $w$ 값과 $b$ 값을 출력한다."
   ]
  },
  {
   "cell_type": "code",
   "execution_count": 17,
   "metadata": {},
   "outputs": [
    {
     "name": "stdout",
     "output_type": "stream",
     "text": [
      "(784, 15) (15,)\n"
     ]
    }
   ],
   "source": [
    "# 첫번째 레이어\n",
    "w1 = l1.get_weights()\n",
    "print(w1[0].shape, w1[1].shape)"
   ]
  },
  {
   "cell_type": "code",
   "execution_count": 18,
   "metadata": {},
   "outputs": [
    {
     "name": "stdout",
     "output_type": "stream",
     "text": [
      "(15, 10) (10,)\n"
     ]
    }
   ],
   "source": [
    "# 두번째 레이어\n",
    "w2 = l2.get_weights()\n",
    "print(w2[0].shape, w2[1].shape)"
   ]
  },
  {
   "cell_type": "markdown",
   "metadata": {},
   "source": [
    "<br>"
   ]
  },
  {
   "cell_type": "markdown",
   "metadata": {},
   "source": [
    "# 모형의 사용\n",
    "\n",
    "트레이닝이 끝난 모형은 `predict` 메서드로 y 값을 출력하거나 출력된 y 값을 각 클래스에 대한 판별함수로 가정하고 `predict_classes` 메서드로 분류를 수행할 수 있다. 예로 테스트 데이터셋의 첫 번째 이미지를 예측하면 다음과 같다."
   ]
  },
  {
   "cell_type": "code",
   "execution_count": 19,
   "metadata": {},
   "outputs": [
    {
     "data": {
      "text/plain": [
       "array([[0.08355177, 0.04663255, 0.09839025, 0.14872971, 0.04500557,\n",
       "        0.06844437, 0.04101332, 0.793014  , 0.07894719, 0.16783   ]],\n",
       "      dtype=float32)"
      ]
     },
     "execution_count": 19,
     "metadata": {},
     "output_type": "execute_result"
    }
   ],
   "source": [
    "model.predict(X_test[:1, :])"
   ]
  },
  {
   "cell_type": "code",
   "execution_count": 20,
   "metadata": {},
   "outputs": [
    {
     "data": {
      "text/plain": [
       "array([7], dtype=int64)"
      ]
     },
     "execution_count": 20,
     "metadata": {},
     "output_type": "execute_result"
    }
   ],
   "source": [
    "model.predict_classes(X_test[:1, :], verbose=0)"
   ]
  },
  {
   "cell_type": "markdown",
   "metadata": {},
   "source": [
    "테스트 데이터셋의 첫 번째 이미지를 출력해보면 다음처럼 실제로 7이 나온다."
   ]
  },
  {
   "cell_type": "code",
   "execution_count": 21,
   "metadata": {},
   "outputs": [
    {
     "data": {
      "image/png": "[encoded data removed]",
      "text/plain": [
       "<Figure size 72x72 with 1 Axes>"
      ]
     },
     "metadata": {
      "needs_background": "light"
     },
     "output_type": "display_data"
    }
   ],
   "source": [
    "import matplotlib as mpl\n",
    "\n",
    "plt.figure(figsize=(1, 1))\n",
    "plt.imshow(X_test0[0], cmap=mpl.cm.bone_r)\n",
    "plt.grid(False)\n",
    "plt.axis(\"off\")\n",
    "plt.show()"
   ]
  },
  {
   "cell_type": "markdown",
   "metadata": {},
   "source": [
    "<br>"
   ]
  },
  {
   "cell_type": "markdown",
   "metadata": {},
   "source": [
    "# 모형의 저장\n",
    "\n",
    "트레이닝이 끝난 모형은 `save` 메서드로 가중치와 함께 'hdf5' 형식으로 저장하였다가 나중에 `load` 명령으로 불러 사용할 수 있다."
   ]
  },
  {
   "cell_type": "code",
   "execution_count": 22,
   "metadata": {},
   "outputs": [
    {
     "name": "stdout",
     "output_type": "stream",
     "text": [
      "[[0.08355177 0.04663255 0.09839025 0.14872971 0.04500557 0.06844437\n",
      "  0.04101332 0.793014   0.07894719 0.16783   ]]\n"
     ]
    }
   ],
   "source": [
    "print(model.predict(X_test[:1,:]))"
   ]
  },
  {
   "cell_type": "code",
   "execution_count": 23,
   "metadata": {},
   "outputs": [
    {
     "name": "stdout",
     "output_type": "stream",
     "text": [
      "[7]\n"
     ]
    }
   ],
   "source": [
    "print(model.predict_classes(X_test[:1,:], verbose=0))"
   ]
  },
  {
   "cell_type": "code",
   "execution_count": 24,
   "metadata": {},
   "outputs": [],
   "source": [
    "model.save('my_model.hdf5')\n",
    "del model"
   ]
  },
  {
   "cell_type": "code",
   "execution_count": 25,
   "metadata": {},
   "outputs": [
    {
     "name": "stdout",
     "output_type": "stream",
     "text": [
      "[7]\n"
     ]
    }
   ],
   "source": [
    "from tensorflow.keras.models import load_model\n",
    "\n",
    "model2 = load_model('my_model.hdf5')\n",
    "print(model2.predict_classes(X_test[:1,:], verbose=0))"
   ]
  },
  {
   "cell_type": "markdown",
   "metadata": {},
   "source": [
    "<br>"
   ]
  }
 ],
 "metadata": {
  "kernelspec": {
   "display_name": "Python 3",
   "language": "python",
   "name": "python3"
  },
  "language_info": {
   "codemirror_mode": {
    "name": "ipython",
    "version": 3
   },
   "file_extension": ".py",
   "mimetype": "text/x-python",
   "name": "python",
   "nbconvert_exporter": "python",
   "pygments_lexer": "ipython3",
   "version": "3.6.9"
  }
 },
 "nbformat": 4,
 "nbformat_minor": 4
}
