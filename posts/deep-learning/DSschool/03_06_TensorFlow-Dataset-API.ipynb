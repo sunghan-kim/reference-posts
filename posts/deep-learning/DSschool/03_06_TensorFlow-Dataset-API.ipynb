{
 "cells": [
  {
   "cell_type": "markdown",
   "metadata": {
    "colab_type": "text",
    "id": "KOMymqrL6wz0"
   },
   "source": [
    "# 3.6 텐서플로 데이터셋 API"
   ]
  },
  {
   "cell_type": "markdown",
   "metadata": {},
   "source": [
    "[https://datascienceschool.net/view-notebook/57714103a75c43ed9a7d95f96135f0ad/](https://datascienceschool.net/view-notebook/57714103a75c43ed9a7d95f96135f0ad/)"
   ]
  },
  {
   "cell_type": "markdown",
   "metadata": {
    "colab_type": "text",
    "id": "LMFWv6el63PC"
   },
   "source": [
    "텐서플로는 `tf.data` 서브패키지에서 데이터 입력 파이프라인을 위한 데이터셋 API를 제공한다. 데이터 입력 파이프라인은 모델에 공급되는 데이터에 대한 모든 작업을 담당한다. \n",
    "\n",
    "예를 들어 이미지 데이터의 경우 분산 파일시스템으로부터 이미지를 모으는 작업, 이미지에 노이즈를 주거나 변형하는 작업, 배치 학습을 위해 무작위로 데이터를 선택하여 배치데이터를 만드는 작업을 할 수 있다. \n",
    "\n",
    "텍스트 데이터의 경우 원문을 토큰화하거나 임베팅하는 작업, 길이가 다른 데이터를 패딩하여 합치는 작업등을 한다.\n",
    "\n",
    "데이터셋 API는 최종적으로 `tf.data.Dataset` 추상 클래스에서 상속된 여러가지 클래스 객체를 만든다."
   ]
  },
  {
   "cell_type": "markdown",
   "metadata": {
    "colab_type": "text",
    "id": "GKJO7MuW7qmh"
   },
   "source": [
    "데이터셋 API를 사용하려면 세 가지 단계를 거친다.\n",
    "\n",
    "1. 데이터셋 생성\n",
    "  - `from_tensor_slices()`, `from_generator()` 클래스 메서드 또는 `tf.data.TFRecordDataset` 클래스를 사용하여 메모리나 파일에 있는 데이터를 데이터 소스로 만든다.\n",
    "1. 데이터셋 변형\n",
    "  - `map()`, `filter()`, `batch()` 등의 메서드를 사용하여 데이터 소스를 변형한다.\n",
    "1. for 반복문에서 데이터셋 사용"
   ]
  },
  {
   "cell_type": "markdown",
   "metadata": {
    "colab_type": "text",
    "id": "vUhUn6AM8EZZ"
   },
   "source": [
    "## 데이터셋 생성"
   ]
  },
  {
   "cell_type": "code",
   "execution_count": 1,
   "metadata": {
    "colab": {
     "base_uri": "https://localhost:8080/",
     "height": 534
    },
    "colab_type": "code",
    "executionInfo": {
     "elapsed": 82386,
     "status": "ok",
     "timestamp": 1574826062457,
     "user": {
      "displayName": "김성한",
      "photoUrl": "https://lh3.googleusercontent.com/a-/AAuE7mCQ5zt754IaJCjKxICu0QpAmCSFkcYk7lzWwliKVw=s64",
      "userId": "13992033533003163921"
     },
     "user_tz": -540
    },
    "id": "9XJWgwxy8M1o",
    "outputId": "2b60032c-1584-404a-f5a7-2132e1b76abf"
   },
   "outputs": [
    {
     "name": "stdout",
     "output_type": "stream",
     "text": [
      "Collecting tensorflow-gpu==2.0.0-beta1\n",
      "\u001b[?25l  Downloading https://files.pythonhosted.org/packages/2b/53/e18c5e7a2263d3581a979645a185804782e59b8e13f42b9c3c3cfb5bb503/tensorflow_gpu-2.0.0b1-cp36-cp36m-manylinux1_x86_64.whl (348.9MB)\n",
      "\u001b[K     |████████████████████████████████| 348.9MB 43kB/s \n",
      "\u001b[?25hRequirement already satisfied: grpcio>=1.8.6 in /usr/local/lib/python3.6/dist-packages (from tensorflow-gpu==2.0.0-beta1) (1.15.0)\n",
      "Requirement already satisfied: protobuf>=3.6.1 in /usr/local/lib/python3.6/dist-packages (from tensorflow-gpu==2.0.0-beta1) (3.10.0)\n",
      "Requirement already satisfied: six>=1.10.0 in /usr/local/lib/python3.6/dist-packages (from tensorflow-gpu==2.0.0-beta1) (1.12.0)\n",
      "Requirement already satisfied: wheel>=0.26 in /usr/local/lib/python3.6/dist-packages (from tensorflow-gpu==2.0.0-beta1) (0.33.6)\n",
      "Requirement already satisfied: termcolor>=1.1.0 in /usr/local/lib/python3.6/dist-packages (from tensorflow-gpu==2.0.0-beta1) (1.1.0)\n",
      "Requirement already satisfied: keras-applications>=1.0.6 in /usr/local/lib/python3.6/dist-packages (from tensorflow-gpu==2.0.0-beta1) (1.0.8)\n",
      "Collecting tb-nightly<1.14.0a20190604,>=1.14.0a20190603\n",
      "\u001b[?25l  Downloading https://files.pythonhosted.org/packages/a4/96/571b875cd81dda9d5dfa1422a4f9d749e67c0a8d4f4f0b33a4e5f5f35e27/tb_nightly-1.14.0a20190603-py3-none-any.whl (3.1MB)\n",
      "\u001b[K     |████████████████████████████████| 3.1MB 38.7MB/s \n",
      "\u001b[?25hRequirement already satisfied: keras-preprocessing>=1.0.5 in /usr/local/lib/python3.6/dist-packages (from tensorflow-gpu==2.0.0-beta1) (1.1.0)\n",
      "Requirement already satisfied: absl-py>=0.7.0 in /usr/local/lib/python3.6/dist-packages (from tensorflow-gpu==2.0.0-beta1) (0.8.1)\n",
      "Collecting tf-estimator-nightly<1.14.0.dev2019060502,>=1.14.0.dev2019060501\n",
      "\u001b[?25l  Downloading https://files.pythonhosted.org/packages/32/dd/99c47dd007dcf10d63fd895611b063732646f23059c618a373e85019eb0e/tf_estimator_nightly-1.14.0.dev2019060501-py2.py3-none-any.whl (496kB)\n",
      "\u001b[K     |████████████████████████████████| 501kB 23.3MB/s \n",
      "\u001b[?25hRequirement already satisfied: gast>=0.2.0 in /usr/local/lib/python3.6/dist-packages (from tensorflow-gpu==2.0.0-beta1) (0.2.2)\n",
      "Requirement already satisfied: numpy<2.0,>=1.14.5 in /usr/local/lib/python3.6/dist-packages (from tensorflow-gpu==2.0.0-beta1) (1.17.4)\n",
      "Requirement already satisfied: astor>=0.6.0 in /usr/local/lib/python3.6/dist-packages (from tensorflow-gpu==2.0.0-beta1) (0.8.0)\n",
      "Requirement already satisfied: wrapt>=1.11.1 in /usr/local/lib/python3.6/dist-packages (from tensorflow-gpu==2.0.0-beta1) (1.11.2)\n",
      "Requirement already satisfied: google-pasta>=0.1.6 in /usr/local/lib/python3.6/dist-packages (from tensorflow-gpu==2.0.0-beta1) (0.1.8)\n",
      "Requirement already satisfied: setuptools in /usr/local/lib/python3.6/dist-packages (from protobuf>=3.6.1->tensorflow-gpu==2.0.0-beta1) (41.6.0)\n",
      "Requirement already satisfied: h5py in /usr/local/lib/python3.6/dist-packages (from keras-applications>=1.0.6->tensorflow-gpu==2.0.0-beta1) (2.8.0)\n",
      "Requirement already satisfied: markdown>=2.6.8 in /usr/local/lib/python3.6/dist-packages (from tb-nightly<1.14.0a20190604,>=1.14.0a20190603->tensorflow-gpu==2.0.0-beta1) (3.1.1)\n",
      "Requirement already satisfied: werkzeug>=0.11.15 in /usr/local/lib/python3.6/dist-packages (from tb-nightly<1.14.0a20190604,>=1.14.0a20190603->tensorflow-gpu==2.0.0-beta1) (0.16.0)\n",
      "Installing collected packages: tb-nightly, tf-estimator-nightly, tensorflow-gpu\n",
      "Successfully installed tb-nightly-1.14.0a20190603 tensorflow-gpu-2.0.0b1 tf-estimator-nightly-1.14.0.dev2019060501\n"
     ]
    }
   ],
   "source": [
    "!pip install tensorflow-gpu==2.0.0-beta1"
   ]
  },
  {
   "cell_type": "code",
   "execution_count": 2,
   "metadata": {
    "colab": {
     "base_uri": "https://localhost:8080/",
     "height": 481
    },
    "colab_type": "code",
    "executionInfo": {
     "elapsed": 2488,
     "status": "ok",
     "timestamp": 1574826067503,
     "user": {
      "displayName": "김성한",
      "photoUrl": "https://lh3.googleusercontent.com/a-/AAuE7mCQ5zt754IaJCjKxICu0QpAmCSFkcYk7lzWwliKVw=s64",
      "userId": "13992033533003163921"
     },
     "user_tz": -540
    },
    "id": "pmgeorZ68T5D",
    "outputId": "58d81ea9-f476-454a-f003-993a4070d32a"
   },
   "outputs": [
    {
     "name": "stderr",
     "output_type": "stream",
     "text": [
      "/usr/local/lib/python3.6/dist-packages/tensorflow/python/framework/dtypes.py:516: FutureWarning: Passing (type, 1) or '1type' as a synonym of type is deprecated; in a future version of numpy, it will be understood as (type, (1,)) / '(1,)type'.\n",
      "  _np_qint8 = np.dtype([(\"qint8\", np.int8, 1)])\n",
      "/usr/local/lib/python3.6/dist-packages/tensorflow/python/framework/dtypes.py:517: FutureWarning: Passing (type, 1) or '1type' as a synonym of type is deprecated; in a future version of numpy, it will be understood as (type, (1,)) / '(1,)type'.\n",
      "  _np_quint8 = np.dtype([(\"quint8\", np.uint8, 1)])\n",
      "/usr/local/lib/python3.6/dist-packages/tensorflow/python/framework/dtypes.py:518: FutureWarning: Passing (type, 1) or '1type' as a synonym of type is deprecated; in a future version of numpy, it will be understood as (type, (1,)) / '(1,)type'.\n",
      "  _np_qint16 = np.dtype([(\"qint16\", np.int16, 1)])\n",
      "/usr/local/lib/python3.6/dist-packages/tensorflow/python/framework/dtypes.py:519: FutureWarning: Passing (type, 1) or '1type' as a synonym of type is deprecated; in a future version of numpy, it will be understood as (type, (1,)) / '(1,)type'.\n",
      "  _np_quint16 = np.dtype([(\"quint16\", np.uint16, 1)])\n",
      "/usr/local/lib/python3.6/dist-packages/tensorflow/python/framework/dtypes.py:520: FutureWarning: Passing (type, 1) or '1type' as a synonym of type is deprecated; in a future version of numpy, it will be understood as (type, (1,)) / '(1,)type'.\n",
      "  _np_qint32 = np.dtype([(\"qint32\", np.int32, 1)])\n",
      "/usr/local/lib/python3.6/dist-packages/tensorflow/python/framework/dtypes.py:525: FutureWarning: Passing (type, 1) or '1type' as a synonym of type is deprecated; in a future version of numpy, it will be understood as (type, (1,)) / '(1,)type'.\n",
      "  np_resource = np.dtype([(\"resource\", np.ubyte, 1)])\n",
      "/usr/local/lib/python3.6/dist-packages/tensorboard/compat/tensorflow_stub/dtypes.py:541: FutureWarning: Passing (type, 1) or '1type' as a synonym of type is deprecated; in a future version of numpy, it will be understood as (type, (1,)) / '(1,)type'.\n",
      "  _np_qint8 = np.dtype([(\"qint8\", np.int8, 1)])\n",
      "/usr/local/lib/python3.6/dist-packages/tensorboard/compat/tensorflow_stub/dtypes.py:542: FutureWarning: Passing (type, 1) or '1type' as a synonym of type is deprecated; in a future version of numpy, it will be understood as (type, (1,)) / '(1,)type'.\n",
      "  _np_quint8 = np.dtype([(\"quint8\", np.uint8, 1)])\n",
      "/usr/local/lib/python3.6/dist-packages/tensorboard/compat/tensorflow_stub/dtypes.py:543: FutureWarning: Passing (type, 1) or '1type' as a synonym of type is deprecated; in a future version of numpy, it will be understood as (type, (1,)) / '(1,)type'.\n",
      "  _np_qint16 = np.dtype([(\"qint16\", np.int16, 1)])\n",
      "/usr/local/lib/python3.6/dist-packages/tensorboard/compat/tensorflow_stub/dtypes.py:544: FutureWarning: Passing (type, 1) or '1type' as a synonym of type is deprecated; in a future version of numpy, it will be understood as (type, (1,)) / '(1,)type'.\n",
      "  _np_quint16 = np.dtype([(\"quint16\", np.uint16, 1)])\n",
      "/usr/local/lib/python3.6/dist-packages/tensorboard/compat/tensorflow_stub/dtypes.py:545: FutureWarning: Passing (type, 1) or '1type' as a synonym of type is deprecated; in a future version of numpy, it will be understood as (type, (1,)) / '(1,)type'.\n",
      "  _np_qint32 = np.dtype([(\"qint32\", np.int32, 1)])\n",
      "/usr/local/lib/python3.6/dist-packages/tensorboard/compat/tensorflow_stub/dtypes.py:550: FutureWarning: Passing (type, 1) or '1type' as a synonym of type is deprecated; in a future version of numpy, it will be understood as (type, (1,)) / '(1,)type'.\n",
      "  np_resource = np.dtype([(\"resource\", np.ubyte, 1)])\n"
     ]
    },
    {
     "data": {
      "text/plain": [
       "'2.0.0-beta1'"
      ]
     },
     "execution_count": 2,
     "metadata": {
      "tags": []
     },
     "output_type": "execute_result"
    }
   ],
   "source": [
    "import tensorflow as tf\n",
    "tf.__version__"
   ]
  },
  {
   "cell_type": "markdown",
   "metadata": {
    "colab_type": "text",
    "id": "-sGYdVr78c-g"
   },
   "source": [
    "`from_tensor_slices` 클래스 메서드를 사용하면 리스트, 넘파이, 텐서플로 자료형에서 데이터셋을 만들 수 있다."
   ]
  },
  {
   "cell_type": "code",
   "execution_count": 3,
   "metadata": {
    "colab": {
     "base_uri": "https://localhost:8080/",
     "height": 34
    },
    "colab_type": "code",
    "executionInfo": {
     "elapsed": 883,
     "status": "ok",
     "timestamp": 1574826072289,
     "user": {
      "displayName": "김성한",
      "photoUrl": "https://lh3.googleusercontent.com/a-/AAuE7mCQ5zt754IaJCjKxICu0QpAmCSFkcYk7lzWwliKVw=s64",
      "userId": "13992033533003163921"
     },
     "user_tz": -540
    },
    "id": "T5U5Di7c8kvH",
    "outputId": "63e45107-9005-4aab-e9ca-3b9464734f29"
   },
   "outputs": [
    {
     "data": {
      "text/plain": [
       "<TensorSliceDataset shapes: (), types: tf.int32>"
      ]
     },
     "execution_count": 3,
     "metadata": {
      "tags": []
     },
     "output_type": "execute_result"
    }
   ],
   "source": [
    "dataset1 = tf.data.Dataset.from_tensor_slices([8, 3, 0, 8, 2, 1])\n",
    "dataset1"
   ]
  },
  {
   "cell_type": "markdown",
   "metadata": {
    "colab_type": "text",
    "id": "9ZnwlIZV8tUe"
   },
   "source": [
    "생성된 데이터셋을 사용하면 for 문에서 반복작업을 할 수 있다."
   ]
  },
  {
   "cell_type": "code",
   "execution_count": 4,
   "metadata": {
    "colab": {
     "base_uri": "https://localhost:8080/",
     "height": 123
    },
    "colab_type": "code",
    "executionInfo": {
     "elapsed": 1422,
     "status": "ok",
     "timestamp": 1574826106106,
     "user": {
      "displayName": "김성한",
      "photoUrl": "https://lh3.googleusercontent.com/a-/AAuE7mCQ5zt754IaJCjKxICu0QpAmCSFkcYk7lzWwliKVw=s64",
      "userId": "13992033533003163921"
     },
     "user_tz": -540
    },
    "id": "J2bU-jGm8x42",
    "outputId": "4db6c7e8-6103-4507-f89f-5dc4eed36114"
   },
   "outputs": [
    {
     "name": "stdout",
     "output_type": "stream",
     "text": [
      "8\n",
      "3\n",
      "0\n",
      "8\n",
      "2\n",
      "1\n"
     ]
    }
   ],
   "source": [
    "for elem in dataset1 :\n",
    "  print(elem.numpy())"
   ]
  },
  {
   "cell_type": "markdown",
   "metadata": {
    "colab_type": "text",
    "id": "eJWmU6BN81ch"
   },
   "source": [
    "데이터셋의 원소들은 모두 동일한 자료구조를 가지고 있어야 한다. 데이터셋의 `element_spec` 속성은 원소의 자료구조를 반환한다."
   ]
  },
  {
   "cell_type": "code",
   "execution_count": null,
   "metadata": {
    "colab": {},
    "colab_type": "code",
    "id": "lPJuH1SA-Ryj"
   },
   "outputs": [],
   "source": [
    "#dataset1.element_spec # 2.0.0 지원 x"
   ]
  },
  {
   "cell_type": "markdown",
   "metadata": {
    "colab_type": "text",
    "id": "5PKVEqml-TiD"
   },
   "source": [
    "데이터셋의 원소는 단일 텐서가 될 수도 있고 튜플이나 리스트가 될 수도 있다. 예를 들어 4x10 행렬로부터 만들어진 데이터셋 소스는 길이가 10인 1차원 텐서를 4개 출력한다."
   ]
  },
  {
   "cell_type": "code",
   "execution_count": null,
   "metadata": {
    "colab": {},
    "colab_type": "code",
    "id": "XR6Cp54a-uHg"
   },
   "outputs": [],
   "source": [
    "dataset2 = tf.data.Dataset.from_tensor_slices(tf.random.uniform([4,10],\n",
    "                                                                 minval=1,\n",
    "                                                                 maxval=10,\n",
    "                                                                 dtype=tf.int32))"
   ]
  },
  {
   "cell_type": "code",
   "execution_count": 11,
   "metadata": {
    "colab": {
     "base_uri": "https://localhost:8080/",
     "height": 87
    },
    "colab_type": "code",
    "executionInfo": {
     "elapsed": 986,
     "status": "ok",
     "timestamp": 1574826668009,
     "user": {
      "displayName": "김성한",
      "photoUrl": "https://lh3.googleusercontent.com/a-/AAuE7mCQ5zt754IaJCjKxICu0QpAmCSFkcYk7lzWwliKVw=s64",
      "userId": "13992033533003163921"
     },
     "user_tz": -540
    },
    "id": "Gnxk2ScK-4yE",
    "outputId": "5f28791f-ed15-4e92-f58e-e67dcdd95a8c"
   },
   "outputs": [
    {
     "name": "stdout",
     "output_type": "stream",
     "text": [
      "[6 5 2 3 5 1 5 9 7 6]\n",
      "[2 8 1 3 3 2 6 6 1 5]\n",
      "[4 7 7 5 7 8 3 7 5 9]\n",
      "[6 3 3 7 2 6 7 8 9 7]\n"
     ]
    }
   ],
   "source": [
    "for elem in dataset2 :\n",
    "  print(elem.numpy())"
   ]
  },
  {
   "cell_type": "markdown",
   "metadata": {
    "colab_type": "text",
    "id": "GsxxXuRP-70S"
   },
   "source": [
    "예를 들어 (4벡터, 4x5 행렬)인 튜플로부터 만들어진 데이터셋 소스는 (스칼라, 길이가 5인 1차원 텐서) 데이터 튜플을 4개 출력한다."
   ]
  },
  {
   "cell_type": "code",
   "execution_count": null,
   "metadata": {
    "colab": {},
    "colab_type": "code",
    "id": "ErJkHqoq_J4q"
   },
   "outputs": [],
   "source": [
    "dataset3 = tf.data.Dataset.from_tensor_slices((tf.random.uniform([4]),\n",
    "                                               tf.random.uniform([4, 10],\n",
    "                                                                  maxval=10,\n",
    "                                                                  dtype=tf.int32)))\n",
    "#dataset3.element_spec # 2.0.0 지원 x"
   ]
  },
  {
   "cell_type": "code",
   "execution_count": 13,
   "metadata": {
    "colab": {
     "base_uri": "https://localhost:8080/",
     "height": 107
    },
    "colab_type": "code",
    "executionInfo": {
     "elapsed": 1028,
     "status": "ok",
     "timestamp": 1574826793007,
     "user": {
      "displayName": "김성한",
      "photoUrl": "https://lh3.googleusercontent.com/a-/AAuE7mCQ5zt754IaJCjKxICu0QpAmCSFkcYk7lzWwliKVw=s64",
      "userId": "13992033533003163921"
     },
     "user_tz": -540
    },
    "id": "RHCiK4AT_aBS",
    "outputId": "613bc5a0-8df5-485f-9263-41af8d964692"
   },
   "outputs": [
    {
     "name": "stdout",
     "output_type": "stream",
     "text": [
      "(<tf.Tensor: id=55, shape=(), dtype=float32, numpy=0.17800987>, <tf.Tensor: id=56, shape=(10,), dtype=int32, numpy=array([7, 5, 0, 7, 2, 0, 4, 5, 6, 7], dtype=int32)>)\n",
      "(<tf.Tensor: id=59, shape=(), dtype=float32, numpy=0.4066062>, <tf.Tensor: id=60, shape=(10,), dtype=int32, numpy=array([3, 9, 5, 7, 0, 8, 3, 2, 9, 0], dtype=int32)>)\n",
      "(<tf.Tensor: id=63, shape=(), dtype=float32, numpy=0.60646176>, <tf.Tensor: id=64, shape=(10,), dtype=int32, numpy=array([2, 7, 7, 8, 3, 0, 8, 6, 1, 9], dtype=int32)>)\n",
      "(<tf.Tensor: id=67, shape=(), dtype=float32, numpy=0.8984535>, <tf.Tensor: id=68, shape=(10,), dtype=int32, numpy=array([0, 1, 2, 7, 6, 6, 9, 5, 9, 8], dtype=int32)>)\n"
     ]
    }
   ],
   "source": [
    "for elem in dataset3 :\n",
    "  print(elem)"
   ]
  },
  {
   "cell_type": "markdown",
   "metadata": {
    "colab_type": "text",
    "id": "crJL8kIH_dOh"
   },
   "source": [
    "`zip` 클래스 메서드로 이미 만들어진 데이터셋을 조합하여 다른 데이터셋을 만들수도 있다."
   ]
  },
  {
   "cell_type": "code",
   "execution_count": null,
   "metadata": {
    "colab": {},
    "colab_type": "code",
    "id": "WE_Fe_4__mZj"
   },
   "outputs": [],
   "source": [
    "dataset4 = tf.data.Dataset.zip((dataset2, dataset3))"
   ]
  },
  {
   "cell_type": "markdown",
   "metadata": {
    "colab_type": "text",
    "id": "jhYwZY0d_sYb"
   },
   "source": [
    "`from_generator` 클래스 메서드를 사용하면 생성자에서 데이터셋을 만들 수도 있다. 이 때는 `output_types`, `output_shapes` 인수로 출력 자료형과 크기를 지정해주어야 한다."
   ]
  },
  {
   "cell_type": "code",
   "execution_count": 15,
   "metadata": {
    "colab": {
     "base_uri": "https://localhost:8080/",
     "height": 285
    },
    "colab_type": "code",
    "executionInfo": {
     "elapsed": 836,
     "status": "ok",
     "timestamp": 1574826984629,
     "user": {
      "displayName": "김성한",
      "photoUrl": "https://lh3.googleusercontent.com/a-/AAuE7mCQ5zt754IaJCjKxICu0QpAmCSFkcYk7lzWwliKVw=s64",
      "userId": "13992033533003163921"
     },
     "user_tz": -540
    },
    "id": "L-tfw-Qm_6cY",
    "outputId": "dd10555e-55d1-467d-9a39-77bacdb7511e"
   },
   "outputs": [
    {
     "name": "stdout",
     "output_type": "stream",
     "text": [
      "WARNING:tensorflow:From /usr/local/lib/python3.6/dist-packages/tensorflow/python/data/ops/dataset_ops.py:505: py_func (from tensorflow.python.ops.script_ops) is deprecated and will be removed in a future version.\n",
      "Instructions for updating:\n",
      "tf.py_func is deprecated in TF V2. Instead, there are two\n",
      "    options available in V2.\n",
      "    - tf.py_function takes a python function which manipulates tf eager\n",
      "    tensors instead of numpy arrays. It's easy to convert a tf eager tensor to\n",
      "    an ndarray (just call tensor.numpy()) but having access to eager tensors\n",
      "    means `tf.py_function`s can use accelerators such as GPUs as well as\n",
      "    being differentiable using a gradient tape.\n",
      "    - tf.numpy_function maintains the semantics of the deprecated tf.py_func\n",
      "    (it is not differentiable, and manipulates numpy arrays). It drops the\n",
      "    stateful argument making all functions stateful.\n",
      "    \n"
     ]
    },
    {
     "data": {
      "text/plain": [
       "<DatasetV1Adapter shapes: (), types: tf.int32>"
      ]
     },
     "execution_count": 15,
     "metadata": {
      "tags": []
     },
     "output_type": "execute_result"
    }
   ],
   "source": [
    "def count(stop) :\n",
    "  i = 0\n",
    "\n",
    "  while i < stop :\n",
    "    yield i\n",
    "    i += 1\n",
    "\n",
    "dataset5 = tf.data.Dataset.from_generator(count,\n",
    "                                           args=[4],\n",
    "                                           output_types=tf.int32,\n",
    "                                           output_shapes=())\n",
    "dataset5"
   ]
  },
  {
   "cell_type": "code",
   "execution_count": 16,
   "metadata": {
    "colab": {
     "base_uri": "https://localhost:8080/",
     "height": 87
    },
    "colab_type": "code",
    "executionInfo": {
     "elapsed": 843,
     "status": "ok",
     "timestamp": 1574827034426,
     "user": {
      "displayName": "김성한",
      "photoUrl": "https://lh3.googleusercontent.com/a-/AAuE7mCQ5zt754IaJCjKxICu0QpAmCSFkcYk7lzWwliKVw=s64",
      "userId": "13992033533003163921"
     },
     "user_tz": -540
    },
    "id": "94KhFZxwAMEQ",
    "outputId": "3d269c42-0199-44e4-f475-8e63ea020348"
   },
   "outputs": [
    {
     "name": "stdout",
     "output_type": "stream",
     "text": [
      "0\n",
      "1\n",
      "2\n",
      "3\n"
     ]
    }
   ],
   "source": [
    "for elem in dataset5 :\n",
    "  print(elem.numpy())"
   ]
  },
  {
   "cell_type": "markdown",
   "metadata": {
    "colab_type": "text",
    "id": "np_q8PQzAYOH"
   },
   "source": [
    "## 데이터셋 변형\n",
    "\n",
    "- `repeat()`\n",
    "- `take()`\n",
    "- `skip()`\n",
    "- `batch()`\n",
    "- `shuffle()`\n",
    "- `map()`\n",
    "- `filter()`\n",
    "- `concatenate()`"
   ]
  },
  {
   "cell_type": "markdown",
   "metadata": {
    "colab_type": "text",
    "id": "u9knPziQAhNH"
   },
   "source": [
    "### `repeat()`\n",
    "\n",
    "`repeat()` 메서드는 데이터를 반복시킨다. 숫자를 지정하지 않으면 계속 반복한다."
   ]
  },
  {
   "cell_type": "code",
   "execution_count": 17,
   "metadata": {
    "colab": {
     "base_uri": "https://localhost:8080/",
     "height": 158
    },
    "colab_type": "code",
    "executionInfo": {
     "elapsed": 1115,
     "status": "ok",
     "timestamp": 1574827122571,
     "user": {
      "displayName": "김성한",
      "photoUrl": "https://lh3.googleusercontent.com/a-/AAuE7mCQ5zt754IaJCjKxICu0QpAmCSFkcYk7lzWwliKVw=s64",
      "userId": "13992033533003163921"
     },
     "user_tz": -540
    },
    "id": "ab9xz6UKAppO",
    "outputId": "18246f58-5461-477a-890d-61d4340f387b"
   },
   "outputs": [
    {
     "name": "stdout",
     "output_type": "stream",
     "text": [
      "0\n",
      "1\n",
      "2\n",
      "3\n",
      "0\n",
      "1\n",
      "2\n",
      "3\n"
     ]
    }
   ],
   "source": [
    "for elem in dataset5.repeat(2) :\n",
    "  print(elem.numpy())"
   ]
  },
  {
   "cell_type": "markdown",
   "metadata": {
    "colab_type": "text",
    "id": "leMYMCj9Atrg"
   },
   "source": [
    "### `take()`\n",
    "\n",
    "`take()` 메서드는 전체 데이터 중 지정한 개수의 일부 데이터로만 출력을 제한한다."
   ]
  },
  {
   "cell_type": "code",
   "execution_count": 18,
   "metadata": {
    "colab": {
     "base_uri": "https://localhost:8080/",
     "height": 70
    },
    "colab_type": "code",
    "executionInfo": {
     "elapsed": 855,
     "status": "ok",
     "timestamp": 1574827438553,
     "user": {
      "displayName": "김성한",
      "photoUrl": "https://lh3.googleusercontent.com/a-/AAuE7mCQ5zt754IaJCjKxICu0QpAmCSFkcYk7lzWwliKVw=s64",
      "userId": "13992033533003163921"
     },
     "user_tz": -540
    },
    "id": "kVbvEQLsB3HV",
    "outputId": "1c23a2ac-cce5-4a5a-f9b3-2fa354d423a2"
   },
   "outputs": [
    {
     "name": "stdout",
     "output_type": "stream",
     "text": [
      "0\n",
      "1\n",
      "2\n"
     ]
    }
   ],
   "source": [
    "for elem in dataset5.take(3) :\n",
    "  print(elem.numpy())"
   ]
  },
  {
   "cell_type": "markdown",
   "metadata": {
    "colab_type": "text",
    "id": "H2DlVmwEB64V"
   },
   "source": [
    "### `skip()`\n",
    "\n",
    "`skip()` 메서드는 일부 데이터를 건너뛰고 다음 데이터를 출력한다."
   ]
  },
  {
   "cell_type": "code",
   "execution_count": 19,
   "metadata": {
    "colab": {
     "base_uri": "https://localhost:8080/",
     "height": 52
    },
    "colab_type": "code",
    "executionInfo": {
     "elapsed": 1151,
     "status": "ok",
     "timestamp": 1574827480175,
     "user": {
      "displayName": "김성한",
      "photoUrl": "https://lh3.googleusercontent.com/a-/AAuE7mCQ5zt754IaJCjKxICu0QpAmCSFkcYk7lzWwliKVw=s64",
      "userId": "13992033533003163921"
     },
     "user_tz": -540
    },
    "id": "gkrNjOD6CBA8",
    "outputId": "ae805df5-101b-40fa-af47-fff02d073388"
   },
   "outputs": [
    {
     "name": "stdout",
     "output_type": "stream",
     "text": [
      "2\n",
      "3\n"
     ]
    }
   ],
   "source": [
    "for elem in dataset5.skip(2).take(3):\n",
    "  print(elem.numpy())"
   ]
  },
  {
   "cell_type": "markdown",
   "metadata": {
    "colab_type": "text",
    "id": "wQdPTvISCE6O"
   },
   "source": [
    "### `batch()`\n",
    "\n",
    "`batch()` 메서드는 지정한 개수의 데이터를 묶어서 출력한다."
   ]
  },
  {
   "cell_type": "code",
   "execution_count": 20,
   "metadata": {
    "colab": {
     "base_uri": "https://localhost:8080/",
     "height": 34
    },
    "colab_type": "code",
    "executionInfo": {
     "elapsed": 930,
     "status": "ok",
     "timestamp": 1574827524201,
     "user": {
      "displayName": "김성한",
      "photoUrl": "https://lh3.googleusercontent.com/a-/AAuE7mCQ5zt754IaJCjKxICu0QpAmCSFkcYk7lzWwliKVw=s64",
      "userId": "13992033533003163921"
     },
     "user_tz": -540
    },
    "id": "aePGAkt5CL9s",
    "outputId": "6e88bdbf-0ec9-414d-fbc6-3a57c90ef0fb"
   },
   "outputs": [
    {
     "name": "stdout",
     "output_type": "stream",
     "text": [
      "[0 1 2 3]\n"
     ]
    }
   ],
   "source": [
    "for elem in dataset5.batch(5):\n",
    "  print(elem.numpy())"
   ]
  },
  {
   "cell_type": "markdown",
   "metadata": {
    "colab_type": "text",
    "id": "I9qGsX37CPsF"
   },
   "source": [
    "### `shuffle(buffer_size)`\n",
    "\n",
    "`shuffle(buffer_size)` 메서드는 `buffer_size`로 지정한 개수의 데이터를 무작위로 섞어서 출력한다."
   ]
  },
  {
   "cell_type": "code",
   "execution_count": 22,
   "metadata": {
    "colab": {
     "base_uri": "https://localhost:8080/",
     "height": 70
    },
    "colab_type": "code",
    "executionInfo": {
     "elapsed": 1060,
     "status": "ok",
     "timestamp": 1574827593850,
     "user": {
      "displayName": "김성한",
      "photoUrl": "https://lh3.googleusercontent.com/a-/AAuE7mCQ5zt754IaJCjKxICu0QpAmCSFkcYk7lzWwliKVw=s64",
      "userId": "13992033533003163921"
     },
     "user_tz": -540
    },
    "id": "njArtUZ7CZXv",
    "outputId": "a2d2069e-7176-4463-c12b-37e88f5cb331"
   },
   "outputs": [
    {
     "name": "stdout",
     "output_type": "stream",
     "text": [
      "2\n",
      "0\n",
      "3\n"
     ]
    }
   ],
   "source": [
    "for elem in dataset5.repeat().shuffle(buffer_size=3).take(3):\n",
    "  print(elem.numpy())"
   ]
  },
  {
   "cell_type": "markdown",
   "metadata": {
    "colab_type": "text",
    "id": "PUTi_Xv9CfVY"
   },
   "source": [
    "### `concatenate()`\n",
    "\n",
    "`concatenate()` 메서드는 두 데이터셋을 연결한다."
   ]
  },
  {
   "cell_type": "code",
   "execution_count": 23,
   "metadata": {
    "colab": {
     "base_uri": "https://localhost:8080/",
     "height": 194
    },
    "colab_type": "code",
    "executionInfo": {
     "elapsed": 867,
     "status": "ok",
     "timestamp": 1574827647795,
     "user": {
      "displayName": "김성한",
      "photoUrl": "https://lh3.googleusercontent.com/a-/AAuE7mCQ5zt754IaJCjKxICu0QpAmCSFkcYk7lzWwliKVw=s64",
      "userId": "13992033533003163921"
     },
     "user_tz": -540
    },
    "id": "iuSHySUPCm00",
    "outputId": "1efe3d96-da43-4e03-8d6d-2ee0a7b603b9"
   },
   "outputs": [
    {
     "name": "stdout",
     "output_type": "stream",
     "text": [
      "8\n",
      "3\n",
      "0\n",
      "8\n",
      "2\n",
      "1\n",
      "[6 5 2 3 5 1 5 9 7 6]\n",
      "[2 8 1 3 3 2 6 6 1 5]\n",
      "[4 7 7 5 7 8 3 7 5 9]\n",
      "[6 3 3 7 2 6 7 8 9 7]\n"
     ]
    }
   ],
   "source": [
    "dataset6 = dataset1.concatenate(dataset2)\n",
    "\n",
    "for elem in dataset6 :\n",
    "  print(elem.numpy())"
   ]
  },
  {
   "cell_type": "markdown",
   "metadata": {
    "colab_type": "text",
    "id": "lWcboV1XCt98"
   },
   "source": [
    "### `map()`\n",
    "\n",
    "`map()` 메서드는 함수로 지정한 변환을 한 데이터를 출력한다."
   ]
  },
  {
   "cell_type": "code",
   "execution_count": 24,
   "metadata": {
    "colab": {
     "base_uri": "https://localhost:8080/",
     "height": 87
    },
    "colab_type": "code",
    "executionInfo": {
     "elapsed": 911,
     "status": "ok",
     "timestamp": 1574827711093,
     "user": {
      "displayName": "김성한",
      "photoUrl": "https://lh3.googleusercontent.com/a-/AAuE7mCQ5zt754IaJCjKxICu0QpAmCSFkcYk7lzWwliKVw=s64",
      "userId": "13992033533003163921"
     },
     "user_tz": -540
    },
    "id": "QF20cGUPC3Tr",
    "outputId": "43d54f43-f001-45ed-b646-7863107c12aa"
   },
   "outputs": [
    {
     "name": "stdout",
     "output_type": "stream",
     "text": [
      "0\n",
      "2\n",
      "4\n",
      "6\n"
     ]
    }
   ],
   "source": [
    "f = lambda x: 2 * x\n",
    "\n",
    "for elem in dataset5.map(f) :\n",
    "  print(elem.numpy())"
   ]
  },
  {
   "cell_type": "markdown",
   "metadata": {
    "colab_type": "text",
    "id": "lwO0Dqb8C9ai"
   },
   "source": [
    "### `filter()`\n",
    "\n",
    "`filter()` 메서드는 함수로 지정한 조건을 만족한 데이터만 출력한다."
   ]
  },
  {
   "cell_type": "code",
   "execution_count": null,
   "metadata": {
    "colab": {},
    "colab_type": "code",
    "id": "8SBYQse-DDKn"
   },
   "outputs": [],
   "source": [
    "f = lambda x: x % 2 == 0\n",
    "\n",
    "for elem in dataset5.filter(f) :\n",
    "  print(elem.numpy())"
   ]
  },
  {
   "cell_type": "code",
   "execution_count": null,
   "metadata": {
    "colab": {},
    "colab_type": "code",
    "id": "EUCwyf62DIf3"
   },
   "outputs": [],
   "source": []
  }
 ],
 "metadata": {
  "colab": {
   "collapsed_sections": [],
   "name": "03.06 텐서플로 데이터셋 API.ipynb",
   "provenance": []
  },
  "kernelspec": {
   "display_name": "Python 3",
   "language": "python",
   "name": "python3"
  },
  "language_info": {
   "codemirror_mode": {
    "name": "ipython",
    "version": 3
   },
   "file_extension": ".py",
   "mimetype": "text/x-python",
   "name": "python",
   "nbconvert_exporter": "python",
   "pygments_lexer": "ipython3",
   "version": "3.6.9"
  }
 },
 "nbformat": 4,
 "nbformat_minor": 4
}
