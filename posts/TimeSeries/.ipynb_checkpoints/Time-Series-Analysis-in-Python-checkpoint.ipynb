{
 "cells": [
  {
   "cell_type": "markdown",
   "metadata": {},
   "source": [
    "# 파이썬을 이용한 시계열 분석 - 예제와 함께하는 포괄적인 가이드"
   ]
  },
  {
   "cell_type": "markdown",
   "metadata": {},
   "source": [
    "[Time Series Analysis in Python – A Comprehensive Guide with Examples](https://www.machinelearningplus.com/time-series/time-series-analysis-python/)"
   ]
  },
  {
   "cell_type": "markdown",
   "metadata": {},
   "source": [
    "<br>"
   ]
  },
  {
   "cell_type": "markdown",
   "metadata": {},
   "source": [
    "*시계열(Time series)은 일정한 시간 간격으로 기록된 관측의 순서다. 이 가이드는 파이썬으로 주어진 시계열의 특성을 분석하는 과정을 안내한다.*"
   ]
  },
  {
   "cell_type": "markdown",
   "metadata": {},
   "source": [
    "<brR>"
   ]
  },
  {
   "cell_type": "markdown",
   "metadata": {},
   "source": [
    "## 목차\n",
    "\n",
    "1. 시계열이란 무엇인가?\n",
    "2. 파이썬에서 시계열 데이터를 어떻게 불러오는가?\n",
    "3. panel 데이터란 무엇인가?\n",
    "4. 시계열 시각화\n",
    "5. 시계열의 패턴\n",
    "6. 시계열 데이터 더하기 및 곱하기\n",
    "7. 시계열을 구성요소(components)로 분해(decompose)하는 방법\n",
    "8. 정상(stationary) & 비정상(non-stationary) 시계열\n",
    "9. 정상 시계열 만드는 방법\n",
    "10. 정상성을 검정하는 방법\n",
    "11. 백색잡음(white noise)과 정상 시계열의 차이점\n",
    "12. 시계열에서 추세 제거(detrend)하는 방법\n",
    "13. 시계열에서 계절성 제거(deseasonalize)하는 방법\n",
    "14. 시계열의 계절성을 검정하는 방법\n",
    "15. 시계열 데이터의 결측값 다루는 방법\n",
    "16. 자기상관함수(autocorrelation function)와 부분자기상관함수(partial autocorrelation function)\n",
    "17. 부분자기상관함수 계산하는 방법\n",
    "18. Lag 그래프\n",
    "19. 시계열의 예측가능성(forecastability)을 제거하는 방법\n",
    "20. 시계열을 평활화(smoothen)하는 이유와 방법\n",
    "21. 한 시계열이 다른 시계열을 예측하는 데 도움이 되는 지 확인하기 위해 그래인저 인과관계(Granger Causality) 검정을 하는 방법\n",
    "22. 다음은 무엇인가?"
   ]
  },
  {
   "cell_type": "markdown",
   "metadata": {},
   "source": [
    "<br>"
   ]
  },
  {
   "cell_type": "markdown",
   "metadata": {},
   "source": [
    "# 1. 시계열이란 무엇인가?\n",
    "\n",
    "시계열(Time series)은 일정한 시간 간격으로 기록된 관측의 순서다.  \n",
    "  \n",
    "  \n",
    "관측 빈도에 따라 시계열은 일반적으로 매시간, 일, 주, 월, 분기 및 연간이 될 수 있다. 클릭 횟수나 분당 사용자 방문 등 초 및 분 단위 시계열도 있을 수 있다.  \n",
    "  \n",
    "  \n",
    "왜 시계열 분석을 하는 것일까?  \n",
    "  \n",
    "  \n",
    "왜냐하면 그것은 시리즈(series) 예측을 개발하기 전의 준비 단계(preparatory)이기 때문이다.  \n",
    "  \n",
    "  \n",
    "게다가 시계열 예측은 수요와 판매, 웹사이트 방문자 수, 주가 등과 같은 사업에 중요한 것들이 본질적으로 시계열 데이터이기 때문에 엄청난 상업적 의미를 가진다.  \n",
    "  \n",
    "  \n",
    "그렇다면 시계열 분석에는 어떤 것이 포함되는가?  \n",
    "  \n",
    "  \n",
    "시계열 분석에는 시리즈 고유의 특성에 대한 다양한 측면을 이해하여 의미 있고 정확한 예측을 작성하는 데 더 많은 정보를 얻을 수 있도록 해야 한다."
   ]
  },
  {
   "cell_type": "markdown",
   "metadata": {},
   "source": [
    "<br>"
   ]
  },
  {
   "cell_type": "markdown",
   "metadata": {},
   "source": [
    "# 2. 파이썬에서 시계열 데이터를 어떻게 불러오는가?\n",
    "\n",
    "시계열 데이터를 어떻게 불러올까?  \n",
    "  \n",
    "  \n",
    "시계열의 데이터는 일반적으로 `.csv` 파일 또는 다른 스프레드시트 형식으로 저장되며 날짜와 측정값의 두 열을 포함한다.  \n",
    "  \n",
    "  \n",
    "pandas 패키지의 `read_csv()`를 사용하여 시계열 데이터 세트(호주 의약품 판매에 대한 csv 파일)를 pandas 데이터프레임으로 읽어보자. `parse_dates=['date']` 인자를 추가하면 날짜 열이 `date` 필드로 지정된다."
   ]
  },
  {
   "cell_type": "code",
   "execution_count": 12,
   "metadata": {},
   "outputs": [],
   "source": [
    "from dateutil.parser import parse\n",
    "import matplotlib as mpl\n",
    "import matplotlib.pyplot as plt\n",
    "%matplotlib inline\n",
    "\n",
    "import seaborn as sns\n",
    "import numpy as np\n",
    "import pandas as pd\n",
    "plt.rcParams.update({'figure.figsize': (10,7), 'figure.dpi': 120})"
   ]
  },
  {
   "cell_type": "code",
   "execution_count": 2,
   "metadata": {},
   "outputs": [
    {
     "data": {
      "text/html": [
       "<div>\n",
       "<style scoped>\n",
       "    .dataframe tbody tr th:only-of-type {\n",
       "        vertical-align: middle;\n",
       "    }\n",
       "\n",
       "    .dataframe tbody tr th {\n",
       "        vertical-align: top;\n",
       "    }\n",
       "\n",
       "    .dataframe thead th {\n",
       "        text-align: right;\n",
       "    }\n",
       "</style>\n",
       "<table border=\"1\" class=\"dataframe\">\n",
       "  <thead>\n",
       "    <tr style=\"text-align: right;\">\n",
       "      <th></th>\n",
       "      <th>date</th>\n",
       "      <th>value</th>\n",
       "    </tr>\n",
       "  </thead>\n",
       "  <tbody>\n",
       "    <tr>\n",
       "      <th>0</th>\n",
       "      <td>1991-07-01</td>\n",
       "      <td>3.526591</td>\n",
       "    </tr>\n",
       "    <tr>\n",
       "      <th>1</th>\n",
       "      <td>1991-08-01</td>\n",
       "      <td>3.180891</td>\n",
       "    </tr>\n",
       "    <tr>\n",
       "      <th>2</th>\n",
       "      <td>1991-09-01</td>\n",
       "      <td>3.252221</td>\n",
       "    </tr>\n",
       "    <tr>\n",
       "      <th>3</th>\n",
       "      <td>1991-10-01</td>\n",
       "      <td>3.611003</td>\n",
       "    </tr>\n",
       "    <tr>\n",
       "      <th>4</th>\n",
       "      <td>1991-11-01</td>\n",
       "      <td>3.565869</td>\n",
       "    </tr>\n",
       "  </tbody>\n",
       "</table>\n",
       "</div>"
      ],
      "text/plain": [
       "        date     value\n",
       "0 1991-07-01  3.526591\n",
       "1 1991-08-01  3.180891\n",
       "2 1991-09-01  3.252221\n",
       "3 1991-10-01  3.611003\n",
       "4 1991-11-01  3.565869"
      ]
     },
     "execution_count": 2,
     "metadata": {},
     "output_type": "execute_result"
    }
   ],
   "source": [
    "# Import as Dataframe\n",
    "df = pd.read_csv('https://raw.githubusercontent.com/selva86/datasets/master/a10.csv',\n",
    "                 parse_dates=['date'])\n",
    "df.head()"
   ]
  },
  {
   "cell_type": "markdown",
   "metadata": {},
   "source": [
    "다른 방법으로, `date`를 인덱스로 갖는 pandas 시리즈로 임포트할 수도 있다. `pd.read_csv()`에 `index_col` 인자를 명시하면 된다."
   ]
  },
  {
   "cell_type": "code",
   "execution_count": 4,
   "metadata": {},
   "outputs": [
    {
     "data": {
      "text/html": [
       "<div>\n",
       "<style scoped>\n",
       "    .dataframe tbody tr th:only-of-type {\n",
       "        vertical-align: middle;\n",
       "    }\n",
       "\n",
       "    .dataframe tbody tr th {\n",
       "        vertical-align: top;\n",
       "    }\n",
       "\n",
       "    .dataframe thead th {\n",
       "        text-align: right;\n",
       "    }\n",
       "</style>\n",
       "<table border=\"1\" class=\"dataframe\">\n",
       "  <thead>\n",
       "    <tr style=\"text-align: right;\">\n",
       "      <th></th>\n",
       "      <th>value</th>\n",
       "    </tr>\n",
       "    <tr>\n",
       "      <th>date</th>\n",
       "      <th></th>\n",
       "    </tr>\n",
       "  </thead>\n",
       "  <tbody>\n",
       "    <tr>\n",
       "      <th>1991-07-01</th>\n",
       "      <td>3.526591</td>\n",
       "    </tr>\n",
       "    <tr>\n",
       "      <th>1991-08-01</th>\n",
       "      <td>3.180891</td>\n",
       "    </tr>\n",
       "    <tr>\n",
       "      <th>1991-09-01</th>\n",
       "      <td>3.252221</td>\n",
       "    </tr>\n",
       "    <tr>\n",
       "      <th>1991-10-01</th>\n",
       "      <td>3.611003</td>\n",
       "    </tr>\n",
       "    <tr>\n",
       "      <th>1991-11-01</th>\n",
       "      <td>3.565869</td>\n",
       "    </tr>\n",
       "  </tbody>\n",
       "</table>\n",
       "</div>"
      ],
      "text/plain": [
       "               value\n",
       "date                \n",
       "1991-07-01  3.526591\n",
       "1991-08-01  3.180891\n",
       "1991-09-01  3.252221\n",
       "1991-10-01  3.611003\n",
       "1991-11-01  3.565869"
      ]
     },
     "execution_count": 4,
     "metadata": {},
     "output_type": "execute_result"
    }
   ],
   "source": [
    "ser = pd.read_csv('https://raw.githubusercontent.com/selva86/datasets/master/a10.csv',\n",
    "                   parse_dates=['date'],\n",
    "                   index_col='date'\n",
    "                 )\n",
    "ser.head()"
   ]
  },
  {
   "cell_type": "markdown",
   "metadata": {},
   "source": [
    "시리즈에서는 이것이 시리즈임을 암시하기 위해 'value' 컬럼이 'date' 보다 높게 위치한다."
   ]
  },
  {
   "cell_type": "markdown",
   "metadata": {},
   "source": [
    "<br>"
   ]
  },
  {
   "cell_type": "markdown",
   "metadata": {},
   "source": [
    "# 3. panel 데이터란 무엇인가?\n",
    "\n",
    "panel 데이터도 시간 기반의 데이터셋이다.  \n",
    "  \n",
    "  \n",
    "차이점은 시계열 외에도 같은 시간 동안 측정된 하나 이상의 관련 변수를 포함하고 있다는 것이다.  \n",
    "  \n",
    "  \n",
    "일반적으로 패널 데이터 안에 있는 컬럼들은 Y를 예측하는 데 도움이되는 설명 변수들을 포함하고, 이러한 컬럼들은 미래 예측 기간으로 이용된다.  \n",
    "  \n",
    "  \n",
    "패널 데이터의 예는 다음과 같다."
   ]
  },
  {
   "cell_type": "code",
   "execution_count": 7,
   "metadata": {},
   "outputs": [
    {
     "data": {
      "text/html": [
       "<div>\n",
       "<style scoped>\n",
       "    .dataframe tbody tr th:only-of-type {\n",
       "        vertical-align: middle;\n",
       "    }\n",
       "\n",
       "    .dataframe tbody tr th {\n",
       "        vertical-align: top;\n",
       "    }\n",
       "\n",
       "    .dataframe thead th {\n",
       "        text-align: right;\n",
       "    }\n",
       "</style>\n",
       "<table border=\"1\" class=\"dataframe\">\n",
       "  <thead>\n",
       "    <tr style=\"text-align: right;\">\n",
       "      <th></th>\n",
       "      <th>market</th>\n",
       "      <th>month</th>\n",
       "      <th>year</th>\n",
       "      <th>quantity</th>\n",
       "      <th>priceMin</th>\n",
       "      <th>priceMax</th>\n",
       "      <th>priceMod</th>\n",
       "      <th>state</th>\n",
       "      <th>city</th>\n",
       "      <th>date</th>\n",
       "    </tr>\n",
       "  </thead>\n",
       "  <tbody>\n",
       "    <tr>\n",
       "      <th>6654</th>\n",
       "      <td>MUMBAI</td>\n",
       "      <td>January</td>\n",
       "      <td>2004</td>\n",
       "      <td>267100</td>\n",
       "      <td>719</td>\n",
       "      <td>971</td>\n",
       "      <td>849</td>\n",
       "      <td>MS</td>\n",
       "      <td>MUMBAI</td>\n",
       "      <td>January-2004</td>\n",
       "    </tr>\n",
       "    <tr>\n",
       "      <th>6655</th>\n",
       "      <td>MUMBAI</td>\n",
       "      <td>January</td>\n",
       "      <td>2005</td>\n",
       "      <td>275845</td>\n",
       "      <td>261</td>\n",
       "      <td>513</td>\n",
       "      <td>387</td>\n",
       "      <td>MS</td>\n",
       "      <td>MUMBAI</td>\n",
       "      <td>January-2005</td>\n",
       "    </tr>\n",
       "    <tr>\n",
       "      <th>6656</th>\n",
       "      <td>MUMBAI</td>\n",
       "      <td>January</td>\n",
       "      <td>2006</td>\n",
       "      <td>228000</td>\n",
       "      <td>315</td>\n",
       "      <td>488</td>\n",
       "      <td>402</td>\n",
       "      <td>MS</td>\n",
       "      <td>MUMBAI</td>\n",
       "      <td>January-2006</td>\n",
       "    </tr>\n",
       "    <tr>\n",
       "      <th>6657</th>\n",
       "      <td>MUMBAI</td>\n",
       "      <td>January</td>\n",
       "      <td>2007</td>\n",
       "      <td>205200</td>\n",
       "      <td>866</td>\n",
       "      <td>1136</td>\n",
       "      <td>997</td>\n",
       "      <td>MS</td>\n",
       "      <td>MUMBAI</td>\n",
       "      <td>January-2007</td>\n",
       "    </tr>\n",
       "    <tr>\n",
       "      <th>6658</th>\n",
       "      <td>MUMBAI</td>\n",
       "      <td>January</td>\n",
       "      <td>2008</td>\n",
       "      <td>267550</td>\n",
       "      <td>348</td>\n",
       "      <td>550</td>\n",
       "      <td>448</td>\n",
       "      <td>MS</td>\n",
       "      <td>MUMBAI</td>\n",
       "      <td>January-2008</td>\n",
       "    </tr>\n",
       "  </tbody>\n",
       "</table>\n",
       "</div>"
      ],
      "text/plain": [
       "      market    month  year  quantity  priceMin  priceMax  priceMod state  \\\n",
       "6654  MUMBAI  January  2004    267100       719       971       849    MS   \n",
       "6655  MUMBAI  January  2005    275845       261       513       387    MS   \n",
       "6656  MUMBAI  January  2006    228000       315       488       402    MS   \n",
       "6657  MUMBAI  January  2007    205200       866      1136       997    MS   \n",
       "6658  MUMBAI  January  2008    267550       348       550       448    MS   \n",
       "\n",
       "        city          date  \n",
       "6654  MUMBAI  January-2004  \n",
       "6655  MUMBAI  January-2005  \n",
       "6656  MUMBAI  January-2006  \n",
       "6657  MUMBAI  January-2007  \n",
       "6658  MUMBAI  January-2008  "
      ]
     },
     "execution_count": 7,
     "metadata": {},
     "output_type": "execute_result"
    }
   ],
   "source": [
    "# dataset source: https://github.com/rouseguy\n",
    "df = pd.read_csv('https://raw.githubusercontent.com/selva86/datasets/master/MarketArrivals.csv')\n",
    "df = df.loc[df.market == 'MUMBAI', :]\n",
    "df.head()"
   ]
  },
  {
   "cell_type": "markdown",
   "metadata": {},
   "source": [
    "<br>"
   ]
  },
  {
   "cell_type": "markdown",
   "metadata": {},
   "source": [
    "# 4. 시계열 시각화\n",
    "\n",
    "`matplotlib` 을 이용하여 시리즈를 시각화해보자."
   ]
  },
  {
   "cell_type": "code",
   "execution_count": 8,
   "metadata": {},
   "outputs": [],
   "source": [
    "# Time series data source: fpp package in R.\n",
    "import matplotlib.pyplot as plt\n",
    "\n",
    "df = pd.read_csv('https://raw.githubusercontent.com/selva86/datasets/master/a10.csv',\n",
    "                 parse_dates=['date'],\n",
    "                 index_col='date')"
   ]
  },
  {
   "cell_type": "code",
   "execution_count": 9,
   "metadata": {},
   "outputs": [
    {
     "data": {
      "text/html": [
       "<div>\n",
       "<style scoped>\n",
       "    .dataframe tbody tr th:only-of-type {\n",
       "        vertical-align: middle;\n",
       "    }\n",
       "\n",
       "    .dataframe tbody tr th {\n",
       "        vertical-align: top;\n",
       "    }\n",
       "\n",
       "    .dataframe thead th {\n",
       "        text-align: right;\n",
       "    }\n",
       "</style>\n",
       "<table border=\"1\" class=\"dataframe\">\n",
       "  <thead>\n",
       "    <tr style=\"text-align: right;\">\n",
       "      <th></th>\n",
       "      <th>value</th>\n",
       "    </tr>\n",
       "    <tr>\n",
       "      <th>date</th>\n",
       "      <th></th>\n",
       "    </tr>\n",
       "  </thead>\n",
       "  <tbody>\n",
       "    <tr>\n",
       "      <th>1991-07-01</th>\n",
       "      <td>3.526591</td>\n",
       "    </tr>\n",
       "    <tr>\n",
       "      <th>1991-08-01</th>\n",
       "      <td>3.180891</td>\n",
       "    </tr>\n",
       "    <tr>\n",
       "      <th>1991-09-01</th>\n",
       "      <td>3.252221</td>\n",
       "    </tr>\n",
       "    <tr>\n",
       "      <th>1991-10-01</th>\n",
       "      <td>3.611003</td>\n",
       "    </tr>\n",
       "    <tr>\n",
       "      <th>1991-11-01</th>\n",
       "      <td>3.565869</td>\n",
       "    </tr>\n",
       "  </tbody>\n",
       "</table>\n",
       "</div>"
      ],
      "text/plain": [
       "               value\n",
       "date                \n",
       "1991-07-01  3.526591\n",
       "1991-08-01  3.180891\n",
       "1991-09-01  3.252221\n",
       "1991-10-01  3.611003\n",
       "1991-11-01  3.565869"
      ]
     },
     "execution_count": 9,
     "metadata": {},
     "output_type": "execute_result"
    }
   ],
   "source": [
    "df.head()"
   ]
  },
  {
   "cell_type": "code",
   "execution_count": 10,
   "metadata": {},
   "outputs": [],
   "source": [
    "# Draw Plot\n",
    "def plot_df(df, x, y, title=\"\", xlabel='Date', ylabel='Value', dpi=100) :\n",
    "    \n",
    "    plt.figure(figsize=(16, 5), dpi=dpi)\n",
    "    plt.plot(x, y, color='tab:red')\n",
    "    plt.gca().set(title=title, xlabel=xlabel, ylabel=ylabel)\n",
    "    plt.show()"
   ]
  },
  {
   "cell_type": "code",
   "execution_count": 13,
   "metadata": {},
   "outputs": [
    {
     "data": {
      "image/png": "[encoded data removed]",
      "text/plain": [
       "<Figure size 1600x500 with 1 Axes>"
      ]
     },
     "metadata": {
      "needs_background": "light"
     },
     "output_type": "display_data"
    }
   ],
   "source": [
    "plot_df(df, \n",
    "        x=df.index, \n",
    "        y=df.value, \n",
    "        title=\"Monthly anti-diabetic drug sales in Australia from 1992 to 2008.\")"
   ]
  },
  {
   "cell_type": "markdown",
   "metadata": {},
   "source": [
    "모든 값들이 양수이기 때문에 당신은 Y축 양쪽으로 성장을 강조하는 모습을 볼 수 있다."
   ]
  },
  {
   "cell_type": "code",
   "execution_count": null,
   "metadata": {},
   "outputs": [],
   "source": [
    "# Import data\n",
    "df = pd.read_csv('datasets')"
   ]
  }
 ],
 "metadata": {
  "kernelspec": {
   "display_name": "Python 3",
   "language": "python",
   "name": "python3"
  },
  "language_info": {
   "codemirror_mode": {
    "name": "ipython",
    "version": 3
   },
   "file_extension": ".py",
   "mimetype": "text/x-python",
   "name": "python",
   "nbconvert_exporter": "python",
   "pygments_lexer": "ipython3",
   "version": "3.6.8"
  }
 },
 "nbformat": 4,
 "nbformat_minor": 2
}
